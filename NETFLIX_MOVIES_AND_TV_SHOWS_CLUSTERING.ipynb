{
  "cells": [
    {
      "cell_type": "markdown",
      "metadata": {
        "id": "view-in-github",
        "colab_type": "text"
      },
      "source": [
        "<a href=\"https://colab.research.google.com/github/mohita122/hotel_booking_capstone/blob/main/NETFLIX_MOVIES_AND_TV_SHOWS_CLUSTERING.ipynb\" target=\"_parent\"><img src=\"https://colab.research.google.com/assets/colab-badge.svg\" alt=\"Open In Colab\"/></a>"
      ]
    },
    {
      "cell_type": "markdown",
      "metadata": {
        "id": "LGcl5Bv9ed6u"
      },
      "source": [
        "# **Problem Statement**"
      ]
    },
    {
      "cell_type": "markdown",
      "metadata": {
        "id": "8M5kyFaVjzXk"
      },
      "source": [
        "This dataset consists of tv shows and movies available on Netflix as of 2019. The dataset is collected from Flixable which is a third-party Netflix search engine.\n",
        "\n",
        "In 2018, they released an interesting report which shows that the number of TV shows on Netflix has nearly tripled since 2010. The streaming service’s number of movies has decreased by more than 2,000 titles since 2010, while its number of TV shows has nearly tripled. It will be interesting to explore what all other insights can be obtained from the same dataset.\n",
        "\n",
        "Integrating this dataset with other external datasets such as IMDB ratings, rotten tomatoes can also provide many interesting findings."
      ]
    },
    {
      "cell_type": "markdown",
      "metadata": {
        "id": "tLx5cJO8hzb1"
      },
      "source": [
        "## <b>In this  project, you are required to do </b>\n",
        "1. Exploratory Data Analysis \n",
        "\n",
        "2. Understanding what type content is available in different countries\n",
        "\n",
        "3. Is Netflix has increasingly focusing on TV rather than movies in recent years.\n",
        "4. Clustering similar content by matching text-based features\n",
        "\n"
      ]
    },
    {
      "cell_type": "markdown",
      "metadata": {
        "id": "AzGDqdC4fZ-b"
      },
      "source": [
        "# **Attribute Information**"
      ]
    },
    {
      "cell_type": "markdown",
      "metadata": {
        "id": "jhfLYargscGV"
      },
      "source": [
        "1. show_id : Unique ID for every Movie / Tv Show\n",
        "\n",
        "2. type : Identifier - A Movie or TV Show\n",
        "\n",
        "3. title : Title of the Movie / Tv Show\n",
        "\n",
        "4. director : Director of the Movie\n",
        "\n",
        "5. cast : Actors involved in the movie / show\n",
        "\n",
        "6. country : Country where the movie / show was produced\n",
        "\n",
        "7. date_added : Date it was added on Netflix\n",
        "\n",
        "8. release_year : Actual Releaseyear of the movie / show\n",
        "\n",
        "9. rating : TV Rating of the movie / show\n",
        "\n",
        "10. duration : Total Duration - in minutes or number of seasons\n",
        "\n",
        "11. listed_in : Genere\n",
        "\n",
        "12. description: The Summary description"
      ]
    },
    {
      "cell_type": "code",
      "execution_count": 5,
      "metadata": {
        "colab": {
          "base_uri": "https://localhost:8080/"
        },
        "id": "J0LfgqBj4v1F",
        "outputId": "12bb8634-b73d-4a5c-d04f-f410f23fa2e6"
      },
      "outputs": [
        {
          "output_type": "stream",
          "name": "stderr",
          "text": [
            "[nltk_data] Downloading package punkt to /root/nltk_data...\n",
            "[nltk_data]   Package punkt is already up-to-date!\n",
            "[nltk_data] Downloading package stopwords to /root/nltk_data...\n",
            "[nltk_data]   Package stopwords is already up-to-date!\n"
          ]
        }
      ],
      "source": [
        "#Importing the libraries\n",
        "import pandas as pd\n",
        "import numpy as np\n",
        "import pylab as pl\n",
        "import spacy\n",
        "import sklearn\n",
        "import en_core_web_sm\n",
        "import re\n",
        "import string\n",
        "import matplotlib.pyplot as plt\n",
        "import plotly.graph_objects as go\n",
        "import plotly.express as px\n",
        "from plotly.subplots import make_subplots\n",
        "from collections import Counter\n",
        "import seaborn as sns\n",
        "from datetime import datetime\n",
        "import warnings\n",
        "warnings.filterwarnings('ignore')\n",
        "\n",
        "from nltk.corpus import stopwords  #stopwords\n",
        "from nltk.tokenize import word_tokenize # tokenizing\n",
        "from nltk.stem import PorterStemmer,LancasterStemmer  # using the Porter Stemmer and Lancaster Stemmer and others\n",
        "from nltk.stem.snowball import SnowballStemmer\n",
        "from nltk.stem import WordNetLemmatizer  # lammatizer from WordNet\n",
        "import nltk \n",
        "nltk.download('punkt')\n",
        "\n",
        "# for named entity recognition (NER)\n",
        "from nltk import ne_chunk\n",
        "\n",
        "\n",
        "# vectorizers for creating the document-term-matrix (DTM)\n",
        "from sklearn.feature_extraction.text import TfidfVectorizer,CountVectorizer\n",
        "from sklearn.decomposition import TruncatedSVD\n",
        "\n",
        "#stop-words\n",
        "nltk.download('stopwords')\n",
        "from nltk.corpus import stopwords\n",
        "STOPWORDS = set(stopwords.words('english'))\n",
        "from sklearn.decomposition import LatentDirichletAllocation\n",
        "from wordcloud import WordCloud\n",
        "from sklearn.cluster import KMeans\n",
        "from sklearn.decomposition import PCA\n",
        "from sklearn.metrics.pairwise import linear_kernel\n",
        "from sklearn.preprocessing import StandardScaler\n",
        "from yellowbrick.cluster import KElbowVisualizer\n",
        "\n",
        "# Importing libraries for clustering\n",
        "import matplotlib.cm as cm\n",
        "from sklearn import metrics\n",
        "from sklearn.preprocessing import LabelEncoder\n",
        "from sklearn.preprocessing import StandardScaler\n",
        "from sklearn.decomposition import PCA\n",
        "#from scipy.cluster.hierarchy import linkage\n",
        "from sklearn.cluster import AgglomerativeClustering\n",
        "from sklearn.datasets import make_blobs\n",
        "from sklearn.metrics import silhouette_samples, silhouette_score\n",
        "from sklearn.preprocessing import MultiLabelBinarizer\n",
        "from sklearn.preprocessing import OneHotEncoder\n",
        "import scipy.cluster.hierarchy as sch"
      ]
    },
    {
      "cell_type": "code",
      "execution_count": 6,
      "metadata": {
        "id": "6Ule64Cl5gml",
        "colab": {
          "base_uri": "https://localhost:8080/"
        },
        "outputId": "5e069f2e-e1ba-4476-d18a-4a621e8f17e7"
      },
      "outputs": [
        {
          "output_type": "stream",
          "name": "stdout",
          "text": [
            "Drive already mounted at /content/drive; to attempt to forcibly remount, call drive.mount(\"/content/drive\", force_remount=True).\n"
          ]
        }
      ],
      "source": [
        "from google.colab import drive\n",
        "drive.mount('/content/drive')"
      ]
    },
    {
      "cell_type": "code",
      "execution_count": 7,
      "metadata": {
        "id": "Z92YD75B5l7U",
        "colab": {
          "base_uri": "https://localhost:8080/",
          "height": 337
        },
        "outputId": "483f7bdc-0463-4c97-b2cc-d14caa4c428d"
      },
      "outputs": [
        {
          "output_type": "execute_result",
          "data": {
            "text/plain": [
              "  show_id     type  title           director  \\\n",
              "0      s1  TV Show     3%                NaN   \n",
              "1      s2    Movie   7:19  Jorge Michel Grau   \n",
              "2      s3    Movie  23:59       Gilbert Chan   \n",
              "3      s4    Movie      9        Shane Acker   \n",
              "4      s5    Movie     21     Robert Luketic   \n",
              "\n",
              "                                                cast        country  \\\n",
              "0  João Miguel, Bianca Comparato, Michel Gomes, R...         Brazil   \n",
              "1  Demián Bichir, Héctor Bonilla, Oscar Serrano, ...         Mexico   \n",
              "2  Tedd Chan, Stella Chung, Henley Hii, Lawrence ...      Singapore   \n",
              "3  Elijah Wood, John C. Reilly, Jennifer Connelly...  United States   \n",
              "4  Jim Sturgess, Kevin Spacey, Kate Bosworth, Aar...  United States   \n",
              "\n",
              "          date_added  release_year rating   duration  \\\n",
              "0    August 14, 2020          2020  TV-MA  4 Seasons   \n",
              "1  December 23, 2016          2016  TV-MA     93 min   \n",
              "2  December 20, 2018          2011      R     78 min   \n",
              "3  November 16, 2017          2009  PG-13     80 min   \n",
              "4    January 1, 2020          2008  PG-13    123 min   \n",
              "\n",
              "                                           listed_in  \\\n",
              "0  International TV Shows, TV Dramas, TV Sci-Fi &...   \n",
              "1                       Dramas, International Movies   \n",
              "2                Horror Movies, International Movies   \n",
              "3  Action & Adventure, Independent Movies, Sci-Fi...   \n",
              "4                                             Dramas   \n",
              "\n",
              "                                         description  \n",
              "0  In a future where the elite inhabit an island ...  \n",
              "1  After a devastating earthquake hits Mexico Cit...  \n",
              "2  When an army recruit is found dead, his fellow...  \n",
              "3  In a postapocalyptic world, rag-doll robots hi...  \n",
              "4  A brilliant group of students become card-coun...  "
            ],
            "text/html": [
              "\n",
              "  <div id=\"df-5301203a-207d-4f53-9e56-035c92e4f036\">\n",
              "    <div class=\"colab-df-container\">\n",
              "      <div>\n",
              "<style scoped>\n",
              "    .dataframe tbody tr th:only-of-type {\n",
              "        vertical-align: middle;\n",
              "    }\n",
              "\n",
              "    .dataframe tbody tr th {\n",
              "        vertical-align: top;\n",
              "    }\n",
              "\n",
              "    .dataframe thead th {\n",
              "        text-align: right;\n",
              "    }\n",
              "</style>\n",
              "<table border=\"1\" class=\"dataframe\">\n",
              "  <thead>\n",
              "    <tr style=\"text-align: right;\">\n",
              "      <th></th>\n",
              "      <th>show_id</th>\n",
              "      <th>type</th>\n",
              "      <th>title</th>\n",
              "      <th>director</th>\n",
              "      <th>cast</th>\n",
              "      <th>country</th>\n",
              "      <th>date_added</th>\n",
              "      <th>release_year</th>\n",
              "      <th>rating</th>\n",
              "      <th>duration</th>\n",
              "      <th>listed_in</th>\n",
              "      <th>description</th>\n",
              "    </tr>\n",
              "  </thead>\n",
              "  <tbody>\n",
              "    <tr>\n",
              "      <th>0</th>\n",
              "      <td>s1</td>\n",
              "      <td>TV Show</td>\n",
              "      <td>3%</td>\n",
              "      <td>NaN</td>\n",
              "      <td>João Miguel, Bianca Comparato, Michel Gomes, R...</td>\n",
              "      <td>Brazil</td>\n",
              "      <td>August 14, 2020</td>\n",
              "      <td>2020</td>\n",
              "      <td>TV-MA</td>\n",
              "      <td>4 Seasons</td>\n",
              "      <td>International TV Shows, TV Dramas, TV Sci-Fi &amp;...</td>\n",
              "      <td>In a future where the elite inhabit an island ...</td>\n",
              "    </tr>\n",
              "    <tr>\n",
              "      <th>1</th>\n",
              "      <td>s2</td>\n",
              "      <td>Movie</td>\n",
              "      <td>7:19</td>\n",
              "      <td>Jorge Michel Grau</td>\n",
              "      <td>Demián Bichir, Héctor Bonilla, Oscar Serrano, ...</td>\n",
              "      <td>Mexico</td>\n",
              "      <td>December 23, 2016</td>\n",
              "      <td>2016</td>\n",
              "      <td>TV-MA</td>\n",
              "      <td>93 min</td>\n",
              "      <td>Dramas, International Movies</td>\n",
              "      <td>After a devastating earthquake hits Mexico Cit...</td>\n",
              "    </tr>\n",
              "    <tr>\n",
              "      <th>2</th>\n",
              "      <td>s3</td>\n",
              "      <td>Movie</td>\n",
              "      <td>23:59</td>\n",
              "      <td>Gilbert Chan</td>\n",
              "      <td>Tedd Chan, Stella Chung, Henley Hii, Lawrence ...</td>\n",
              "      <td>Singapore</td>\n",
              "      <td>December 20, 2018</td>\n",
              "      <td>2011</td>\n",
              "      <td>R</td>\n",
              "      <td>78 min</td>\n",
              "      <td>Horror Movies, International Movies</td>\n",
              "      <td>When an army recruit is found dead, his fellow...</td>\n",
              "    </tr>\n",
              "    <tr>\n",
              "      <th>3</th>\n",
              "      <td>s4</td>\n",
              "      <td>Movie</td>\n",
              "      <td>9</td>\n",
              "      <td>Shane Acker</td>\n",
              "      <td>Elijah Wood, John C. Reilly, Jennifer Connelly...</td>\n",
              "      <td>United States</td>\n",
              "      <td>November 16, 2017</td>\n",
              "      <td>2009</td>\n",
              "      <td>PG-13</td>\n",
              "      <td>80 min</td>\n",
              "      <td>Action &amp; Adventure, Independent Movies, Sci-Fi...</td>\n",
              "      <td>In a postapocalyptic world, rag-doll robots hi...</td>\n",
              "    </tr>\n",
              "    <tr>\n",
              "      <th>4</th>\n",
              "      <td>s5</td>\n",
              "      <td>Movie</td>\n",
              "      <td>21</td>\n",
              "      <td>Robert Luketic</td>\n",
              "      <td>Jim Sturgess, Kevin Spacey, Kate Bosworth, Aar...</td>\n",
              "      <td>United States</td>\n",
              "      <td>January 1, 2020</td>\n",
              "      <td>2008</td>\n",
              "      <td>PG-13</td>\n",
              "      <td>123 min</td>\n",
              "      <td>Dramas</td>\n",
              "      <td>A brilliant group of students become card-coun...</td>\n",
              "    </tr>\n",
              "  </tbody>\n",
              "</table>\n",
              "</div>\n",
              "      <button class=\"colab-df-convert\" onclick=\"convertToInteractive('df-5301203a-207d-4f53-9e56-035c92e4f036')\"\n",
              "              title=\"Convert this dataframe to an interactive table.\"\n",
              "              style=\"display:none;\">\n",
              "        \n",
              "  <svg xmlns=\"http://www.w3.org/2000/svg\" height=\"24px\"viewBox=\"0 0 24 24\"\n",
              "       width=\"24px\">\n",
              "    <path d=\"M0 0h24v24H0V0z\" fill=\"none\"/>\n",
              "    <path d=\"M18.56 5.44l.94 2.06.94-2.06 2.06-.94-2.06-.94-.94-2.06-.94 2.06-2.06.94zm-11 1L8.5 8.5l.94-2.06 2.06-.94-2.06-.94L8.5 2.5l-.94 2.06-2.06.94zm10 10l.94 2.06.94-2.06 2.06-.94-2.06-.94-.94-2.06-.94 2.06-2.06.94z\"/><path d=\"M17.41 7.96l-1.37-1.37c-.4-.4-.92-.59-1.43-.59-.52 0-1.04.2-1.43.59L10.3 9.45l-7.72 7.72c-.78.78-.78 2.05 0 2.83L4 21.41c.39.39.9.59 1.41.59.51 0 1.02-.2 1.41-.59l7.78-7.78 2.81-2.81c.8-.78.8-2.07 0-2.86zM5.41 20L4 18.59l7.72-7.72 1.47 1.35L5.41 20z\"/>\n",
              "  </svg>\n",
              "      </button>\n",
              "      \n",
              "  <style>\n",
              "    .colab-df-container {\n",
              "      display:flex;\n",
              "      flex-wrap:wrap;\n",
              "      gap: 12px;\n",
              "    }\n",
              "\n",
              "    .colab-df-convert {\n",
              "      background-color: #E8F0FE;\n",
              "      border: none;\n",
              "      border-radius: 50%;\n",
              "      cursor: pointer;\n",
              "      display: none;\n",
              "      fill: #1967D2;\n",
              "      height: 32px;\n",
              "      padding: 0 0 0 0;\n",
              "      width: 32px;\n",
              "    }\n",
              "\n",
              "    .colab-df-convert:hover {\n",
              "      background-color: #E2EBFA;\n",
              "      box-shadow: 0px 1px 2px rgba(60, 64, 67, 0.3), 0px 1px 3px 1px rgba(60, 64, 67, 0.15);\n",
              "      fill: #174EA6;\n",
              "    }\n",
              "\n",
              "    [theme=dark] .colab-df-convert {\n",
              "      background-color: #3B4455;\n",
              "      fill: #D2E3FC;\n",
              "    }\n",
              "\n",
              "    [theme=dark] .colab-df-convert:hover {\n",
              "      background-color: #434B5C;\n",
              "      box-shadow: 0px 1px 3px 1px rgba(0, 0, 0, 0.15);\n",
              "      filter: drop-shadow(0px 1px 2px rgba(0, 0, 0, 0.3));\n",
              "      fill: #FFFFFF;\n",
              "    }\n",
              "  </style>\n",
              "\n",
              "      <script>\n",
              "        const buttonEl =\n",
              "          document.querySelector('#df-5301203a-207d-4f53-9e56-035c92e4f036 button.colab-df-convert');\n",
              "        buttonEl.style.display =\n",
              "          google.colab.kernel.accessAllowed ? 'block' : 'none';\n",
              "\n",
              "        async function convertToInteractive(key) {\n",
              "          const element = document.querySelector('#df-5301203a-207d-4f53-9e56-035c92e4f036');\n",
              "          const dataTable =\n",
              "            await google.colab.kernel.invokeFunction('convertToInteractive',\n",
              "                                                     [key], {});\n",
              "          if (!dataTable) return;\n",
              "\n",
              "          const docLinkHtml = 'Like what you see? Visit the ' +\n",
              "            '<a target=\"_blank\" href=https://colab.research.google.com/notebooks/data_table.ipynb>data table notebook</a>'\n",
              "            + ' to learn more about interactive tables.';\n",
              "          element.innerHTML = '';\n",
              "          dataTable['output_type'] = 'display_data';\n",
              "          await google.colab.output.renderOutput(dataTable, element);\n",
              "          const docLink = document.createElement('div');\n",
              "          docLink.innerHTML = docLinkHtml;\n",
              "          element.appendChild(docLink);\n",
              "        }\n",
              "      </script>\n",
              "    </div>\n",
              "  </div>\n",
              "  "
            ]
          },
          "metadata": {},
          "execution_count": 7
        }
      ],
      "source": [
        "df = pd.read_csv('/content/drive/MyDrive/almabetter/NETFLIX MOVIES AND TV SHOWS CLUSTERING (1).csv')\n",
        "df.head()"
      ]
    },
    {
      "cell_type": "markdown",
      "metadata": {
        "id": "LBRRVeLo6IZl"
      },
      "source": [
        "## **Data study**"
      ]
    },
    {
      "cell_type": "code",
      "execution_count": 8,
      "metadata": {
        "id": "wdIxLvvQ6o_E",
        "colab": {
          "base_uri": "https://localhost:8080/"
        },
        "outputId": "b171ba3f-e585-4a1d-bff4-f7a8f23c930b"
      },
      "outputs": [
        {
          "output_type": "execute_result",
          "data": {
            "text/plain": [
              "(7787, 12)"
            ]
          },
          "metadata": {},
          "execution_count": 8
        }
      ],
      "source": [
        "df.shape"
      ]
    },
    {
      "cell_type": "code",
      "execution_count": 9,
      "metadata": {
        "id": "d8MEXFym6pCc",
        "colab": {
          "base_uri": "https://localhost:8080/"
        },
        "outputId": "665a6638-0a7f-499f-f39a-b44c1780067a"
      },
      "outputs": [
        {
          "output_type": "execute_result",
          "data": {
            "text/plain": [
              "Index(['show_id', 'type', 'title', 'director', 'cast', 'country', 'date_added',\n",
              "       'release_year', 'rating', 'duration', 'listed_in', 'description'],\n",
              "      dtype='object')"
            ]
          },
          "metadata": {},
          "execution_count": 9
        }
      ],
      "source": [
        "df.columns"
      ]
    },
    {
      "cell_type": "code",
      "execution_count": 10,
      "metadata": {
        "id": "u51okDPk5-SU",
        "colab": {
          "base_uri": "https://localhost:8080/"
        },
        "outputId": "8ef3d1d7-97ce-4b2e-c465-a096b1e2b051"
      },
      "outputs": [
        {
          "output_type": "stream",
          "name": "stdout",
          "text": [
            "<class 'pandas.core.frame.DataFrame'>\n",
            "RangeIndex: 7787 entries, 0 to 7786\n",
            "Data columns (total 12 columns):\n",
            " #   Column        Non-Null Count  Dtype \n",
            "---  ------        --------------  ----- \n",
            " 0   show_id       7787 non-null   object\n",
            " 1   type          7787 non-null   object\n",
            " 2   title         7787 non-null   object\n",
            " 3   director      5398 non-null   object\n",
            " 4   cast          7069 non-null   object\n",
            " 5   country       7280 non-null   object\n",
            " 6   date_added    7777 non-null   object\n",
            " 7   release_year  7787 non-null   int64 \n",
            " 8   rating        7780 non-null   object\n",
            " 9   duration      7787 non-null   object\n",
            " 10  listed_in     7787 non-null   object\n",
            " 11  description   7787 non-null   object\n",
            "dtypes: int64(1), object(11)\n",
            "memory usage: 730.2+ KB\n"
          ]
        }
      ],
      "source": [
        "df.info()"
      ]
    },
    {
      "cell_type": "code",
      "execution_count": 11,
      "metadata": {
        "id": "DwOU-vlu6NL8",
        "colab": {
          "base_uri": "https://localhost:8080/",
          "height": 175
        },
        "outputId": "c0e6dc52-7658-481b-d974-37eebd6770c3"
      },
      "outputs": [
        {
          "output_type": "execute_result",
          "data": {
            "text/plain": [
              "       show_id   type title                director                cast  \\\n",
              "count     7787   7787  7787                    5398                7069   \n",
              "unique    7787      2  7787                    4049                6831   \n",
              "top         s1  Movie    3%  Raúl Campos, Jan Suter  David Attenborough   \n",
              "freq         1   5377     1                      18                  18   \n",
              "\n",
              "              country       date_added rating  duration      listed_in  \\\n",
              "count            7280             7777   7780      7787           7787   \n",
              "unique            681             1565     14       216            492   \n",
              "top     United States  January 1, 2020  TV-MA  1 Season  Documentaries   \n",
              "freq             2555              118   2863      1608            334   \n",
              "\n",
              "                                              description  \n",
              "count                                                7787  \n",
              "unique                                               7769  \n",
              "top     Multiple women report their husbands as missin...  \n",
              "freq                                                    3  "
            ],
            "text/html": [
              "\n",
              "  <div id=\"df-337b619d-1dc7-4725-a136-10064aa54496\">\n",
              "    <div class=\"colab-df-container\">\n",
              "      <div>\n",
              "<style scoped>\n",
              "    .dataframe tbody tr th:only-of-type {\n",
              "        vertical-align: middle;\n",
              "    }\n",
              "\n",
              "    .dataframe tbody tr th {\n",
              "        vertical-align: top;\n",
              "    }\n",
              "\n",
              "    .dataframe thead th {\n",
              "        text-align: right;\n",
              "    }\n",
              "</style>\n",
              "<table border=\"1\" class=\"dataframe\">\n",
              "  <thead>\n",
              "    <tr style=\"text-align: right;\">\n",
              "      <th></th>\n",
              "      <th>show_id</th>\n",
              "      <th>type</th>\n",
              "      <th>title</th>\n",
              "      <th>director</th>\n",
              "      <th>cast</th>\n",
              "      <th>country</th>\n",
              "      <th>date_added</th>\n",
              "      <th>rating</th>\n",
              "      <th>duration</th>\n",
              "      <th>listed_in</th>\n",
              "      <th>description</th>\n",
              "    </tr>\n",
              "  </thead>\n",
              "  <tbody>\n",
              "    <tr>\n",
              "      <th>count</th>\n",
              "      <td>7787</td>\n",
              "      <td>7787</td>\n",
              "      <td>7787</td>\n",
              "      <td>5398</td>\n",
              "      <td>7069</td>\n",
              "      <td>7280</td>\n",
              "      <td>7777</td>\n",
              "      <td>7780</td>\n",
              "      <td>7787</td>\n",
              "      <td>7787</td>\n",
              "      <td>7787</td>\n",
              "    </tr>\n",
              "    <tr>\n",
              "      <th>unique</th>\n",
              "      <td>7787</td>\n",
              "      <td>2</td>\n",
              "      <td>7787</td>\n",
              "      <td>4049</td>\n",
              "      <td>6831</td>\n",
              "      <td>681</td>\n",
              "      <td>1565</td>\n",
              "      <td>14</td>\n",
              "      <td>216</td>\n",
              "      <td>492</td>\n",
              "      <td>7769</td>\n",
              "    </tr>\n",
              "    <tr>\n",
              "      <th>top</th>\n",
              "      <td>s1</td>\n",
              "      <td>Movie</td>\n",
              "      <td>3%</td>\n",
              "      <td>Raúl Campos, Jan Suter</td>\n",
              "      <td>David Attenborough</td>\n",
              "      <td>United States</td>\n",
              "      <td>January 1, 2020</td>\n",
              "      <td>TV-MA</td>\n",
              "      <td>1 Season</td>\n",
              "      <td>Documentaries</td>\n",
              "      <td>Multiple women report their husbands as missin...</td>\n",
              "    </tr>\n",
              "    <tr>\n",
              "      <th>freq</th>\n",
              "      <td>1</td>\n",
              "      <td>5377</td>\n",
              "      <td>1</td>\n",
              "      <td>18</td>\n",
              "      <td>18</td>\n",
              "      <td>2555</td>\n",
              "      <td>118</td>\n",
              "      <td>2863</td>\n",
              "      <td>1608</td>\n",
              "      <td>334</td>\n",
              "      <td>3</td>\n",
              "    </tr>\n",
              "  </tbody>\n",
              "</table>\n",
              "</div>\n",
              "      <button class=\"colab-df-convert\" onclick=\"convertToInteractive('df-337b619d-1dc7-4725-a136-10064aa54496')\"\n",
              "              title=\"Convert this dataframe to an interactive table.\"\n",
              "              style=\"display:none;\">\n",
              "        \n",
              "  <svg xmlns=\"http://www.w3.org/2000/svg\" height=\"24px\"viewBox=\"0 0 24 24\"\n",
              "       width=\"24px\">\n",
              "    <path d=\"M0 0h24v24H0V0z\" fill=\"none\"/>\n",
              "    <path d=\"M18.56 5.44l.94 2.06.94-2.06 2.06-.94-2.06-.94-.94-2.06-.94 2.06-2.06.94zm-11 1L8.5 8.5l.94-2.06 2.06-.94-2.06-.94L8.5 2.5l-.94 2.06-2.06.94zm10 10l.94 2.06.94-2.06 2.06-.94-2.06-.94-.94-2.06-.94 2.06-2.06.94z\"/><path d=\"M17.41 7.96l-1.37-1.37c-.4-.4-.92-.59-1.43-.59-.52 0-1.04.2-1.43.59L10.3 9.45l-7.72 7.72c-.78.78-.78 2.05 0 2.83L4 21.41c.39.39.9.59 1.41.59.51 0 1.02-.2 1.41-.59l7.78-7.78 2.81-2.81c.8-.78.8-2.07 0-2.86zM5.41 20L4 18.59l7.72-7.72 1.47 1.35L5.41 20z\"/>\n",
              "  </svg>\n",
              "      </button>\n",
              "      \n",
              "  <style>\n",
              "    .colab-df-container {\n",
              "      display:flex;\n",
              "      flex-wrap:wrap;\n",
              "      gap: 12px;\n",
              "    }\n",
              "\n",
              "    .colab-df-convert {\n",
              "      background-color: #E8F0FE;\n",
              "      border: none;\n",
              "      border-radius: 50%;\n",
              "      cursor: pointer;\n",
              "      display: none;\n",
              "      fill: #1967D2;\n",
              "      height: 32px;\n",
              "      padding: 0 0 0 0;\n",
              "      width: 32px;\n",
              "    }\n",
              "\n",
              "    .colab-df-convert:hover {\n",
              "      background-color: #E2EBFA;\n",
              "      box-shadow: 0px 1px 2px rgba(60, 64, 67, 0.3), 0px 1px 3px 1px rgba(60, 64, 67, 0.15);\n",
              "      fill: #174EA6;\n",
              "    }\n",
              "\n",
              "    [theme=dark] .colab-df-convert {\n",
              "      background-color: #3B4455;\n",
              "      fill: #D2E3FC;\n",
              "    }\n",
              "\n",
              "    [theme=dark] .colab-df-convert:hover {\n",
              "      background-color: #434B5C;\n",
              "      box-shadow: 0px 1px 3px 1px rgba(0, 0, 0, 0.15);\n",
              "      filter: drop-shadow(0px 1px 2px rgba(0, 0, 0, 0.3));\n",
              "      fill: #FFFFFF;\n",
              "    }\n",
              "  </style>\n",
              "\n",
              "      <script>\n",
              "        const buttonEl =\n",
              "          document.querySelector('#df-337b619d-1dc7-4725-a136-10064aa54496 button.colab-df-convert');\n",
              "        buttonEl.style.display =\n",
              "          google.colab.kernel.accessAllowed ? 'block' : 'none';\n",
              "\n",
              "        async function convertToInteractive(key) {\n",
              "          const element = document.querySelector('#df-337b619d-1dc7-4725-a136-10064aa54496');\n",
              "          const dataTable =\n",
              "            await google.colab.kernel.invokeFunction('convertToInteractive',\n",
              "                                                     [key], {});\n",
              "          if (!dataTable) return;\n",
              "\n",
              "          const docLinkHtml = 'Like what you see? Visit the ' +\n",
              "            '<a target=\"_blank\" href=https://colab.research.google.com/notebooks/data_table.ipynb>data table notebook</a>'\n",
              "            + ' to learn more about interactive tables.';\n",
              "          element.innerHTML = '';\n",
              "          dataTable['output_type'] = 'display_data';\n",
              "          await google.colab.output.renderOutput(dataTable, element);\n",
              "          const docLink = document.createElement('div');\n",
              "          docLink.innerHTML = docLinkHtml;\n",
              "          element.appendChild(docLink);\n",
              "        }\n",
              "      </script>\n",
              "    </div>\n",
              "  </div>\n",
              "  "
            ]
          },
          "metadata": {},
          "execution_count": 11
        }
      ],
      "source": [
        "df.describe(include ='O')"
      ]
    },
    {
      "cell_type": "code",
      "execution_count": 12,
      "metadata": {
        "id": "hVhpSe-u7Kb0",
        "colab": {
          "base_uri": "https://localhost:8080/",
          "height": 50
        },
        "outputId": "6d3dcf04-b0c2-46a1-aecb-040ac348ba7f"
      },
      "outputs": [
        {
          "output_type": "execute_result",
          "data": {
            "text/plain": [
              "Empty DataFrame\n",
              "Columns: [show_id, type, title, director, cast, country, date_added, release_year, rating, duration, listed_in, description]\n",
              "Index: []"
            ],
            "text/html": [
              "\n",
              "  <div id=\"df-87a4a557-8553-46f6-bf24-619e6568f17c\">\n",
              "    <div class=\"colab-df-container\">\n",
              "      <div>\n",
              "<style scoped>\n",
              "    .dataframe tbody tr th:only-of-type {\n",
              "        vertical-align: middle;\n",
              "    }\n",
              "\n",
              "    .dataframe tbody tr th {\n",
              "        vertical-align: top;\n",
              "    }\n",
              "\n",
              "    .dataframe thead th {\n",
              "        text-align: right;\n",
              "    }\n",
              "</style>\n",
              "<table border=\"1\" class=\"dataframe\">\n",
              "  <thead>\n",
              "    <tr style=\"text-align: right;\">\n",
              "      <th></th>\n",
              "      <th>show_id</th>\n",
              "      <th>type</th>\n",
              "      <th>title</th>\n",
              "      <th>director</th>\n",
              "      <th>cast</th>\n",
              "      <th>country</th>\n",
              "      <th>date_added</th>\n",
              "      <th>release_year</th>\n",
              "      <th>rating</th>\n",
              "      <th>duration</th>\n",
              "      <th>listed_in</th>\n",
              "      <th>description</th>\n",
              "    </tr>\n",
              "  </thead>\n",
              "  <tbody>\n",
              "  </tbody>\n",
              "</table>\n",
              "</div>\n",
              "      <button class=\"colab-df-convert\" onclick=\"convertToInteractive('df-87a4a557-8553-46f6-bf24-619e6568f17c')\"\n",
              "              title=\"Convert this dataframe to an interactive table.\"\n",
              "              style=\"display:none;\">\n",
              "        \n",
              "  <svg xmlns=\"http://www.w3.org/2000/svg\" height=\"24px\"viewBox=\"0 0 24 24\"\n",
              "       width=\"24px\">\n",
              "    <path d=\"M0 0h24v24H0V0z\" fill=\"none\"/>\n",
              "    <path d=\"M18.56 5.44l.94 2.06.94-2.06 2.06-.94-2.06-.94-.94-2.06-.94 2.06-2.06.94zm-11 1L8.5 8.5l.94-2.06 2.06-.94-2.06-.94L8.5 2.5l-.94 2.06-2.06.94zm10 10l.94 2.06.94-2.06 2.06-.94-2.06-.94-.94-2.06-.94 2.06-2.06.94z\"/><path d=\"M17.41 7.96l-1.37-1.37c-.4-.4-.92-.59-1.43-.59-.52 0-1.04.2-1.43.59L10.3 9.45l-7.72 7.72c-.78.78-.78 2.05 0 2.83L4 21.41c.39.39.9.59 1.41.59.51 0 1.02-.2 1.41-.59l7.78-7.78 2.81-2.81c.8-.78.8-2.07 0-2.86zM5.41 20L4 18.59l7.72-7.72 1.47 1.35L5.41 20z\"/>\n",
              "  </svg>\n",
              "      </button>\n",
              "      \n",
              "  <style>\n",
              "    .colab-df-container {\n",
              "      display:flex;\n",
              "      flex-wrap:wrap;\n",
              "      gap: 12px;\n",
              "    }\n",
              "\n",
              "    .colab-df-convert {\n",
              "      background-color: #E8F0FE;\n",
              "      border: none;\n",
              "      border-radius: 50%;\n",
              "      cursor: pointer;\n",
              "      display: none;\n",
              "      fill: #1967D2;\n",
              "      height: 32px;\n",
              "      padding: 0 0 0 0;\n",
              "      width: 32px;\n",
              "    }\n",
              "\n",
              "    .colab-df-convert:hover {\n",
              "      background-color: #E2EBFA;\n",
              "      box-shadow: 0px 1px 2px rgba(60, 64, 67, 0.3), 0px 1px 3px 1px rgba(60, 64, 67, 0.15);\n",
              "      fill: #174EA6;\n",
              "    }\n",
              "\n",
              "    [theme=dark] .colab-df-convert {\n",
              "      background-color: #3B4455;\n",
              "      fill: #D2E3FC;\n",
              "    }\n",
              "\n",
              "    [theme=dark] .colab-df-convert:hover {\n",
              "      background-color: #434B5C;\n",
              "      box-shadow: 0px 1px 3px 1px rgba(0, 0, 0, 0.15);\n",
              "      filter: drop-shadow(0px 1px 2px rgba(0, 0, 0, 0.3));\n",
              "      fill: #FFFFFF;\n",
              "    }\n",
              "  </style>\n",
              "\n",
              "      <script>\n",
              "        const buttonEl =\n",
              "          document.querySelector('#df-87a4a557-8553-46f6-bf24-619e6568f17c button.colab-df-convert');\n",
              "        buttonEl.style.display =\n",
              "          google.colab.kernel.accessAllowed ? 'block' : 'none';\n",
              "\n",
              "        async function convertToInteractive(key) {\n",
              "          const element = document.querySelector('#df-87a4a557-8553-46f6-bf24-619e6568f17c');\n",
              "          const dataTable =\n",
              "            await google.colab.kernel.invokeFunction('convertToInteractive',\n",
              "                                                     [key], {});\n",
              "          if (!dataTable) return;\n",
              "\n",
              "          const docLinkHtml = 'Like what you see? Visit the ' +\n",
              "            '<a target=\"_blank\" href=https://colab.research.google.com/notebooks/data_table.ipynb>data table notebook</a>'\n",
              "            + ' to learn more about interactive tables.';\n",
              "          element.innerHTML = '';\n",
              "          dataTable['output_type'] = 'display_data';\n",
              "          await google.colab.output.renderOutput(dataTable, element);\n",
              "          const docLink = document.createElement('div');\n",
              "          docLink.innerHTML = docLinkHtml;\n",
              "          element.appendChild(docLink);\n",
              "        }\n",
              "      </script>\n",
              "    </div>\n",
              "  </div>\n",
              "  "
            ]
          },
          "metadata": {},
          "execution_count": 12
        }
      ],
      "source": [
        "# Check for duplicated entries.\n",
        "df[df.duplicated()]"
      ]
    },
    {
      "cell_type": "markdown",
      "metadata": {
        "id": "I4Z_lp4-7Nxs"
      },
      "source": [
        "There are no duplicated values in the dataset"
      ]
    },
    {
      "cell_type": "markdown",
      "metadata": {
        "id": "_tr5ze0j7mIs"
      },
      "source": [
        "## **Data Cleaning**"
      ]
    },
    {
      "cell_type": "markdown",
      "metadata": {
        "id": "I-tAuQr76dQ0"
      },
      "source": [
        "#### **Checking Missing values**"
      ]
    },
    {
      "cell_type": "code",
      "execution_count": 13,
      "metadata": {
        "id": "fBog6DGC6UGU",
        "colab": {
          "base_uri": "https://localhost:8080/",
          "height": 426
        },
        "outputId": "c0f7c73f-e358-4d1c-c5bf-fe64d36e337a"
      },
      "outputs": [
        {
          "output_type": "execute_result",
          "data": {
            "text/plain": [
              "              No Of Total Values  No of NaN values  %age of NaN values\n",
              "director                    7787              2389               30.68\n",
              "cast                        7787               718                9.22\n",
              "country                     7787               507                6.51\n",
              "date_added                  7787                10                0.13\n",
              "rating                      7787                 7                0.09\n",
              "show_id                     7787                 0                0.00\n",
              "type                        7787                 0                0.00\n",
              "title                       7787                 0                0.00\n",
              "release_year                7787                 0                0.00\n",
              "duration                    7787                 0                0.00\n",
              "listed_in                   7787                 0                0.00\n",
              "description                 7787                 0                0.00"
            ],
            "text/html": [
              "\n",
              "  <div id=\"df-6ab84e5c-c404-4222-a09b-84787f397aa8\">\n",
              "    <div class=\"colab-df-container\">\n",
              "      <div>\n",
              "<style scoped>\n",
              "    .dataframe tbody tr th:only-of-type {\n",
              "        vertical-align: middle;\n",
              "    }\n",
              "\n",
              "    .dataframe tbody tr th {\n",
              "        vertical-align: top;\n",
              "    }\n",
              "\n",
              "    .dataframe thead th {\n",
              "        text-align: right;\n",
              "    }\n",
              "</style>\n",
              "<table border=\"1\" class=\"dataframe\">\n",
              "  <thead>\n",
              "    <tr style=\"text-align: right;\">\n",
              "      <th></th>\n",
              "      <th>No Of Total Values</th>\n",
              "      <th>No of NaN values</th>\n",
              "      <th>%age of NaN values</th>\n",
              "    </tr>\n",
              "  </thead>\n",
              "  <tbody>\n",
              "    <tr>\n",
              "      <th>director</th>\n",
              "      <td>7787</td>\n",
              "      <td>2389</td>\n",
              "      <td>30.68</td>\n",
              "    </tr>\n",
              "    <tr>\n",
              "      <th>cast</th>\n",
              "      <td>7787</td>\n",
              "      <td>718</td>\n",
              "      <td>9.22</td>\n",
              "    </tr>\n",
              "    <tr>\n",
              "      <th>country</th>\n",
              "      <td>7787</td>\n",
              "      <td>507</td>\n",
              "      <td>6.51</td>\n",
              "    </tr>\n",
              "    <tr>\n",
              "      <th>date_added</th>\n",
              "      <td>7787</td>\n",
              "      <td>10</td>\n",
              "      <td>0.13</td>\n",
              "    </tr>\n",
              "    <tr>\n",
              "      <th>rating</th>\n",
              "      <td>7787</td>\n",
              "      <td>7</td>\n",
              "      <td>0.09</td>\n",
              "    </tr>\n",
              "    <tr>\n",
              "      <th>show_id</th>\n",
              "      <td>7787</td>\n",
              "      <td>0</td>\n",
              "      <td>0.00</td>\n",
              "    </tr>\n",
              "    <tr>\n",
              "      <th>type</th>\n",
              "      <td>7787</td>\n",
              "      <td>0</td>\n",
              "      <td>0.00</td>\n",
              "    </tr>\n",
              "    <tr>\n",
              "      <th>title</th>\n",
              "      <td>7787</td>\n",
              "      <td>0</td>\n",
              "      <td>0.00</td>\n",
              "    </tr>\n",
              "    <tr>\n",
              "      <th>release_year</th>\n",
              "      <td>7787</td>\n",
              "      <td>0</td>\n",
              "      <td>0.00</td>\n",
              "    </tr>\n",
              "    <tr>\n",
              "      <th>duration</th>\n",
              "      <td>7787</td>\n",
              "      <td>0</td>\n",
              "      <td>0.00</td>\n",
              "    </tr>\n",
              "    <tr>\n",
              "      <th>listed_in</th>\n",
              "      <td>7787</td>\n",
              "      <td>0</td>\n",
              "      <td>0.00</td>\n",
              "    </tr>\n",
              "    <tr>\n",
              "      <th>description</th>\n",
              "      <td>7787</td>\n",
              "      <td>0</td>\n",
              "      <td>0.00</td>\n",
              "    </tr>\n",
              "  </tbody>\n",
              "</table>\n",
              "</div>\n",
              "      <button class=\"colab-df-convert\" onclick=\"convertToInteractive('df-6ab84e5c-c404-4222-a09b-84787f397aa8')\"\n",
              "              title=\"Convert this dataframe to an interactive table.\"\n",
              "              style=\"display:none;\">\n",
              "        \n",
              "  <svg xmlns=\"http://www.w3.org/2000/svg\" height=\"24px\"viewBox=\"0 0 24 24\"\n",
              "       width=\"24px\">\n",
              "    <path d=\"M0 0h24v24H0V0z\" fill=\"none\"/>\n",
              "    <path d=\"M18.56 5.44l.94 2.06.94-2.06 2.06-.94-2.06-.94-.94-2.06-.94 2.06-2.06.94zm-11 1L8.5 8.5l.94-2.06 2.06-.94-2.06-.94L8.5 2.5l-.94 2.06-2.06.94zm10 10l.94 2.06.94-2.06 2.06-.94-2.06-.94-.94-2.06-.94 2.06-2.06.94z\"/><path d=\"M17.41 7.96l-1.37-1.37c-.4-.4-.92-.59-1.43-.59-.52 0-1.04.2-1.43.59L10.3 9.45l-7.72 7.72c-.78.78-.78 2.05 0 2.83L4 21.41c.39.39.9.59 1.41.59.51 0 1.02-.2 1.41-.59l7.78-7.78 2.81-2.81c.8-.78.8-2.07 0-2.86zM5.41 20L4 18.59l7.72-7.72 1.47 1.35L5.41 20z\"/>\n",
              "  </svg>\n",
              "      </button>\n",
              "      \n",
              "  <style>\n",
              "    .colab-df-container {\n",
              "      display:flex;\n",
              "      flex-wrap:wrap;\n",
              "      gap: 12px;\n",
              "    }\n",
              "\n",
              "    .colab-df-convert {\n",
              "      background-color: #E8F0FE;\n",
              "      border: none;\n",
              "      border-radius: 50%;\n",
              "      cursor: pointer;\n",
              "      display: none;\n",
              "      fill: #1967D2;\n",
              "      height: 32px;\n",
              "      padding: 0 0 0 0;\n",
              "      width: 32px;\n",
              "    }\n",
              "\n",
              "    .colab-df-convert:hover {\n",
              "      background-color: #E2EBFA;\n",
              "      box-shadow: 0px 1px 2px rgba(60, 64, 67, 0.3), 0px 1px 3px 1px rgba(60, 64, 67, 0.15);\n",
              "      fill: #174EA6;\n",
              "    }\n",
              "\n",
              "    [theme=dark] .colab-df-convert {\n",
              "      background-color: #3B4455;\n",
              "      fill: #D2E3FC;\n",
              "    }\n",
              "\n",
              "    [theme=dark] .colab-df-convert:hover {\n",
              "      background-color: #434B5C;\n",
              "      box-shadow: 0px 1px 3px 1px rgba(0, 0, 0, 0.15);\n",
              "      filter: drop-shadow(0px 1px 2px rgba(0, 0, 0, 0.3));\n",
              "      fill: #FFFFFF;\n",
              "    }\n",
              "  </style>\n",
              "\n",
              "      <script>\n",
              "        const buttonEl =\n",
              "          document.querySelector('#df-6ab84e5c-c404-4222-a09b-84787f397aa8 button.colab-df-convert');\n",
              "        buttonEl.style.display =\n",
              "          google.colab.kernel.accessAllowed ? 'block' : 'none';\n",
              "\n",
              "        async function convertToInteractive(key) {\n",
              "          const element = document.querySelector('#df-6ab84e5c-c404-4222-a09b-84787f397aa8');\n",
              "          const dataTable =\n",
              "            await google.colab.kernel.invokeFunction('convertToInteractive',\n",
              "                                                     [key], {});\n",
              "          if (!dataTable) return;\n",
              "\n",
              "          const docLinkHtml = 'Like what you see? Visit the ' +\n",
              "            '<a target=\"_blank\" href=https://colab.research.google.com/notebooks/data_table.ipynb>data table notebook</a>'\n",
              "            + ' to learn more about interactive tables.';\n",
              "          element.innerHTML = '';\n",
              "          dataTable['output_type'] = 'display_data';\n",
              "          await google.colab.output.renderOutput(dataTable, element);\n",
              "          const docLink = document.createElement('div');\n",
              "          docLink.innerHTML = docLinkHtml;\n",
              "          element.appendChild(docLink);\n",
              "        }\n",
              "      </script>\n",
              "    </div>\n",
              "  </div>\n",
              "  "
            ]
          },
          "metadata": {},
          "execution_count": 13
        }
      ],
      "source": [
        "NaN_Checker = pd.DataFrame({\"No Of Total Values\": df.shape[0] , \"No of NaN values\": df.isnull().sum(),\n",
        "                    \"%age of NaN values\" : round((df.isnull().sum()/ df.shape[0])*100 , 2) })\n",
        "NaN_Checker.sort_values(\"No of NaN values\" , ascending = False)"
      ]
    },
    {
      "cell_type": "markdown",
      "metadata": {
        "id": "Kw6EyFy470Fl"
      },
      "source": [
        "*   **director column** has highest NaN values 30.7% data is missing\n",
        "*   **cast, country , date_added , rating** column has more than 10% NaN values\n",
        "\n",
        "\n",
        "\n"
      ]
    },
    {
      "cell_type": "markdown",
      "metadata": {
        "id": "JBPbEEHt8Ko0"
      },
      "source": [
        "In order to treat missing values in director column we will fill the null values with unknown. \n",
        "\n",
        "And in cast column we will fill the values with 'No cast'. country can be filled with mode value.\n",
        "\n",
        "date added and rating are having very less missing values so they can be removed."
      ]
    },
    {
      "cell_type": "code",
      "execution_count": 14,
      "metadata": {
        "id": "8yUx0C9m7uq6"
      },
      "outputs": [],
      "source": [
        "#HANDLING MISSING VALUES\n",
        "df['director'].fillna('unknown', inplace=True)\n",
        "df['cast'].fillna(value='No cast',inplace=True)\n",
        "df['country'].fillna(value=df['country'].mode()[0],inplace=True)\n",
        "df.dropna(subset=['date_added','rating'],inplace=True)"
      ]
    },
    {
      "cell_type": "code",
      "execution_count": 15,
      "metadata": {
        "id": "_-ucbK-Q-XBj",
        "colab": {
          "base_uri": "https://localhost:8080/"
        },
        "outputId": "5ddea510-1bf8-4648-c671-60c089cfde6f"
      },
      "outputs": [
        {
          "output_type": "execute_result",
          "data": {
            "text/plain": [
              "show_id         0\n",
              "type            0\n",
              "title           0\n",
              "director        0\n",
              "cast            0\n",
              "country         0\n",
              "date_added      0\n",
              "release_year    0\n",
              "rating          0\n",
              "duration        0\n",
              "listed_in       0\n",
              "description     0\n",
              "dtype: int64"
            ]
          },
          "metadata": {},
          "execution_count": 15
        }
      ],
      "source": [
        "df.isnull().sum()"
      ]
    },
    {
      "cell_type": "markdown",
      "metadata": {
        "id": "nR_nuClz-cdU"
      },
      "source": [
        "Hence all null values are treated"
      ]
    },
    {
      "cell_type": "markdown",
      "metadata": {
        "id": "8iUoZeUO-gH8"
      },
      "source": [
        "#### **Creating New Columns**"
      ]
    },
    {
      "cell_type": "code",
      "execution_count": 16,
      "metadata": {
        "id": "OjsesQ_V-alK"
      },
      "outputs": [],
      "source": [
        "# Create new features to store date, day, month and year seperately.\n",
        "df[\"date_added\"] = pd.to_datetime(df['date_added'])  # First convert date_added to date time format.\n",
        "df['day_added'] = df['date_added'].dt.day            # Compute day.\n",
        "df['year_added'] = df['date_added'].dt.year          # Compute year.\n",
        "df['month_added'] = df['date_added'].dt.month        # Compute month."
      ]
    },
    {
      "cell_type": "code",
      "execution_count": 17,
      "metadata": {
        "id": "sYvN5T02-xV7",
        "colab": {
          "base_uri": "https://localhost:8080/",
          "height": 337
        },
        "outputId": "2ebc152b-ae4f-458c-c21f-5989d685e09b"
      },
      "outputs": [
        {
          "output_type": "execute_result",
          "data": {
            "text/plain": [
              "  show_id     type  title           director  \\\n",
              "0      s1  TV Show     3%            unknown   \n",
              "1      s2    Movie   7:19  Jorge Michel Grau   \n",
              "2      s3    Movie  23:59       Gilbert Chan   \n",
              "3      s4    Movie      9        Shane Acker   \n",
              "4      s5    Movie     21     Robert Luketic   \n",
              "\n",
              "                                                cast        country  \\\n",
              "0  João Miguel, Bianca Comparato, Michel Gomes, R...         Brazil   \n",
              "1  Demián Bichir, Héctor Bonilla, Oscar Serrano, ...         Mexico   \n",
              "2  Tedd Chan, Stella Chung, Henley Hii, Lawrence ...      Singapore   \n",
              "3  Elijah Wood, John C. Reilly, Jennifer Connelly...  United States   \n",
              "4  Jim Sturgess, Kevin Spacey, Kate Bosworth, Aar...  United States   \n",
              "\n",
              "  date_added  release_year rating   duration  \\\n",
              "0 2020-08-14          2020  TV-MA  4 Seasons   \n",
              "1 2016-12-23          2016  TV-MA     93 min   \n",
              "2 2018-12-20          2011      R     78 min   \n",
              "3 2017-11-16          2009  PG-13     80 min   \n",
              "4 2020-01-01          2008  PG-13    123 min   \n",
              "\n",
              "                                           listed_in  \\\n",
              "0  International TV Shows, TV Dramas, TV Sci-Fi &...   \n",
              "1                       Dramas, International Movies   \n",
              "2                Horror Movies, International Movies   \n",
              "3  Action & Adventure, Independent Movies, Sci-Fi...   \n",
              "4                                             Dramas   \n",
              "\n",
              "                                         description  day_added  year_added  \\\n",
              "0  In a future where the elite inhabit an island ...         14        2020   \n",
              "1  After a devastating earthquake hits Mexico Cit...         23        2016   \n",
              "2  When an army recruit is found dead, his fellow...         20        2018   \n",
              "3  In a postapocalyptic world, rag-doll robots hi...         16        2017   \n",
              "4  A brilliant group of students become card-coun...          1        2020   \n",
              "\n",
              "   month_added  \n",
              "0            8  \n",
              "1           12  \n",
              "2           12  \n",
              "3           11  \n",
              "4            1  "
            ],
            "text/html": [
              "\n",
              "  <div id=\"df-276aedce-6be3-4f10-b2f4-dc2fe7d97537\">\n",
              "    <div class=\"colab-df-container\">\n",
              "      <div>\n",
              "<style scoped>\n",
              "    .dataframe tbody tr th:only-of-type {\n",
              "        vertical-align: middle;\n",
              "    }\n",
              "\n",
              "    .dataframe tbody tr th {\n",
              "        vertical-align: top;\n",
              "    }\n",
              "\n",
              "    .dataframe thead th {\n",
              "        text-align: right;\n",
              "    }\n",
              "</style>\n",
              "<table border=\"1\" class=\"dataframe\">\n",
              "  <thead>\n",
              "    <tr style=\"text-align: right;\">\n",
              "      <th></th>\n",
              "      <th>show_id</th>\n",
              "      <th>type</th>\n",
              "      <th>title</th>\n",
              "      <th>director</th>\n",
              "      <th>cast</th>\n",
              "      <th>country</th>\n",
              "      <th>date_added</th>\n",
              "      <th>release_year</th>\n",
              "      <th>rating</th>\n",
              "      <th>duration</th>\n",
              "      <th>listed_in</th>\n",
              "      <th>description</th>\n",
              "      <th>day_added</th>\n",
              "      <th>year_added</th>\n",
              "      <th>month_added</th>\n",
              "    </tr>\n",
              "  </thead>\n",
              "  <tbody>\n",
              "    <tr>\n",
              "      <th>0</th>\n",
              "      <td>s1</td>\n",
              "      <td>TV Show</td>\n",
              "      <td>3%</td>\n",
              "      <td>unknown</td>\n",
              "      <td>João Miguel, Bianca Comparato, Michel Gomes, R...</td>\n",
              "      <td>Brazil</td>\n",
              "      <td>2020-08-14</td>\n",
              "      <td>2020</td>\n",
              "      <td>TV-MA</td>\n",
              "      <td>4 Seasons</td>\n",
              "      <td>International TV Shows, TV Dramas, TV Sci-Fi &amp;...</td>\n",
              "      <td>In a future where the elite inhabit an island ...</td>\n",
              "      <td>14</td>\n",
              "      <td>2020</td>\n",
              "      <td>8</td>\n",
              "    </tr>\n",
              "    <tr>\n",
              "      <th>1</th>\n",
              "      <td>s2</td>\n",
              "      <td>Movie</td>\n",
              "      <td>7:19</td>\n",
              "      <td>Jorge Michel Grau</td>\n",
              "      <td>Demián Bichir, Héctor Bonilla, Oscar Serrano, ...</td>\n",
              "      <td>Mexico</td>\n",
              "      <td>2016-12-23</td>\n",
              "      <td>2016</td>\n",
              "      <td>TV-MA</td>\n",
              "      <td>93 min</td>\n",
              "      <td>Dramas, International Movies</td>\n",
              "      <td>After a devastating earthquake hits Mexico Cit...</td>\n",
              "      <td>23</td>\n",
              "      <td>2016</td>\n",
              "      <td>12</td>\n",
              "    </tr>\n",
              "    <tr>\n",
              "      <th>2</th>\n",
              "      <td>s3</td>\n",
              "      <td>Movie</td>\n",
              "      <td>23:59</td>\n",
              "      <td>Gilbert Chan</td>\n",
              "      <td>Tedd Chan, Stella Chung, Henley Hii, Lawrence ...</td>\n",
              "      <td>Singapore</td>\n",
              "      <td>2018-12-20</td>\n",
              "      <td>2011</td>\n",
              "      <td>R</td>\n",
              "      <td>78 min</td>\n",
              "      <td>Horror Movies, International Movies</td>\n",
              "      <td>When an army recruit is found dead, his fellow...</td>\n",
              "      <td>20</td>\n",
              "      <td>2018</td>\n",
              "      <td>12</td>\n",
              "    </tr>\n",
              "    <tr>\n",
              "      <th>3</th>\n",
              "      <td>s4</td>\n",
              "      <td>Movie</td>\n",
              "      <td>9</td>\n",
              "      <td>Shane Acker</td>\n",
              "      <td>Elijah Wood, John C. Reilly, Jennifer Connelly...</td>\n",
              "      <td>United States</td>\n",
              "      <td>2017-11-16</td>\n",
              "      <td>2009</td>\n",
              "      <td>PG-13</td>\n",
              "      <td>80 min</td>\n",
              "      <td>Action &amp; Adventure, Independent Movies, Sci-Fi...</td>\n",
              "      <td>In a postapocalyptic world, rag-doll robots hi...</td>\n",
              "      <td>16</td>\n",
              "      <td>2017</td>\n",
              "      <td>11</td>\n",
              "    </tr>\n",
              "    <tr>\n",
              "      <th>4</th>\n",
              "      <td>s5</td>\n",
              "      <td>Movie</td>\n",
              "      <td>21</td>\n",
              "      <td>Robert Luketic</td>\n",
              "      <td>Jim Sturgess, Kevin Spacey, Kate Bosworth, Aar...</td>\n",
              "      <td>United States</td>\n",
              "      <td>2020-01-01</td>\n",
              "      <td>2008</td>\n",
              "      <td>PG-13</td>\n",
              "      <td>123 min</td>\n",
              "      <td>Dramas</td>\n",
              "      <td>A brilliant group of students become card-coun...</td>\n",
              "      <td>1</td>\n",
              "      <td>2020</td>\n",
              "      <td>1</td>\n",
              "    </tr>\n",
              "  </tbody>\n",
              "</table>\n",
              "</div>\n",
              "      <button class=\"colab-df-convert\" onclick=\"convertToInteractive('df-276aedce-6be3-4f10-b2f4-dc2fe7d97537')\"\n",
              "              title=\"Convert this dataframe to an interactive table.\"\n",
              "              style=\"display:none;\">\n",
              "        \n",
              "  <svg xmlns=\"http://www.w3.org/2000/svg\" height=\"24px\"viewBox=\"0 0 24 24\"\n",
              "       width=\"24px\">\n",
              "    <path d=\"M0 0h24v24H0V0z\" fill=\"none\"/>\n",
              "    <path d=\"M18.56 5.44l.94 2.06.94-2.06 2.06-.94-2.06-.94-.94-2.06-.94 2.06-2.06.94zm-11 1L8.5 8.5l.94-2.06 2.06-.94-2.06-.94L8.5 2.5l-.94 2.06-2.06.94zm10 10l.94 2.06.94-2.06 2.06-.94-2.06-.94-.94-2.06-.94 2.06-2.06.94z\"/><path d=\"M17.41 7.96l-1.37-1.37c-.4-.4-.92-.59-1.43-.59-.52 0-1.04.2-1.43.59L10.3 9.45l-7.72 7.72c-.78.78-.78 2.05 0 2.83L4 21.41c.39.39.9.59 1.41.59.51 0 1.02-.2 1.41-.59l7.78-7.78 2.81-2.81c.8-.78.8-2.07 0-2.86zM5.41 20L4 18.59l7.72-7.72 1.47 1.35L5.41 20z\"/>\n",
              "  </svg>\n",
              "      </button>\n",
              "      \n",
              "  <style>\n",
              "    .colab-df-container {\n",
              "      display:flex;\n",
              "      flex-wrap:wrap;\n",
              "      gap: 12px;\n",
              "    }\n",
              "\n",
              "    .colab-df-convert {\n",
              "      background-color: #E8F0FE;\n",
              "      border: none;\n",
              "      border-radius: 50%;\n",
              "      cursor: pointer;\n",
              "      display: none;\n",
              "      fill: #1967D2;\n",
              "      height: 32px;\n",
              "      padding: 0 0 0 0;\n",
              "      width: 32px;\n",
              "    }\n",
              "\n",
              "    .colab-df-convert:hover {\n",
              "      background-color: #E2EBFA;\n",
              "      box-shadow: 0px 1px 2px rgba(60, 64, 67, 0.3), 0px 1px 3px 1px rgba(60, 64, 67, 0.15);\n",
              "      fill: #174EA6;\n",
              "    }\n",
              "\n",
              "    [theme=dark] .colab-df-convert {\n",
              "      background-color: #3B4455;\n",
              "      fill: #D2E3FC;\n",
              "    }\n",
              "\n",
              "    [theme=dark] .colab-df-convert:hover {\n",
              "      background-color: #434B5C;\n",
              "      box-shadow: 0px 1px 3px 1px rgba(0, 0, 0, 0.15);\n",
              "      filter: drop-shadow(0px 1px 2px rgba(0, 0, 0, 0.3));\n",
              "      fill: #FFFFFF;\n",
              "    }\n",
              "  </style>\n",
              "\n",
              "      <script>\n",
              "        const buttonEl =\n",
              "          document.querySelector('#df-276aedce-6be3-4f10-b2f4-dc2fe7d97537 button.colab-df-convert');\n",
              "        buttonEl.style.display =\n",
              "          google.colab.kernel.accessAllowed ? 'block' : 'none';\n",
              "\n",
              "        async function convertToInteractive(key) {\n",
              "          const element = document.querySelector('#df-276aedce-6be3-4f10-b2f4-dc2fe7d97537');\n",
              "          const dataTable =\n",
              "            await google.colab.kernel.invokeFunction('convertToInteractive',\n",
              "                                                     [key], {});\n",
              "          if (!dataTable) return;\n",
              "\n",
              "          const docLinkHtml = 'Like what you see? Visit the ' +\n",
              "            '<a target=\"_blank\" href=https://colab.research.google.com/notebooks/data_table.ipynb>data table notebook</a>'\n",
              "            + ' to learn more about interactive tables.';\n",
              "          element.innerHTML = '';\n",
              "          dataTable['output_type'] = 'display_data';\n",
              "          await google.colab.output.renderOutput(dataTable, element);\n",
              "          const docLink = document.createElement('div');\n",
              "          docLink.innerHTML = docLinkHtml;\n",
              "          element.appendChild(docLink);\n",
              "        }\n",
              "      </script>\n",
              "    </div>\n",
              "  </div>\n",
              "  "
            ]
          },
          "metadata": {},
          "execution_count": 17
        }
      ],
      "source": [
        "df.head()"
      ]
    },
    {
      "cell_type": "markdown",
      "metadata": {
        "id": "Z5tM_4H7L-xD"
      },
      "source": [
        "#### **Handling Outliers**"
      ]
    },
    {
      "cell_type": "code",
      "execution_count": 18,
      "metadata": {
        "id": "2E5eR58INHKL"
      },
      "outputs": [],
      "source": [
        "numerical_features=['release_year','day_added','month_added','year_added']"
      ]
    },
    {
      "cell_type": "code",
      "execution_count": 19,
      "metadata": {
        "id": "_02wfLKZNPG6",
        "colab": {
          "base_uri": "https://localhost:8080/",
          "height": 913
        },
        "outputId": "4079ccff-fd3c-44f3-a50c-3915e544a184"
      },
      "outputs": [
        {
          "output_type": "display_data",
          "data": {
            "text/plain": [
              "<Figure size 1080x216 with 2 Axes>"
            ],
            "image/png": "[encoded data removed]"
          },
          "metadata": {}
        },
        {
          "output_type": "display_data",
          "data": {
            "text/plain": [
              "<Figure size 1080x216 with 2 Axes>"
            ],
            "image/png": "[encoded data removed]"
          },
          "metadata": {}
        },
        {
          "output_type": "display_data",
          "data": {
            "text/plain": [
              "<Figure size 1080x216 with 2 Axes>"
            ],
            "image/png": "[encoded data removed]"
          },
          "metadata": {}
        },
        {
          "output_type": "display_data",
          "data": {
            "text/plain": [
              "<Figure size 1080x216 with 2 Axes>"
            ],
            "image/png": "[encoded data removed]"
          },
          "metadata": {}
        }
      ],
      "source": [
        "for col in numerical_features:  #subplotting all the values with outliers \n",
        "  fig, ax =plt.subplots(1,2, constrained_layout=True)\n",
        "  fig.set_size_inches(15, 3)\n",
        "  sns.distplot(df[col], ax=ax[0]).set(title=\"Outliers\")\n",
        "  sns.boxplot(df[col], ax=ax[1]).set(title=\"Outliers\")\n",
        "  plt.suptitle(f'{col.title()}',weight='bold')"
      ]
    },
    {
      "cell_type": "markdown",
      "metadata": {
        "id": "6AJ5EcdMNVPp"
      },
      "source": [
        "There are Outliers in column 'release year' and 'year added'. So we apply IQR method to treat Outliers."
      ]
    },
    {
      "cell_type": "code",
      "execution_count": 20,
      "metadata": {
        "id": "ry0URpWCNiHS"
      },
      "outputs": [],
      "source": [
        "for col in ['release_year','year_added']:#redefining the data and setting the outliers value with the range\n",
        "  \n",
        "  lower_cap, q1, q3, upper_cap, median = df[col].quantile([0.01,0.25,0.75,0.99,0.5])\n",
        "  lower_limit = q1 - 1.5*(q3-q1)\n",
        "  upper_limit = q3 + 1.5*(q3-q1)\n",
        "\n",
        "  \n",
        "  df[col] = np.where(df[col] > upper_limit, median,np.where(\n",
        "                         df[col] < lower_limit,median,np.where(\n",
        "                         df[col] < lower_cap,lower_cap,np.where(\n",
        "                         df[col] > upper_cap,upper_cap,df[col]))))"
      ]
    },
    {
      "cell_type": "code",
      "execution_count": 21,
      "metadata": {
        "id": "R45Qoy20NswR",
        "colab": {
          "base_uri": "https://localhost:8080/",
          "height": 465
        },
        "outputId": "51be0a8e-70a7-4127-9071-348026556088"
      },
      "outputs": [
        {
          "output_type": "display_data",
          "data": {
            "text/plain": [
              "<Figure size 1080x216 with 2 Axes>"
            ],
            "image/png": "[encoded data removed]"
          },
          "metadata": {}
        },
        {
          "output_type": "display_data",
          "data": {
            "text/plain": [
              "<Figure size 1080x216 with 2 Axes>"
            ],
            "image/png": "[encoded data removed]"
          },
          "metadata": {}
        }
      ],
      "source": [
        "for col in ['release_year','year_added']:\n",
        "  fig, ax =plt.subplots(1,2, constrained_layout=True)\n",
        "  fig.set_size_inches(15, 3)\n",
        "  sns.distplot(df[col], ax=ax[0]).set(title=\"Outliers Handled\")\n",
        "  sns.boxplot(df[col], ax=ax[1]).set(title=\"Outliers Handled\")\n",
        "  plt.suptitle(f'{col.title()}',weight='bold')\n",
        "  fig.show()\n",
        "     "
      ]
    },
    {
      "cell_type": "markdown",
      "metadata": {
        "id": "duOPnZERYg8d"
      },
      "source": [
        "Outliers are treated now we can perform EDA."
      ]
    },
    {
      "cell_type": "markdown",
      "metadata": {
        "id": "goZ_1ehnAISZ"
      },
      "source": [
        "## **EXPLORATORY DATA ANALYSIS**"
      ]
    },
    {
      "cell_type": "markdown",
      "metadata": {
        "id": "gB5rSeKqAOl8"
      },
      "source": [
        "### **Type of Content on Netflix**"
      ]
    },
    {
      "cell_type": "code",
      "execution_count": 22,
      "metadata": {
        "id": "qxVLuGtP_U0C",
        "colab": {
          "base_uri": "https://localhost:8080/",
          "height": 517
        },
        "outputId": "612a2814-9d3e-4547-8dad-1e64455861d2"
      },
      "outputs": [
        {
          "output_type": "display_data",
          "data": {
            "text/html": [
              "<html>\n",
              "<head><meta charset=\"utf-8\" /></head>\n",
              "<body>\n",
              "    <div>            <script src=\"https://cdnjs.cloudflare.com/ajax/libs/mathjax/2.7.5/MathJax.js?config=TeX-AMS-MML_SVG\"></script><script type=\"text/javascript\">if (window.MathJax) {MathJax.Hub.Config({SVG: {font: \"STIX-Web\"}});}</script>                <script type=\"text/javascript\">window.PlotlyConfig = {MathJaxConfig: 'local'};</script>\n",
              "        <script src=\"https://cdn.plot.ly/plotly-2.8.3.min.js\"></script>                <div id=\"db400552-901f-432a-80ba-ac39ef25e34a\" class=\"plotly-graph-div\" style=\"height:500px; width:500px;\"></div>            <script type=\"text/javascript\">                                    window.PLOTLYENV=window.PLOTLYENV || {};                                    if (document.getElementById(\"db400552-901f-432a-80ba-ac39ef25e34a\")) {                    Plotly.newPlot(                        \"db400552-901f-432a-80ba-ac39ef25e34a\",                        [{\"hole\":0.6,\"labels\":[\"Tv Show\",\"Movie\"],\"values\":[2398,5372],\"type\":\"pie\",\"marker\":{\"colors\":[\"\\t#db0000\",\"\\t#564d4d\"]}}],                        {\"template\":{\"data\":{\"bar\":[{\"error_x\":{\"color\":\"#2a3f5f\"},\"error_y\":{\"color\":\"#2a3f5f\"},\"marker\":{\"line\":{\"color\":\"#E5ECF6\",\"width\":0.5},\"pattern\":{\"fillmode\":\"overlay\",\"size\":10,\"solidity\":0.2}},\"type\":\"bar\"}],\"barpolar\":[{\"marker\":{\"line\":{\"color\":\"#E5ECF6\",\"width\":0.5},\"pattern\":{\"fillmode\":\"overlay\",\"size\":10,\"solidity\":0.2}},\"type\":\"barpolar\"}],\"carpet\":[{\"aaxis\":{\"endlinecolor\":\"#2a3f5f\",\"gridcolor\":\"white\",\"linecolor\":\"white\",\"minorgridcolor\":\"white\",\"startlinecolor\":\"#2a3f5f\"},\"baxis\":{\"endlinecolor\":\"#2a3f5f\",\"gridcolor\":\"white\",\"linecolor\":\"white\",\"minorgridcolor\":\"white\",\"startlinecolor\":\"#2a3f5f\"},\"type\":\"carpet\"}],\"choropleth\":[{\"colorbar\":{\"outlinewidth\":0,\"ticks\":\"\"},\"type\":\"choropleth\"}],\"contour\":[{\"colorbar\":{\"outlinewidth\":0,\"ticks\":\"\"},\"colorscale\":[[0.0,\"#0d0887\"],[0.1111111111111111,\"#46039f\"],[0.2222222222222222,\"#7201a8\"],[0.3333333333333333,\"#9c179e\"],[0.4444444444444444,\"#bd3786\"],[0.5555555555555556,\"#d8576b\"],[0.6666666666666666,\"#ed7953\"],[0.7777777777777778,\"#fb9f3a\"],[0.8888888888888888,\"#fdca26\"],[1.0,\"#f0f921\"]],\"type\":\"contour\"}],\"contourcarpet\":[{\"colorbar\":{\"outlinewidth\":0,\"ticks\":\"\"},\"type\":\"contourcarpet\"}],\"heatmap\":[{\"colorbar\":{\"outlinewidth\":0,\"ticks\":\"\"},\"colorscale\":[[0.0,\"#0d0887\"],[0.1111111111111111,\"#46039f\"],[0.2222222222222222,\"#7201a8\"],[0.3333333333333333,\"#9c179e\"],[0.4444444444444444,\"#bd3786\"],[0.5555555555555556,\"#d8576b\"],[0.6666666666666666,\"#ed7953\"],[0.7777777777777778,\"#fb9f3a\"],[0.8888888888888888,\"#fdca26\"],[1.0,\"#f0f921\"]],\"type\":\"heatmap\"}],\"heatmapgl\":[{\"colorbar\":{\"outlinewidth\":0,\"ticks\":\"\"},\"colorscale\":[[0.0,\"#0d0887\"],[0.1111111111111111,\"#46039f\"],[0.2222222222222222,\"#7201a8\"],[0.3333333333333333,\"#9c179e\"],[0.4444444444444444,\"#bd3786\"],[0.5555555555555556,\"#d8576b\"],[0.6666666666666666,\"#ed7953\"],[0.7777777777777778,\"#fb9f3a\"],[0.8888888888888888,\"#fdca26\"],[1.0,\"#f0f921\"]],\"type\":\"heatmapgl\"}],\"histogram\":[{\"marker\":{\"pattern\":{\"fillmode\":\"overlay\",\"size\":10,\"solidity\":0.2}},\"type\":\"histogram\"}],\"histogram2d\":[{\"colorbar\":{\"outlinewidth\":0,\"ticks\":\"\"},\"colorscale\":[[0.0,\"#0d0887\"],[0.1111111111111111,\"#46039f\"],[0.2222222222222222,\"#7201a8\"],[0.3333333333333333,\"#9c179e\"],[0.4444444444444444,\"#bd3786\"],[0.5555555555555556,\"#d8576b\"],[0.6666666666666666,\"#ed7953\"],[0.7777777777777778,\"#fb9f3a\"],[0.8888888888888888,\"#fdca26\"],[1.0,\"#f0f921\"]],\"type\":\"histogram2d\"}],\"histogram2dcontour\":[{\"colorbar\":{\"outlinewidth\":0,\"ticks\":\"\"},\"colorscale\":[[0.0,\"#0d0887\"],[0.1111111111111111,\"#46039f\"],[0.2222222222222222,\"#7201a8\"],[0.3333333333333333,\"#9c179e\"],[0.4444444444444444,\"#bd3786\"],[0.5555555555555556,\"#d8576b\"],[0.6666666666666666,\"#ed7953\"],[0.7777777777777778,\"#fb9f3a\"],[0.8888888888888888,\"#fdca26\"],[1.0,\"#f0f921\"]],\"type\":\"histogram2dcontour\"}],\"mesh3d\":[{\"colorbar\":{\"outlinewidth\":0,\"ticks\":\"\"},\"type\":\"mesh3d\"}],\"parcoords\":[{\"line\":{\"colorbar\":{\"outlinewidth\":0,\"ticks\":\"\"}},\"type\":\"parcoords\"}],\"pie\":[{\"automargin\":true,\"type\":\"pie\"}],\"scatter\":[{\"marker\":{\"colorbar\":{\"outlinewidth\":0,\"ticks\":\"\"}},\"type\":\"scatter\"}],\"scatter3d\":[{\"line\":{\"colorbar\":{\"outlinewidth\":0,\"ticks\":\"\"}},\"marker\":{\"colorbar\":{\"outlinewidth\":0,\"ticks\":\"\"}},\"type\":\"scatter3d\"}],\"scattercarpet\":[{\"marker\":{\"colorbar\":{\"outlinewidth\":0,\"ticks\":\"\"}},\"type\":\"scattercarpet\"}],\"scattergeo\":[{\"marker\":{\"colorbar\":{\"outlinewidth\":0,\"ticks\":\"\"}},\"type\":\"scattergeo\"}],\"scattergl\":[{\"marker\":{\"colorbar\":{\"outlinewidth\":0,\"ticks\":\"\"}},\"type\":\"scattergl\"}],\"scattermapbox\":[{\"marker\":{\"colorbar\":{\"outlinewidth\":0,\"ticks\":\"\"}},\"type\":\"scattermapbox\"}],\"scatterpolar\":[{\"marker\":{\"colorbar\":{\"outlinewidth\":0,\"ticks\":\"\"}},\"type\":\"scatterpolar\"}],\"scatterpolargl\":[{\"marker\":{\"colorbar\":{\"outlinewidth\":0,\"ticks\":\"\"}},\"type\":\"scatterpolargl\"}],\"scatterternary\":[{\"marker\":{\"colorbar\":{\"outlinewidth\":0,\"ticks\":\"\"}},\"type\":\"scatterternary\"}],\"surface\":[{\"colorbar\":{\"outlinewidth\":0,\"ticks\":\"\"},\"colorscale\":[[0.0,\"#0d0887\"],[0.1111111111111111,\"#46039f\"],[0.2222222222222222,\"#7201a8\"],[0.3333333333333333,\"#9c179e\"],[0.4444444444444444,\"#bd3786\"],[0.5555555555555556,\"#d8576b\"],[0.6666666666666666,\"#ed7953\"],[0.7777777777777778,\"#fb9f3a\"],[0.8888888888888888,\"#fdca26\"],[1.0,\"#f0f921\"]],\"type\":\"surface\"}],\"table\":[{\"cells\":{\"fill\":{\"color\":\"#EBF0F8\"},\"line\":{\"color\":\"white\"}},\"header\":{\"fill\":{\"color\":\"#C8D4E3\"},\"line\":{\"color\":\"white\"}},\"type\":\"table\"}]},\"layout\":{\"annotationdefaults\":{\"arrowcolor\":\"#2a3f5f\",\"arrowhead\":0,\"arrowwidth\":1},\"autotypenumbers\":\"strict\",\"coloraxis\":{\"colorbar\":{\"outlinewidth\":0,\"ticks\":\"\"}},\"colorscale\":{\"diverging\":[[0,\"#8e0152\"],[0.1,\"#c51b7d\"],[0.2,\"#de77ae\"],[0.3,\"#f1b6da\"],[0.4,\"#fde0ef\"],[0.5,\"#f7f7f7\"],[0.6,\"#e6f5d0\"],[0.7,\"#b8e186\"],[0.8,\"#7fbc41\"],[0.9,\"#4d9221\"],[1,\"#276419\"]],\"sequential\":[[0.0,\"#0d0887\"],[0.1111111111111111,\"#46039f\"],[0.2222222222222222,\"#7201a8\"],[0.3333333333333333,\"#9c179e\"],[0.4444444444444444,\"#bd3786\"],[0.5555555555555556,\"#d8576b\"],[0.6666666666666666,\"#ed7953\"],[0.7777777777777778,\"#fb9f3a\"],[0.8888888888888888,\"#fdca26\"],[1.0,\"#f0f921\"]],\"sequentialminus\":[[0.0,\"#0d0887\"],[0.1111111111111111,\"#46039f\"],[0.2222222222222222,\"#7201a8\"],[0.3333333333333333,\"#9c179e\"],[0.4444444444444444,\"#bd3786\"],[0.5555555555555556,\"#d8576b\"],[0.6666666666666666,\"#ed7953\"],[0.7777777777777778,\"#fb9f3a\"],[0.8888888888888888,\"#fdca26\"],[1.0,\"#f0f921\"]]},\"colorway\":[\"#636efa\",\"#EF553B\",\"#00cc96\",\"#ab63fa\",\"#FFA15A\",\"#19d3f3\",\"#FF6692\",\"#B6E880\",\"#FF97FF\",\"#FECB52\"],\"font\":{\"color\":\"#2a3f5f\"},\"geo\":{\"bgcolor\":\"white\",\"lakecolor\":\"white\",\"landcolor\":\"#E5ECF6\",\"showlakes\":true,\"showland\":true,\"subunitcolor\":\"white\"},\"hoverlabel\":{\"align\":\"left\"},\"hovermode\":\"closest\",\"mapbox\":{\"style\":\"light\"},\"paper_bgcolor\":\"white\",\"plot_bgcolor\":\"#E5ECF6\",\"polar\":{\"angularaxis\":{\"gridcolor\":\"white\",\"linecolor\":\"white\",\"ticks\":\"\"},\"bgcolor\":\"#E5ECF6\",\"radialaxis\":{\"gridcolor\":\"white\",\"linecolor\":\"white\",\"ticks\":\"\"}},\"scene\":{\"xaxis\":{\"backgroundcolor\":\"#E5ECF6\",\"gridcolor\":\"white\",\"gridwidth\":2,\"linecolor\":\"white\",\"showbackground\":true,\"ticks\":\"\",\"zerolinecolor\":\"white\"},\"yaxis\":{\"backgroundcolor\":\"#E5ECF6\",\"gridcolor\":\"white\",\"gridwidth\":2,\"linecolor\":\"white\",\"showbackground\":true,\"ticks\":\"\",\"zerolinecolor\":\"white\"},\"zaxis\":{\"backgroundcolor\":\"#E5ECF6\",\"gridcolor\":\"white\",\"gridwidth\":2,\"linecolor\":\"white\",\"showbackground\":true,\"ticks\":\"\",\"zerolinecolor\":\"white\"}},\"shapedefaults\":{\"line\":{\"color\":\"#2a3f5f\"}},\"ternary\":{\"aaxis\":{\"gridcolor\":\"white\",\"linecolor\":\"white\",\"ticks\":\"\"},\"baxis\":{\"gridcolor\":\"white\",\"linecolor\":\"white\",\"ticks\":\"\"},\"bgcolor\":\"#E5ECF6\",\"caxis\":{\"gridcolor\":\"white\",\"linecolor\":\"white\",\"ticks\":\"\"}},\"title\":{\"x\":0.05},\"xaxis\":{\"automargin\":true,\"gridcolor\":\"white\",\"linecolor\":\"white\",\"ticks\":\"\",\"title\":{\"standoff\":15},\"zerolinecolor\":\"white\",\"zerolinewidth\":2},\"yaxis\":{\"automargin\":true,\"gridcolor\":\"white\",\"linecolor\":\"white\",\"ticks\":\"\",\"title\":{\"standoff\":15},\"zerolinecolor\":\"white\",\"zerolinewidth\":2}}},\"title\":{\"text\":\"Type of content watched on Netflix\",\"x\":0.5},\"legend\":{\"x\":0.9},\"height\":500,\"width\":500,\"annotations\":[{\"showarrow\":false,\"text\":\"Type of content.\",\"font\":{\"size\":20}}]},                        {\"responsive\": true}                    ).then(function(){\n",
              "                            \n",
              "var gd = document.getElementById('db400552-901f-432a-80ba-ac39ef25e34a');\n",
              "var x = new MutationObserver(function (mutations, observer) {{\n",
              "        var display = window.getComputedStyle(gd).display;\n",
              "        if (!display || display === 'none') {{\n",
              "            console.log([gd, 'removed!']);\n",
              "            Plotly.purge(gd);\n",
              "            observer.disconnect();\n",
              "        }}\n",
              "}});\n",
              "\n",
              "// Listen for the removal of the full notebook cells\n",
              "var notebookContainer = gd.closest('#notebook-container');\n",
              "if (notebookContainer) {{\n",
              "    x.observe(notebookContainer, {childList: true});\n",
              "}}\n",
              "\n",
              "// Listen for the clearing of the current output cell\n",
              "var outputEl = gd.closest('.output');\n",
              "if (outputEl) {{\n",
              "    x.observe(outputEl, {childList: true});\n",
              "}}\n",
              "\n",
              "                        })                };                            </script>        </div>\n",
              "</body>\n",
              "</html>"
            ]
          },
          "metadata": {}
        }
      ],
      "source": [
        "# Create a pie chart for Type.\n",
        "colors = ['\t#db0000', '\t#564d4d']\n",
        "labels = ['Tv Show', 'Movie']\n",
        "tv_show = df.type.value_counts()[1]\n",
        "movie = df.type.value_counts()[0]\n",
        "\n",
        "fig = go.Figure(data=[go.Pie(labels=labels, values=[tv_show, movie], hole=.6)])\n",
        "fig.update_layout(\n",
        "    title_text=\"Type of content watched on Netflix\",title_x=0.5, legend=dict(x=0.9),height=500, width=500,\n",
        "    # Add annotations in the center of the donut pies.\n",
        "    annotations=[dict(text='Type of content.', font_size=20, showarrow=False)])\n",
        "fig.update_traces(marker=dict(colors=colors))\n",
        "\n",
        "fig.show()"
      ]
    },
    {
      "cell_type": "markdown",
      "metadata": {
        "id": "c87FKV6IAuzc"
      },
      "source": [
        "69.1% of the content available on Netflix are movies and the remaining 30.9% are TV Shows"
      ]
    },
    {
      "cell_type": "markdown",
      "metadata": {
        "id": "KM8MEYF2A3S7"
      },
      "source": [
        "### **Release year of Movies/TV Shows**"
      ]
    },
    {
      "cell_type": "code",
      "execution_count": 23,
      "metadata": {
        "id": "ilxpkuCGF2RR",
        "colab": {
          "base_uri": "https://localhost:8080/",
          "height": 528
        },
        "outputId": "5fa019a9-e343-4450-8989-cfd44e9c2b30"
      },
      "outputs": [
        {
          "output_type": "display_data",
          "data": {
            "text/plain": [
              "<Figure size 1440x576 with 1 Axes>"
            ],
            "image/png": "[encoded data removed]"
          },
          "metadata": {}
        }
      ],
      "source": [
        "a = plt.figure(figsize=(20,8))\n",
        "a = sns.histplot(x='release_year', hue = 'type', multiple=\"dodge\", data = df,discrete=True, palette =\"GnBu\", shrink=.6,bins=50)\n",
        "a = plt.xticks(ticks= np.arange(df.release_year.min(),df.release_year.max()+1,1), rotation = 90)\n",
        "a = plt.title('Distribution of Movie/Shows Release Dates',fontsize = 14, fontweight='bold')\n",
        "a = plt.xlabel('Release Year',fontsize = 12)"
      ]
    },
    {
      "cell_type": "markdown",
      "metadata": {
        "id": "se85s87VY4NP"
      },
      "source": [
        "*  Maximum number of Movies streaming on the platform were released in 2017.\n",
        "*  Most TV Shows streaming on the platform were released after 2015 \n",
        "*  Since the number of movies releasing each year has started decreasing after 2017 whereas number of TV Shows have increased gradually after 2015.\n",
        "\n",
        "\n"
      ]
    },
    {
      "cell_type": "markdown",
      "metadata": {
        "id": "12GWGvnrJtfO"
      },
      "source": [
        "### **Number of Movies/TV Shows added per Year and per Month**"
      ]
    },
    {
      "cell_type": "code",
      "execution_count": 24,
      "metadata": {
        "id": "OmDaXgeGLyOY",
        "colab": {
          "base_uri": "https://localhost:8080/",
          "height": 528
        },
        "outputId": "b170bdf5-562a-40bc-d66d-8694adb5995a"
      },
      "outputs": [
        {
          "output_type": "display_data",
          "data": {
            "text/plain": [
              "<Figure size 1440x576 with 1 Axes>"
            ],
            "image/png": "[encoded data removed]"
          },
          "metadata": {}
        }
      ],
      "source": [
        "a = plt.figure(figsize=(20,8))\n",
        "a = sns.histplot(x='year_added', hue = 'type', multiple=\"dodge\", data = df,discrete=True, palette =\"Set2\",shrink=.6,bins=50)\n",
        "a = plt.xticks(ticks= np.arange(df.year_added.min(),df.year_added.max()+1,1), rotation = 90)\n",
        "a = plt.title('Number of Movie/Shows Added every Year',fontsize = 14, fontweight='bold')\n",
        "a = plt.xlabel('Added Year',fontsize = 12)"
      ]
    },
    {
      "cell_type": "markdown",
      "metadata": {
        "id": "3J9D8rSpUscJ"
      },
      "source": [
        "*  Number of movies added to the platform showed a deliberate increase after 2017 to 2019 and has been decreased after that.\n",
        "*  Whereas TV Shows have been added continuously from 2015 and its number been increased every year."
      ]
    },
    {
      "cell_type": "code",
      "execution_count": 25,
      "metadata": {
        "id": "fJIRJ9J2UenP",
        "colab": {
          "base_uri": "https://localhost:8080/",
          "height": 517
        },
        "outputId": "22e8f7a0-63eb-4017-8b5b-6db4bcd6746f"
      },
      "outputs": [
        {
          "output_type": "display_data",
          "data": {
            "text/plain": [
              "<Figure size 1440x576 with 1 Axes>"
            ],
            "image/png": "[encoded data removed]"
          },
          "metadata": {}
        }
      ],
      "source": [
        "a = plt.figure(figsize=(20,8))\n",
        "a = sns.histplot(x='month_added', hue = 'type', multiple=\"dodge\", data = df,discrete=True, palette =\"Set1\",shrink=.6,bins=50)\n",
        "a = plt.xticks(ticks= np.arange(df.month_added.min(),df.month_added.max()+1,1), rotation = 90)\n",
        "a = plt.title('Total Movie/Shows Added in each month',fontsize = 14, fontweight='bold')\n",
        "a = plt.xlabel('Added Month',fontsize = 12)"
      ]
    },
    {
      "cell_type": "markdown",
      "metadata": {
        "id": "J8XsIPHMYXQI"
      },
      "source": [
        "Most number of Movies and TV Shows are added between October and January"
      ]
    },
    {
      "cell_type": "markdown",
      "metadata": {
        "id": "f6pHUMY_a4pO"
      },
      "source": [
        "### **Top 10 Directors**"
      ]
    },
    {
      "cell_type": "code",
      "execution_count": 26,
      "metadata": {
        "id": "JAjWWV1-a1rd",
        "colab": {
          "base_uri": "https://localhost:8080/",
          "height": 625
        },
        "outputId": "75eeea06-f70b-4ff9-be12-ffe4613ab2db"
      },
      "outputs": [
        {
          "output_type": "display_data",
          "data": {
            "text/plain": [
              "<Figure size 1080x720 with 1 Axes>"
            ],
            "image/png": "[encoded data removed]"
          },
          "metadata": {}
        }
      ],
      "source": [
        "a=df[df.director != 'unknown'].loc[:,['show_id','title','director', 'cast']].copy()\n",
        "director = (a['director'].to_list())\n",
        "\n",
        "newlist = []\n",
        "for genre in director:\n",
        "  if ',' in genre:\n",
        "    a = genre.split(', ')\n",
        "    newlist = newlist + a\n",
        "  else:\n",
        "    newlist.append(genre)\n",
        "country_list = pd.DataFrame({'Director' : newlist, 'show_id':np.arange(0,len(newlist),1)})\n",
        "a = country_list.groupby('Director').agg({'show_id':'count'}).sort_values('show_id', ascending= False).reset_index().head(10)\n",
        "plt.figure(figsize=(15,10))\n",
        "a = sns.barplot(y = 'Director', x = 'show_id',data = a , palette= 'cividis')\n",
        "a = plt.title('Directors on Netflix',fontsize = 14, fontweight='bold')\n",
        "a = plt.ylabel('Director',fontsize = 12)\n",
        "a = plt.xlabel('Number of Movies/Shows Directed',fontsize = 12)\n",
        "top10directors = country_list.groupby('Director').agg({'show_id':'count'}).sort_values('show_id', ascending= False).reset_index().head(10)['Director'].to_list"
      ]
    },
    {
      "cell_type": "markdown",
      "metadata": {
        "id": "vi3UOF5PddKH"
      },
      "source": [
        "Top 3 Directors are-\n",
        "\n",
        "1.   **Jan Suter**\n",
        "2.   **Raul Campos**\n",
        "3.   **Marcus Raboy**\n",
        "\n"
      ]
    },
    {
      "cell_type": "markdown",
      "metadata": {
        "id": "Gw3U4dnreO8Q"
      },
      "source": [
        "### **Top 10 Actors**"
      ]
    },
    {
      "cell_type": "code",
      "execution_count": 27,
      "metadata": {
        "id": "buWy1Rv8cchm",
        "colab": {
          "base_uri": "https://localhost:8080/",
          "height": 625
        },
        "outputId": "ad3bf5d2-fdd6-4289-bb52-dbd4e23d86cf"
      },
      "outputs": [
        {
          "output_type": "display_data",
          "data": {
            "text/plain": [
              "<Figure size 1080x720 with 1 Axes>"
            ],
            "image/png": "[encoded data removed]"
          },
          "metadata": {}
        }
      ],
      "source": [
        "a=df[df.cast != 'No cast'].loc[:,['show_id','title','director', 'cast']].copy()\n",
        "cast = (a['cast'].to_list())\n",
        "\n",
        "newlist = []\n",
        "for genre in cast:\n",
        "  if ',' in genre:\n",
        "    a = genre.split(', ')\n",
        "    newlist = newlist + a\n",
        "  else:\n",
        "    newlist.append(genre)\n",
        "country_list = pd.DataFrame({'Actor' : newlist, 'show_id':np.arange(0,len(newlist),1)})\n",
        "a = country_list.groupby('Actor').agg({'show_id':'count'}).sort_values('show_id', ascending= False).head(10).reset_index()\n",
        "plt.figure(figsize=(15,10))\n",
        "a = sns.barplot(y = 'Actor', x = 'show_id',data = a , palette= 'inferno')\n",
        "a = plt.title('Actors on Netflix',fontsize = 14, fontweight='bold')\n",
        "a = plt.ylabel('Actor',fontsize = 12)\n",
        "a = plt.xlabel('Number of Movies/Shows Casted',fontsize = 12)\n",
        "top10actors = country_list.groupby('Actor').agg({'show_id':'count'}).sort_values('show_id', ascending= False).head(20).reset_index()['Actor'].to_list()"
      ]
    },
    {
      "cell_type": "markdown",
      "metadata": {
        "id": "DBbHS1AKlvFp"
      },
      "source": [
        "Top 3 Actors are\n",
        "\n",
        "1.   **Anupam Kher**\n",
        "2.   **Shah Rukh Khan**\n",
        "3.   **Om Puri**\n",
        "\n"
      ]
    },
    {
      "cell_type": "markdown",
      "metadata": {
        "id": "Lr5a9IxXmBnI"
      },
      "source": [
        "### **Top Genres on Netflix**"
      ]
    },
    {
      "cell_type": "code",
      "execution_count": 28,
      "metadata": {
        "id": "tWXEplqFp2sp"
      },
      "outputs": [],
      "source": [
        "#creating two extra columns\n",
        "tv_shows=df[df['type']=='TV Show']\n",
        "movies=df[df['type']=='Movie']"
      ]
    },
    {
      "cell_type": "code",
      "execution_count": 29,
      "metadata": {
        "id": "xusbdR7_VrnI",
        "colab": {
          "base_uri": "https://localhost:8080/",
          "height": 625
        },
        "outputId": "9afc5b49-c2e1-4149-b895-8d2e83341c4c"
      },
      "outputs": [
        {
          "output_type": "display_data",
          "data": {
            "text/plain": [
              "<Figure size 1080x720 with 1 Axes>"
            ],
            "image/png": "[encoded data removed]"
          },
          "metadata": {}
        }
      ],
      "source": [
        "a=movies.loc[:,['show_id','listed_in']].copy()\n",
        "movie = (a['listed_in'].to_list())\n",
        "\n",
        "movie_list = []\n",
        "for genre in movie:\n",
        "  if ',' in genre:\n",
        "    a = genre.split(', ')\n",
        "    movie_list = movie_list + a\n",
        "  else:\n",
        "    movie_list.append(genre)\n",
        "movie_list = pd.DataFrame({'listed_in' : movie_list, 'show_id':np.arange(0,len(movie_list),1)})\n",
        "a = movie_list.groupby('listed_in').agg({'show_id':'count'}).sort_values('show_id', ascending= False).head(10).reset_index()\n",
        "plt.figure(figsize=(15,10))\n",
        "a = sns.barplot(y = 'listed_in', x = 'show_id',data = a )\n",
        "a = plt.title('Top10 Genre of Movies',fontsize = 14, fontweight='bold')\n",
        "a = plt.ylabel('Genres',fontsize = 12)\n",
        "a = plt.xlabel('Number of Movies ',fontsize = 12)\n",
        "top10_movie_genre = movie_list.groupby('listed_in').agg({'show_id':'count'}).sort_values('show_id', ascending= False).head(10).reset_index()['listed_in'].to_list()"
      ]
    },
    {
      "cell_type": "code",
      "execution_count": 30,
      "metadata": {
        "id": "KtkpyL5730PP",
        "colab": {
          "base_uri": "https://localhost:8080/",
          "height": 625
        },
        "outputId": "4e7159e4-64ba-49bd-a11c-b91f77a17e27"
      },
      "outputs": [
        {
          "output_type": "display_data",
          "data": {
            "text/plain": [
              "<Figure size 1080x720 with 1 Axes>"
            ],
            "image/png": "[encoded data removed]"
          },
          "metadata": {}
        }
      ],
      "source": [
        "a=tv_shows.loc[:,['show_id','listed_in']].copy()\n",
        "tv = (a['listed_in'].to_list())\n",
        "\n",
        "tv_show_list = []\n",
        "for genre in tv:\n",
        "  if ',' in genre:\n",
        "    a = genre.split(', ')\n",
        "    tv_show_list = tv_show_list + a\n",
        "  else:\n",
        "    tv_show_list.append(genre)\n",
        "tv_show_list = pd.DataFrame({'listed_in' : tv_show_list, 'show_id':np.arange(0,len(tv_show_list),1)})\n",
        "a = tv_show_list.groupby('listed_in').agg({'show_id':'count'}).sort_values('show_id', ascending= False).head(10).reset_index()\n",
        "plt.figure(figsize=(15,10))\n",
        "a = sns.barplot(y = 'listed_in', x = 'show_id',data = a )\n",
        "a = plt.title('Top10 Genre of TV Shows',fontsize = 14, fontweight='bold')\n",
        "a = plt.ylabel('Genres',fontsize = 12)\n",
        "a = plt.xlabel('Number of TV Shows ',fontsize = 12)\n",
        "top_10_tv_show_genre = tv_show_list.groupby('listed_in').agg({'show_id':'count'}).sort_values('show_id', ascending= False).head(10).reset_index()['listed_in'].to_list()"
      ]
    },
    {
      "cell_type": "markdown",
      "metadata": {
        "id": "2J7JgS5UrDMw"
      },
      "source": [
        "In both Movies and TV Shows top genres are International Movies/Shows, Dramas and Comedies."
      ]
    },
    {
      "cell_type": "markdown",
      "metadata": {
        "id": "GiBlTjuzs4VB"
      },
      "source": [
        "### **Top 10 Countries producing content on Netflix**"
      ]
    },
    {
      "cell_type": "code",
      "execution_count": 31,
      "metadata": {
        "id": "S6uc_s0GmyQ_",
        "colab": {
          "base_uri": "https://localhost:8080/",
          "height": 625
        },
        "outputId": "076a12a0-f852-46fb-f8b3-3be1c300ecb7"
      },
      "outputs": [
        {
          "output_type": "display_data",
          "data": {
            "text/plain": [
              "<Figure size 1080x720 with 1 Axes>"
            ],
            "image/png": "[encoded data removed]"
          },
          "metadata": {}
        }
      ],
      "source": [
        "a = df.loc[:,['show_id','title','country']].copy()\n",
        "country_list = (a['country'].to_list())\n",
        "\n",
        "newlist = []\n",
        "for country in country_list:\n",
        "  if ',' in country:\n",
        "    a = genre.split(', ')\n",
        "    country_list = country_list + a\n",
        "  else:\n",
        "    newlist.append(country)\n",
        "\n",
        "country_list = pd.DataFrame({'country' : newlist, 'show_id':np.arange(0,len(newlist),1)})\n",
        "a = country_list.groupby('country').agg({'show_id':'count'}).sort_values('show_id', ascending= False).head(10).reset_index()\n",
        "plt.figure(figsize=(15,10))\n",
        "a = sns.barplot(x = 'country', y = 'show_id',data = a , palette='icefire_r')\n",
        "a = plt.title('Movies/Show numbers produced in Countries',fontsize = 14, fontweight='bold')\n",
        "a = plt.ylabel('Country',fontsize = 12)\n",
        "a = plt.xlabel('Number of Videos',fontsize = 12)\n",
        "top10countries = country_list.groupby('country').agg({'show_id':'count'}).sort_values('show_id', ascending= False).head(10).reset_index()['country'].unique()"
      ]
    },
    {
      "cell_type": "markdown",
      "metadata": {
        "id": "FhZzBde3tfuA"
      },
      "source": [
        "United States is the country producing maximum content on Netflix followed by India and UK."
      ]
    },
    {
      "cell_type": "markdown",
      "metadata": {
        "id": "4lKAjjDvxMwZ"
      },
      "source": [
        "### **What Type of content produced by Top 10 Countries**\n"
      ]
    },
    {
      "cell_type": "code",
      "execution_count": 32,
      "metadata": {
        "id": "_7ys7vbKKDql"
      },
      "outputs": [],
      "source": [
        "# Create subset of dataset with required data.\n",
        "conuntry_genre = df[['country', 'listed_in']]\n",
        "\n",
        "# Create a function to seperate all genres and store counts for each.\n",
        "def country_wise_genre(country):\n",
        "  country_genre = conuntry_genre[conuntry_genre['country'] == country]\n",
        "  country_genre = \", \".join(country_genre['listed_in'].dropna()).split(\", \")\n",
        "  country_genre_dict = dict(Counter(country_genre))\n",
        "  return country_genre_dict\n",
        "\n",
        "# Define list of top ten countries.\n",
        "country_list = ['United States', 'India', 'United Kingdom', 'Japan', 'South Korea', 'Canada', 'Spain', 'France', 'Egypt', 'Turkey']\n",
        "# Create an empty dict to store values of each genre for each country.\n",
        "country_wise_genre_dict = {}\n",
        "# Iterate through all values in country_list.\n",
        "for i in country_list:\n",
        "  genre_data = country_wise_genre(i)\n",
        "  country_wise_genre_dict[i] = genre_data\n",
        "  country_genre_count_df = pd.DataFrame(country_wise_genre_dict).reset_index()\n",
        "  country_genre_count_df.rename({'index':'Genre'}, inplace=True, axis=1)"
      ]
    },
    {
      "cell_type": "code",
      "execution_count": 33,
      "metadata": {
        "id": "5FDBYe4aMjAX",
        "colab": {
          "base_uri": "https://localhost:8080/"
        },
        "outputId": "b8ba0bc9-71bb-46e9-844c-81c0dd12bafe"
      },
      "outputs": [
        {
          "output_type": "execute_result",
          "data": {
            "text/plain": [
              "{'United States': {'Action & Adventure': 211,\n",
              "  'Independent Movies': 287,\n",
              "  'Sci-Fi & Fantasy': 102,\n",
              "  'Dramas': 561,\n",
              "  'Thrillers': 179,\n",
              "  'International TV Shows': 181,\n",
              "  'TV Dramas': 262,\n",
              "  'Documentaries': 425,\n",
              "  'Reality TV': 136,\n",
              "  'TV Comedies': 269,\n",
              "  'Comedies': 500,\n",
              "  'Sports Movies': 91,\n",
              "  'Romantic TV Shows': 85,\n",
              "  'Romantic Movies': 157,\n",
              "  'Docuseries': 201,\n",
              "  'Science & Nature TV': 44,\n",
              "  'Movies': 37,\n",
              "  'Horror Movies': 132,\n",
              "  'Crime TV Shows': 136,\n",
              "  'TV Mysteries': 38,\n",
              "  'Music & Musicals': 123,\n",
              "  'International Movies': 112,\n",
              "  'LGBTQ Movies': 53,\n",
              "  \"Kids' TV\": 201,\n",
              "  'TV Action & Adventure': 75,\n",
              "  'TV Sci-Fi & Fantasy': 44,\n",
              "  'Anime Series': 15,\n",
              "  'British TV Shows': 16,\n",
              "  'Children & Family Movies': 305,\n",
              "  'TV Shows': 8,\n",
              "  'Stand-Up Comedy & Talk Shows': 40,\n",
              "  'Cult Movies': 32,\n",
              "  'Stand-Up Comedy': 240,\n",
              "  'Classic Movies': 53,\n",
              "  'Teen TV Shows': 30,\n",
              "  'TV Horror': 28,\n",
              "  'TV Thrillers': 22,\n",
              "  'Faith & Spirituality': 30,\n",
              "  'Classic & Cult TV': 12,\n",
              "  'Spanish-Language TV Shows': 26,\n",
              "  'Korean TV Shows': 16,\n",
              "  'Anime Features': 1},\n",
              " 'India': {'Horror Movies': 31,\n",
              "  'International Movies': 785,\n",
              "  'Thrillers': 85,\n",
              "  'Comedies': 293,\n",
              "  'Dramas': 589,\n",
              "  'Independent Movies': 129,\n",
              "  'Action & Adventure': 124,\n",
              "  'International TV Shows': 59,\n",
              "  'TV Dramas': 24,\n",
              "  'TV Shows': 2,\n",
              "  'Music & Musicals': 90,\n",
              "  'Sci-Fi & Fantasy': 10,\n",
              "  'Children & Family Movies': 16,\n",
              "  'Stand-Up Comedy': 6,\n",
              "  'Crime TV Shows': 8,\n",
              "  'TV Action & Adventure': 5,\n",
              "  'Romantic Movies': 111,\n",
              "  \"Kids' TV\": 10,\n",
              "  'TV Comedies': 25,\n",
              "  'Classic Movies': 11,\n",
              "  'Documentaries': 18,\n",
              "  'Cult Movies': 5,\n",
              "  'TV Horror': 7,\n",
              "  'TV Thrillers': 3,\n",
              "  'TV Mysteries': 3,\n",
              "  'Sports Movies': 15,\n",
              "  'British TV Shows': 1,\n",
              "  'Docuseries': 7,\n",
              "  'Romantic TV Shows': 9,\n",
              "  'LGBTQ Movies': 2,\n",
              "  'Faith & Spirituality': 3,\n",
              "  'TV Sci-Fi & Fantasy': 3,\n",
              "  'Reality TV': 3,\n",
              "  'Stand-Up Comedy & Talk Shows': 3,\n",
              "  'Teen TV Shows': 1},\n",
              " 'United Kingdom': {'Sports Movies': 13,\n",
              "  'British TV Shows': 186,\n",
              "  'International TV Shows': 102,\n",
              "  'Reality TV': 32,\n",
              "  'Sci-Fi & Fantasy': 6,\n",
              "  'Documentaries': 79,\n",
              "  'Dramas': 37,\n",
              "  'Independent Movies': 24,\n",
              "  'International Movies': 61,\n",
              "  'Thrillers': 15,\n",
              "  'Comedies': 31,\n",
              "  'Docuseries': 79,\n",
              "  'TV Comedies': 36,\n",
              "  'Romantic TV Shows': 9,\n",
              "  'Action & Adventure': 19,\n",
              "  \"Kids' TV\": 18,\n",
              "  'Music & Musicals': 13,\n",
              "  'Horror Movies': 9,\n",
              "  'Stand-Up Comedy': 20,\n",
              "  'TV Dramas': 20,\n",
              "  'Science & Nature TV': 21,\n",
              "  'Crime TV Shows': 36,\n",
              "  'Classic & Cult TV': 6,\n",
              "  'TV Horror': 1,\n",
              "  'TV Thrillers': 1,\n",
              "  'Movies': 2,\n",
              "  'Romantic Movies': 3,\n",
              "  'Children & Family Movies': 7,\n",
              "  'LGBTQ Movies': 3,\n",
              "  'Classic Movies': 3,\n",
              "  'Stand-Up Comedy & Talk Shows': 1,\n",
              "  'TV Sci-Fi & Fantasy': 1,\n",
              "  'TV Action & Adventure': 3,\n",
              "  'Cult Movies': 3,\n",
              "  'TV Mysteries': 1},\n",
              " 'Japan': {'Anime Series': 119,\n",
              "  'International TV Shows': 128,\n",
              "  'Dramas': 9,\n",
              "  'International Movies': 48,\n",
              "  'Anime Features': 52,\n",
              "  'Children & Family Movies': 11,\n",
              "  'Movies': 1,\n",
              "  'Reality TV': 6,\n",
              "  'Romantic TV Shows': 20,\n",
              "  'Crime TV Shows': 13,\n",
              "  'TV Action & Adventure': 4,\n",
              "  'TV Mysteries': 4,\n",
              "  'Teen TV Shows': 14,\n",
              "  \"Kids' TV\": 12,\n",
              "  'Docuseries': 1,\n",
              "  'TV Dramas': 20,\n",
              "  'Action & Adventure': 42,\n",
              "  'TV Comedies': 6,\n",
              "  'Sci-Fi & Fantasy': 7,\n",
              "  'TV Thrillers': 4,\n",
              "  'TV Horror': 4,\n",
              "  'Romantic Movies': 3,\n",
              "  'Horror Movies': 1,\n",
              "  'TV Shows': 1,\n",
              "  'Music & Musicals': 3,\n",
              "  'Stand-Up Comedy & Talk Shows': 1,\n",
              "  'Classic Movies': 1,\n",
              "  'Thrillers': 1},\n",
              " 'South Korea': {'Horror Movies': 3,\n",
              "  'International Movies': 33,\n",
              "  'Thrillers': 12,\n",
              "  'International TV Shows': 138,\n",
              "  'Romantic TV Shows': 72,\n",
              "  'TV Dramas': 28,\n",
              "  'Korean TV Shows': 130,\n",
              "  'Music & Musicals': 1,\n",
              "  'Dramas': 18,\n",
              "  'TV Comedies': 13,\n",
              "  'Crime TV Shows': 23,\n",
              "  'Stand-Up Comedy & Talk Shows': 3,\n",
              "  'TV Action & Adventure': 6,\n",
              "  'Action & Adventure': 13,\n",
              "  'Reality TV': 3,\n",
              "  \"Kids' TV\": 9,\n",
              "  'TV Horror': 3,\n",
              "  'TV Mysteries': 3,\n",
              "  'Sci-Fi & Fantasy': 3,\n",
              "  'Stand-Up Comedy': 2,\n",
              "  'Comedies': 5,\n",
              "  'Children & Family Movies': 1,\n",
              "  'Documentaries': 1,\n",
              "  'Romantic Movies': 1},\n",
              " 'Canada': {'Documentaries': 20,\n",
              "  'International Movies': 25,\n",
              "  'Comedies': 38,\n",
              "  'Romantic Movies': 15,\n",
              "  'Crime TV Shows': 9,\n",
              "  'International TV Shows': 18,\n",
              "  'TV Dramas': 18,\n",
              "  'Faith & Spirituality': 1,\n",
              "  'Children & Family Movies': 29,\n",
              "  'Dramas': 21,\n",
              "  'Stand-Up Comedy': 2,\n",
              "  'Horror Movies': 7,\n",
              "  'Sports Movies': 6,\n",
              "  'Action & Adventure': 12,\n",
              "  'Thrillers': 11,\n",
              "  'Teen TV Shows': 2,\n",
              "  'Sci-Fi & Fantasy': 5,\n",
              "  'Independent Movies': 15,\n",
              "  'Docuseries': 8,\n",
              "  'Romantic TV Shows': 1,\n",
              "  'LGBTQ Movies': 3,\n",
              "  'TV Mysteries': 3,\n",
              "  'TV Horror': 3,\n",
              "  'Reality TV': 9,\n",
              "  \"Kids' TV\": 20,\n",
              "  'TV Comedies': 14,\n",
              "  'Science & Nature TV': 3,\n",
              "  'TV Sci-Fi & Fantasy': 2,\n",
              "  'TV Thrillers': 4,\n",
              "  'Music & Musicals': 4,\n",
              "  'TV Action & Adventure': 2,\n",
              "  'Korean TV Shows': 1,\n",
              "  'Classic & Cult TV': 1,\n",
              "  'Movies': 4,\n",
              "  'Cult Movies': 3},\n",
              " 'Spain': {'Comedies': 31,\n",
              "  'International Movies': 83,\n",
              "  'Documentaries': 16,\n",
              "  'Dramas': 35,\n",
              "  'International TV Shows': 43,\n",
              "  'Romantic TV Shows': 9,\n",
              "  'Spanish-Language TV Shows': 34,\n",
              "  'Independent Movies': 11,\n",
              "  'Music & Musicals': 4,\n",
              "  'Romantic Movies': 9,\n",
              "  'LGBTQ Movies': 2,\n",
              "  'Crime TV Shows': 20,\n",
              "  'Sports Movies': 3,\n",
              "  'Thrillers': 18,\n",
              "  'TV Dramas': 9,\n",
              "  \"Kids' TV\": 2,\n",
              "  'Horror Movies': 3,\n",
              "  'Docuseries': 4,\n",
              "  'Faith & Spirituality': 2,\n",
              "  'Action & Adventure': 3,\n",
              "  'Teen TV Shows': 1,\n",
              "  'Sci-Fi & Fantasy': 2,\n",
              "  'TV Comedies': 5,\n",
              "  'Reality TV': 2,\n",
              "  'Movies': 1,\n",
              "  'Anime Series': 1,\n",
              "  'TV Action & Adventure': 2,\n",
              "  'Children & Family Movies': 1},\n",
              " 'France': {'Comedies': 17,\n",
              "  'Dramas': 29,\n",
              "  'International Movies': 63,\n",
              "  'Sports Movies': 7,\n",
              "  'International TV Shows': 30,\n",
              "  'TV Comedies': 14,\n",
              "  'Crime TV Shows': 12,\n",
              "  'TV Dramas': 19,\n",
              "  'Action & Adventure': 12,\n",
              "  'Documentaries': 22,\n",
              "  'Sci-Fi & Fantasy': 1,\n",
              "  'Music & Musicals': 5,\n",
              "  'Independent Movies': 8,\n",
              "  'TV Action & Adventure': 2,\n",
              "  'Stand-Up Comedy': 4,\n",
              "  'Docuseries': 5,\n",
              "  'Stand-Up Comedy & Talk Shows': 1,\n",
              "  \"Kids' TV\": 15,\n",
              "  'Romantic Movies': 4,\n",
              "  'TV Horror': 3,\n",
              "  'TV Thrillers': 2,\n",
              "  'Children & Family Movies': 1,\n",
              "  'Reality TV': 2,\n",
              "  'TV Mysteries': 2,\n",
              "  'Thrillers': 3,\n",
              "  'Romantic TV Shows': 2,\n",
              "  'LGBTQ Movies': 1},\n",
              " 'Egypt': {'Horror Movies': 3,\n",
              "  'International Movies': 87,\n",
              "  'Comedies': 57,\n",
              "  'Action & Adventure': 14,\n",
              "  'Dramas': 34,\n",
              "  'Classic Movies': 6,\n",
              "  'Romantic Movies': 11,\n",
              "  'International TV Shows': 12,\n",
              "  'TV Dramas': 10,\n",
              "  'TV Mysteries': 2,\n",
              "  'Romantic TV Shows': 3,\n",
              "  'Children & Family Movies': 1,\n",
              "  'Crime TV Shows': 1,\n",
              "  'Music & Musicals': 3,\n",
              "  'TV Horror': 1,\n",
              "  'Thrillers': 4,\n",
              "  'Sports Movies': 1,\n",
              "  'TV Comedies': 3,\n",
              "  'TV Sci-Fi & Fantasy': 1,\n",
              "  'Independent Movies': 1},\n",
              " 'Turkey': {'International TV Shows': 27,\n",
              "  'TV Dramas': 22,\n",
              "  'TV Mysteries': 2,\n",
              "  'Comedies': 56,\n",
              "  'International Movies': 71,\n",
              "  'Crime TV Shows': 10,\n",
              "  'Romantic Movies': 22,\n",
              "  'Dramas': 24,\n",
              "  'Action & Adventure': 3,\n",
              "  'Sports Movies': 2,\n",
              "  'Thrillers': 2,\n",
              "  'Horror Movies': 3,\n",
              "  'TV Action & Adventure': 5,\n",
              "  'Music & Musicals': 1,\n",
              "  'TV Thrillers': 2,\n",
              "  'TV Horror': 1,\n",
              "  'Romantic TV Shows': 5,\n",
              "  'Children & Family Movies': 2,\n",
              "  'TV Comedies': 3,\n",
              "  'Teen TV Shows': 1,\n",
              "  'Independent Movies': 2}}"
            ]
          },
          "metadata": {},
          "execution_count": 33
        }
      ],
      "source": [
        "country_wise_genre_dict"
      ]
    },
    {
      "cell_type": "code",
      "execution_count": 34,
      "metadata": {
        "id": "diKNkUp8z8BB",
        "colab": {
          "base_uri": "https://localhost:8080/",
          "height": 667
        },
        "outputId": "2978ae6b-0692-48ef-80fb-186c2b730a68"
      },
      "outputs": [
        {
          "output_type": "display_data",
          "data": {
            "text/html": [
              "<html>\n",
              "<head><meta charset=\"utf-8\" /></head>\n",
              "<body>\n",
              "    <div>            <script src=\"https://cdnjs.cloudflare.com/ajax/libs/mathjax/2.7.5/MathJax.js?config=TeX-AMS-MML_SVG\"></script><script type=\"text/javascript\">if (window.MathJax) {MathJax.Hub.Config({SVG: {font: \"STIX-Web\"}});}</script>                <script type=\"text/javascript\">window.PlotlyConfig = {MathJaxConfig: 'local'};</script>\n",
              "        <script src=\"https://cdn.plot.ly/plotly-2.8.3.min.js\"></script>                <div id=\"c60569a8-29b0-4edd-b8f9-1a2467009de7\" class=\"plotly-graph-div\" style=\"height:650px; width:1550px;\"></div>            <script type=\"text/javascript\">                                    window.PLOTLYENV=window.PLOTLYENV || {};                                    if (document.getElementById(\"c60569a8-29b0-4edd-b8f9-1a2467009de7\")) {                    Plotly.newPlot(                        \"c60569a8-29b0-4edd-b8f9-1a2467009de7\",                        [{\"domain\":{\"x\":[0.0,0.16799999999999998],\"y\":[0.625,1.0]},\"hoverinfo\":\"label+percent+name\",\"labels\":[\"Action & Adventure\",\"Independent Movies\",\"Sci-Fi & Fantasy\",\"Dramas\",\"Thrillers\",\"International TV Shows\",\"TV Dramas\",\"Documentaries\",\"Reality TV\",\"TV Comedies\",\"Comedies\",\"Sports Movies\",\"Romantic TV Shows\",\"Romantic Movies\",\"Docuseries\",\"Science & Nature TV\",\"Movies\",\"Horror Movies\",\"Crime TV Shows\",\"TV Mysteries\",\"Music & Musicals\",\"International Movies\",\"LGBTQ Movies\",\"Kids' TV\",\"TV Action & Adventure\",\"TV Sci-Fi & Fantasy\",\"Anime Series\",\"British TV Shows\",\"Children & Family Movies\",\"TV Shows\",\"Stand-Up Comedy & Talk Shows\",\"Cult Movies\",\"Stand-Up Comedy\",\"Classic Movies\",\"Teen TV Shows\",\"TV Horror\",\"TV Thrillers\",\"Faith & Spirituality\",\"Classic & Cult TV\",\"Spanish-Language TV Shows\",\"Korean TV Shows\",\"Anime Features\"],\"marker\":{\"colors\":[\"aliceblue\",\"brown\",\"crimson\",\"cyan\",\"darkblue\",\"darkmagenta\",\"darkolivegreen\",\"darkorange\",\"darkturquoise\",\"darkviolet\",\"deeppink\",\"forestgreen\",\"fuchsia\",\"gainsboro\",\"goldenrod\",\"gray\",\"maroon\",\"mediumaquamarine\",\"mediumvioletred\",\"midnightblue\",\"orchid\",\"palegoldenrod\",\"palegreen\",\"paleturquoise\",\"plum\",\"powderblue\",\"purple\",\"red\",\"rosybrown\",\"royalblue\",\"saddlebrown\",\"salmon\",\"sandybrown\",\"seagreen\",\"seashell\",\"sienna\",\"silver\",\"slategray\",\"snow\",\"springgreen\",\"tomato\",\"yellow\",\"yellowgreen\"]},\"name\":\"United States\",\"textinfo\":\"none\",\"values\":[211,287,102,561,179,181,262,425,136,269,500,91,85,157,201,44,37,132,136,38,123,112,53,201,75,44,15,16,305,8,40,32,240,53,30,28,22,30,12,26,16,1],\"type\":\"pie\"},{\"domain\":{\"x\":[0.208,0.376],\"y\":[0.625,1.0]},\"hoverinfo\":\"label+percent+name\",\"labels\":[\"Action & Adventure\",\"Independent Movies\",\"Sci-Fi & Fantasy\",\"Dramas\",\"Thrillers\",\"International TV Shows\",\"TV Dramas\",\"Documentaries\",\"Reality TV\",\"TV Comedies\",\"Comedies\",\"Sports Movies\",\"Romantic TV Shows\",\"Romantic Movies\",\"Docuseries\",\"Science & Nature TV\",\"Movies\",\"Horror Movies\",\"Crime TV Shows\",\"TV Mysteries\",\"Music & Musicals\",\"International Movies\",\"LGBTQ Movies\",\"Kids' TV\",\"TV Action & Adventure\",\"TV Sci-Fi & Fantasy\",\"Anime Series\",\"British TV Shows\",\"Children & Family Movies\",\"TV Shows\",\"Stand-Up Comedy & Talk Shows\",\"Cult Movies\",\"Stand-Up Comedy\",\"Classic Movies\",\"Teen TV Shows\",\"TV Horror\",\"TV Thrillers\",\"Faith & Spirituality\",\"Classic & Cult TV\",\"Spanish-Language TV Shows\",\"Korean TV Shows\",\"Anime Features\"],\"marker\":{\"colors\":[\"aliceblue\",\"brown\",\"crimson\",\"cyan\",\"darkblue\",\"darkmagenta\",\"darkolivegreen\",\"darkorange\",\"darkturquoise\",\"darkviolet\",\"deeppink\",\"forestgreen\",\"fuchsia\",\"gainsboro\",\"goldenrod\",\"gray\",\"maroon\",\"mediumaquamarine\",\"mediumvioletred\",\"midnightblue\",\"orchid\",\"palegoldenrod\",\"palegreen\",\"paleturquoise\",\"plum\",\"powderblue\",\"purple\",\"red\",\"rosybrown\",\"royalblue\",\"saddlebrown\",\"salmon\",\"sandybrown\",\"seagreen\",\"seashell\",\"sienna\",\"silver\",\"slategray\",\"snow\",\"springgreen\",\"tomato\",\"yellow\",\"yellowgreen\"]},\"name\":\"India\",\"textinfo\":\"none\",\"values\":[124.0,129.0,10.0,589.0,85.0,59.0,24.0,18.0,3.0,25.0,293.0,15.0,9.0,111.0,7.0,null,null,31.0,8.0,3.0,90.0,785.0,2.0,10.0,5.0,3.0,null,1.0,16.0,2.0,3.0,5.0,6.0,11.0,1.0,7.0,3.0,3.0,null,null,null,null],\"type\":\"pie\"},{\"domain\":{\"x\":[0.416,0.584],\"y\":[0.625,1.0]},\"hoverinfo\":\"label+percent+name\",\"labels\":[\"Action & Adventure\",\"Independent Movies\",\"Sci-Fi & Fantasy\",\"Dramas\",\"Thrillers\",\"International TV Shows\",\"TV Dramas\",\"Documentaries\",\"Reality TV\",\"TV Comedies\",\"Comedies\",\"Sports Movies\",\"Romantic TV Shows\",\"Romantic Movies\",\"Docuseries\",\"Science & Nature TV\",\"Movies\",\"Horror Movies\",\"Crime TV Shows\",\"TV Mysteries\",\"Music & Musicals\",\"International Movies\",\"LGBTQ Movies\",\"Kids' TV\",\"TV Action & Adventure\",\"TV Sci-Fi & Fantasy\",\"Anime Series\",\"British TV Shows\",\"Children & Family Movies\",\"TV Shows\",\"Stand-Up Comedy & Talk Shows\",\"Cult Movies\",\"Stand-Up Comedy\",\"Classic Movies\",\"Teen TV Shows\",\"TV Horror\",\"TV Thrillers\",\"Faith & Spirituality\",\"Classic & Cult TV\",\"Spanish-Language TV Shows\",\"Korean TV Shows\",\"Anime Features\"],\"marker\":{\"colors\":[\"aliceblue\",\"brown\",\"crimson\",\"cyan\",\"darkblue\",\"darkmagenta\",\"darkolivegreen\",\"darkorange\",\"darkturquoise\",\"darkviolet\",\"deeppink\",\"forestgreen\",\"fuchsia\",\"gainsboro\",\"goldenrod\",\"gray\",\"maroon\",\"mediumaquamarine\",\"mediumvioletred\",\"midnightblue\",\"orchid\",\"palegoldenrod\",\"palegreen\",\"paleturquoise\",\"plum\",\"powderblue\",\"purple\",\"red\",\"rosybrown\",\"royalblue\",\"saddlebrown\",\"salmon\",\"sandybrown\",\"seagreen\",\"seashell\",\"sienna\",\"silver\",\"slategray\",\"snow\",\"springgreen\",\"tomato\",\"yellow\",\"yellowgreen\"]},\"name\":\"United Kingdom\",\"textinfo\":\"none\",\"values\":[19.0,24.0,6.0,37.0,15.0,102.0,20.0,79.0,32.0,36.0,31.0,13.0,9.0,3.0,79.0,21.0,2.0,9.0,36.0,1.0,13.0,61.0,3.0,18.0,3.0,1.0,null,186.0,7.0,null,1.0,3.0,20.0,3.0,null,1.0,1.0,null,6.0,null,null,null],\"type\":\"pie\"},{\"domain\":{\"x\":[0.624,0.792],\"y\":[0.625,1.0]},\"hoverinfo\":\"label+percent+name\",\"labels\":[\"Action & Adventure\",\"Independent Movies\",\"Sci-Fi & Fantasy\",\"Dramas\",\"Thrillers\",\"International TV Shows\",\"TV Dramas\",\"Documentaries\",\"Reality TV\",\"TV Comedies\",\"Comedies\",\"Sports Movies\",\"Romantic TV Shows\",\"Romantic Movies\",\"Docuseries\",\"Science & Nature TV\",\"Movies\",\"Horror Movies\",\"Crime TV Shows\",\"TV Mysteries\",\"Music & Musicals\",\"International Movies\",\"LGBTQ Movies\",\"Kids' TV\",\"TV Action & Adventure\",\"TV Sci-Fi & Fantasy\",\"Anime Series\",\"British TV Shows\",\"Children & Family Movies\",\"TV Shows\",\"Stand-Up Comedy & Talk Shows\",\"Cult Movies\",\"Stand-Up Comedy\",\"Classic Movies\",\"Teen TV Shows\",\"TV Horror\",\"TV Thrillers\",\"Faith & Spirituality\",\"Classic & Cult TV\",\"Spanish-Language TV Shows\",\"Korean TV Shows\",\"Anime Features\"],\"marker\":{\"colors\":[\"aliceblue\",\"brown\",\"crimson\",\"cyan\",\"darkblue\",\"darkmagenta\",\"darkolivegreen\",\"darkorange\",\"darkturquoise\",\"darkviolet\",\"deeppink\",\"forestgreen\",\"fuchsia\",\"gainsboro\",\"goldenrod\",\"gray\",\"maroon\",\"mediumaquamarine\",\"mediumvioletred\",\"midnightblue\",\"orchid\",\"palegoldenrod\",\"palegreen\",\"paleturquoise\",\"plum\",\"powderblue\",\"purple\",\"red\",\"rosybrown\",\"royalblue\",\"saddlebrown\",\"salmon\",\"sandybrown\",\"seagreen\",\"seashell\",\"sienna\",\"silver\",\"slategray\",\"snow\",\"springgreen\",\"tomato\",\"yellow\",\"yellowgreen\"]},\"name\":\"Japan\",\"textinfo\":\"none\",\"values\":[42.0,null,7.0,9.0,1.0,128.0,20.0,null,6.0,6.0,null,null,20.0,3.0,1.0,null,1.0,1.0,13.0,4.0,3.0,48.0,null,12.0,4.0,null,119.0,null,11.0,1.0,1.0,null,null,1.0,14.0,4.0,4.0,null,null,null,null,52.0],\"type\":\"pie\"},{\"domain\":{\"x\":[0.832,1.0],\"y\":[0.625,1.0]},\"hoverinfo\":\"label+percent+name\",\"labels\":[\"Action & Adventure\",\"Independent Movies\",\"Sci-Fi & Fantasy\",\"Dramas\",\"Thrillers\",\"International TV Shows\",\"TV Dramas\",\"Documentaries\",\"Reality TV\",\"TV Comedies\",\"Comedies\",\"Sports Movies\",\"Romantic TV Shows\",\"Romantic Movies\",\"Docuseries\",\"Science & Nature TV\",\"Movies\",\"Horror Movies\",\"Crime TV Shows\",\"TV Mysteries\",\"Music & Musicals\",\"International Movies\",\"LGBTQ Movies\",\"Kids' TV\",\"TV Action & Adventure\",\"TV Sci-Fi & Fantasy\",\"Anime Series\",\"British TV Shows\",\"Children & Family Movies\",\"TV Shows\",\"Stand-Up Comedy & Talk Shows\",\"Cult Movies\",\"Stand-Up Comedy\",\"Classic Movies\",\"Teen TV Shows\",\"TV Horror\",\"TV Thrillers\",\"Faith & Spirituality\",\"Classic & Cult TV\",\"Spanish-Language TV Shows\",\"Korean TV Shows\",\"Anime Features\"],\"marker\":{\"colors\":[\"aliceblue\",\"brown\",\"crimson\",\"cyan\",\"darkblue\",\"darkmagenta\",\"darkolivegreen\",\"darkorange\",\"darkturquoise\",\"darkviolet\",\"deeppink\",\"forestgreen\",\"fuchsia\",\"gainsboro\",\"goldenrod\",\"gray\",\"maroon\",\"mediumaquamarine\",\"mediumvioletred\",\"midnightblue\",\"orchid\",\"palegoldenrod\",\"palegreen\",\"paleturquoise\",\"plum\",\"powderblue\",\"purple\",\"red\",\"rosybrown\",\"royalblue\",\"saddlebrown\",\"salmon\",\"sandybrown\",\"seagreen\",\"seashell\",\"sienna\",\"silver\",\"slategray\",\"snow\",\"springgreen\",\"tomato\",\"yellow\",\"yellowgreen\"]},\"name\":\"South Korea\",\"textinfo\":\"none\",\"values\":[13.0,null,3.0,18.0,12.0,138.0,28.0,1.0,3.0,13.0,5.0,null,72.0,1.0,null,null,null,3.0,23.0,3.0,1.0,33.0,null,9.0,6.0,null,null,null,1.0,null,3.0,null,2.0,null,null,3.0,null,null,null,null,130.0,null],\"type\":\"pie\"},{\"domain\":{\"x\":[0.0,0.16799999999999998],\"y\":[0.0,0.375]},\"hoverinfo\":\"label+percent+name\",\"labels\":[\"Action & Adventure\",\"Independent Movies\",\"Sci-Fi & Fantasy\",\"Dramas\",\"Thrillers\",\"International TV Shows\",\"TV Dramas\",\"Documentaries\",\"Reality TV\",\"TV Comedies\",\"Comedies\",\"Sports Movies\",\"Romantic TV Shows\",\"Romantic Movies\",\"Docuseries\",\"Science & Nature TV\",\"Movies\",\"Horror Movies\",\"Crime TV Shows\",\"TV Mysteries\",\"Music & Musicals\",\"International Movies\",\"LGBTQ Movies\",\"Kids' TV\",\"TV Action & Adventure\",\"TV Sci-Fi & Fantasy\",\"Anime Series\",\"British TV Shows\",\"Children & Family Movies\",\"TV Shows\",\"Stand-Up Comedy & Talk Shows\",\"Cult Movies\",\"Stand-Up Comedy\",\"Classic Movies\",\"Teen TV Shows\",\"TV Horror\",\"TV Thrillers\",\"Faith & Spirituality\",\"Classic & Cult TV\",\"Spanish-Language TV Shows\",\"Korean TV Shows\",\"Anime Features\"],\"marker\":{\"colors\":[\"aliceblue\",\"brown\",\"crimson\",\"cyan\",\"darkblue\",\"darkmagenta\",\"darkolivegreen\",\"darkorange\",\"darkturquoise\",\"darkviolet\",\"deeppink\",\"forestgreen\",\"fuchsia\",\"gainsboro\",\"goldenrod\",\"gray\",\"maroon\",\"mediumaquamarine\",\"mediumvioletred\",\"midnightblue\",\"orchid\",\"palegoldenrod\",\"palegreen\",\"paleturquoise\",\"plum\",\"powderblue\",\"purple\",\"red\",\"rosybrown\",\"royalblue\",\"saddlebrown\",\"salmon\",\"sandybrown\",\"seagreen\",\"seashell\",\"sienna\",\"silver\",\"slategray\",\"snow\",\"springgreen\",\"tomato\",\"yellow\",\"yellowgreen\"]},\"name\":\"Canada\",\"textinfo\":\"none\",\"values\":[12.0,15.0,5.0,21.0,11.0,18.0,18.0,20.0,9.0,14.0,38.0,6.0,1.0,15.0,8.0,3.0,4.0,7.0,9.0,3.0,4.0,25.0,3.0,20.0,2.0,2.0,null,null,29.0,null,null,3.0,2.0,null,2.0,3.0,4.0,1.0,1.0,null,1.0,null],\"type\":\"pie\"},{\"domain\":{\"x\":[0.208,0.376],\"y\":[0.0,0.375]},\"hoverinfo\":\"label+percent+name\",\"labels\":[\"Action & Adventure\",\"Independent Movies\",\"Sci-Fi & Fantasy\",\"Dramas\",\"Thrillers\",\"International TV Shows\",\"TV Dramas\",\"Documentaries\",\"Reality TV\",\"TV Comedies\",\"Comedies\",\"Sports Movies\",\"Romantic TV Shows\",\"Romantic Movies\",\"Docuseries\",\"Science & Nature TV\",\"Movies\",\"Horror Movies\",\"Crime TV Shows\",\"TV Mysteries\",\"Music & Musicals\",\"International Movies\",\"LGBTQ Movies\",\"Kids' TV\",\"TV Action & Adventure\",\"TV Sci-Fi & Fantasy\",\"Anime Series\",\"British TV Shows\",\"Children & Family Movies\",\"TV Shows\",\"Stand-Up Comedy & Talk Shows\",\"Cult Movies\",\"Stand-Up Comedy\",\"Classic Movies\",\"Teen TV Shows\",\"TV Horror\",\"TV Thrillers\",\"Faith & Spirituality\",\"Classic & Cult TV\",\"Spanish-Language TV Shows\",\"Korean TV Shows\",\"Anime Features\"],\"marker\":{\"colors\":[\"aliceblue\",\"brown\",\"crimson\",\"cyan\",\"darkblue\",\"darkmagenta\",\"darkolivegreen\",\"darkorange\",\"darkturquoise\",\"darkviolet\",\"deeppink\",\"forestgreen\",\"fuchsia\",\"gainsboro\",\"goldenrod\",\"gray\",\"maroon\",\"mediumaquamarine\",\"mediumvioletred\",\"midnightblue\",\"orchid\",\"palegoldenrod\",\"palegreen\",\"paleturquoise\",\"plum\",\"powderblue\",\"purple\",\"red\",\"rosybrown\",\"royalblue\",\"saddlebrown\",\"salmon\",\"sandybrown\",\"seagreen\",\"seashell\",\"sienna\",\"silver\",\"slategray\",\"snow\",\"springgreen\",\"tomato\",\"yellow\",\"yellowgreen\"]},\"name\":\"Spain\",\"textinfo\":\"none\",\"values\":[3.0,11.0,2.0,35.0,18.0,43.0,9.0,16.0,2.0,5.0,31.0,3.0,9.0,9.0,4.0,null,1.0,3.0,20.0,null,4.0,83.0,2.0,2.0,2.0,null,1.0,null,1.0,null,null,null,null,null,1.0,null,null,2.0,null,34.0,null,null],\"type\":\"pie\"},{\"domain\":{\"x\":[0.416,0.584],\"y\":[0.0,0.375]},\"hoverinfo\":\"label+percent+name\",\"labels\":[\"Action & Adventure\",\"Independent Movies\",\"Sci-Fi & Fantasy\",\"Dramas\",\"Thrillers\",\"International TV Shows\",\"TV Dramas\",\"Documentaries\",\"Reality TV\",\"TV Comedies\",\"Comedies\",\"Sports Movies\",\"Romantic TV Shows\",\"Romantic Movies\",\"Docuseries\",\"Science & Nature TV\",\"Movies\",\"Horror Movies\",\"Crime TV Shows\",\"TV Mysteries\",\"Music & Musicals\",\"International Movies\",\"LGBTQ Movies\",\"Kids' TV\",\"TV Action & Adventure\",\"TV Sci-Fi & Fantasy\",\"Anime Series\",\"British TV Shows\",\"Children & Family Movies\",\"TV Shows\",\"Stand-Up Comedy & Talk Shows\",\"Cult Movies\",\"Stand-Up Comedy\",\"Classic Movies\",\"Teen TV Shows\",\"TV Horror\",\"TV Thrillers\",\"Faith & Spirituality\",\"Classic & Cult TV\",\"Spanish-Language TV Shows\",\"Korean TV Shows\",\"Anime Features\"],\"marker\":{\"colors\":[\"aliceblue\",\"brown\",\"crimson\",\"cyan\",\"darkblue\",\"darkmagenta\",\"darkolivegreen\",\"darkorange\",\"darkturquoise\",\"darkviolet\",\"deeppink\",\"forestgreen\",\"fuchsia\",\"gainsboro\",\"goldenrod\",\"gray\",\"maroon\",\"mediumaquamarine\",\"mediumvioletred\",\"midnightblue\",\"orchid\",\"palegoldenrod\",\"palegreen\",\"paleturquoise\",\"plum\",\"powderblue\",\"purple\",\"red\",\"rosybrown\",\"royalblue\",\"saddlebrown\",\"salmon\",\"sandybrown\",\"seagreen\",\"seashell\",\"sienna\",\"silver\",\"slategray\",\"snow\",\"springgreen\",\"tomato\",\"yellow\",\"yellowgreen\"]},\"name\":\"France\",\"textinfo\":\"none\",\"values\":[12.0,8.0,1.0,29.0,3.0,30.0,19.0,22.0,2.0,14.0,17.0,7.0,2.0,4.0,5.0,null,null,null,12.0,2.0,5.0,63.0,1.0,15.0,2.0,null,null,null,1.0,null,1.0,null,4.0,null,null,3.0,2.0,null,null,null,null,null],\"type\":\"pie\"},{\"domain\":{\"x\":[0.624,0.792],\"y\":[0.0,0.375]},\"hoverinfo\":\"label+percent+name\",\"labels\":[\"Action & Adventure\",\"Independent Movies\",\"Sci-Fi & Fantasy\",\"Dramas\",\"Thrillers\",\"International TV Shows\",\"TV Dramas\",\"Documentaries\",\"Reality TV\",\"TV Comedies\",\"Comedies\",\"Sports Movies\",\"Romantic TV Shows\",\"Romantic Movies\",\"Docuseries\",\"Science & Nature TV\",\"Movies\",\"Horror Movies\",\"Crime TV Shows\",\"TV Mysteries\",\"Music & Musicals\",\"International Movies\",\"LGBTQ Movies\",\"Kids' TV\",\"TV Action & Adventure\",\"TV Sci-Fi & Fantasy\",\"Anime Series\",\"British TV Shows\",\"Children & Family Movies\",\"TV Shows\",\"Stand-Up Comedy & Talk Shows\",\"Cult Movies\",\"Stand-Up Comedy\",\"Classic Movies\",\"Teen TV Shows\",\"TV Horror\",\"TV Thrillers\",\"Faith & Spirituality\",\"Classic & Cult TV\",\"Spanish-Language TV Shows\",\"Korean TV Shows\",\"Anime Features\"],\"marker\":{\"colors\":[\"aliceblue\",\"brown\",\"crimson\",\"cyan\",\"darkblue\",\"darkmagenta\",\"darkolivegreen\",\"darkorange\",\"darkturquoise\",\"darkviolet\",\"deeppink\",\"forestgreen\",\"fuchsia\",\"gainsboro\",\"goldenrod\",\"gray\",\"maroon\",\"mediumaquamarine\",\"mediumvioletred\",\"midnightblue\",\"orchid\",\"palegoldenrod\",\"palegreen\",\"paleturquoise\",\"plum\",\"powderblue\",\"purple\",\"red\",\"rosybrown\",\"royalblue\",\"saddlebrown\",\"salmon\",\"sandybrown\",\"seagreen\",\"seashell\",\"sienna\",\"silver\",\"slategray\",\"snow\",\"springgreen\",\"tomato\",\"yellow\",\"yellowgreen\"]},\"name\":\"Egypt\",\"textinfo\":\"none\",\"values\":[14.0,1.0,null,34.0,4.0,12.0,10.0,null,null,3.0,57.0,1.0,3.0,11.0,null,null,null,3.0,1.0,2.0,3.0,87.0,null,null,null,1.0,null,null,1.0,null,null,null,null,6.0,null,1.0,null,null,null,null,null,null],\"type\":\"pie\"},{\"domain\":{\"x\":[0.832,1.0],\"y\":[0.0,0.375]},\"hoverinfo\":\"label+percent+name\",\"labels\":[\"Action & Adventure\",\"Independent Movies\",\"Sci-Fi & Fantasy\",\"Dramas\",\"Thrillers\",\"International TV Shows\",\"TV Dramas\",\"Documentaries\",\"Reality TV\",\"TV Comedies\",\"Comedies\",\"Sports Movies\",\"Romantic TV Shows\",\"Romantic Movies\",\"Docuseries\",\"Science & Nature TV\",\"Movies\",\"Horror Movies\",\"Crime TV Shows\",\"TV Mysteries\",\"Music & Musicals\",\"International Movies\",\"LGBTQ Movies\",\"Kids' TV\",\"TV Action & Adventure\",\"TV Sci-Fi & Fantasy\",\"Anime Series\",\"British TV Shows\",\"Children & Family Movies\",\"TV Shows\",\"Stand-Up Comedy & Talk Shows\",\"Cult Movies\",\"Stand-Up Comedy\",\"Classic Movies\",\"Teen TV Shows\",\"TV Horror\",\"TV Thrillers\",\"Faith & Spirituality\",\"Classic & Cult TV\",\"Spanish-Language TV Shows\",\"Korean TV Shows\",\"Anime Features\"],\"marker\":{\"colors\":[\"aliceblue\",\"brown\",\"crimson\",\"cyan\",\"darkblue\",\"darkmagenta\",\"darkolivegreen\",\"darkorange\",\"darkturquoise\",\"darkviolet\",\"deeppink\",\"forestgreen\",\"fuchsia\",\"gainsboro\",\"goldenrod\",\"gray\",\"maroon\",\"mediumaquamarine\",\"mediumvioletred\",\"midnightblue\",\"orchid\",\"palegoldenrod\",\"palegreen\",\"paleturquoise\",\"plum\",\"powderblue\",\"purple\",\"red\",\"rosybrown\",\"royalblue\",\"saddlebrown\",\"salmon\",\"sandybrown\",\"seagreen\",\"seashell\",\"sienna\",\"silver\",\"slategray\",\"snow\",\"springgreen\",\"tomato\",\"yellow\",\"yellowgreen\"]},\"name\":\"Turkey\",\"textinfo\":\"none\",\"values\":[3.0,2.0,null,24.0,2.0,27.0,22.0,null,null,3.0,56.0,2.0,5.0,22.0,null,null,null,3.0,10.0,2.0,1.0,71.0,null,null,5.0,null,null,null,2.0,null,null,null,null,null,1.0,1.0,2.0,null,null,null,null,null],\"type\":\"pie\"}],                        {\"annotations\":[{\"font\":{\"size\":16},\"showarrow\":false,\"text\":\"United States\",\"x\":0.08399999999999999,\"xanchor\":\"center\",\"xref\":\"paper\",\"y\":1.0,\"yanchor\":\"bottom\",\"yref\":\"paper\"},{\"font\":{\"size\":16},\"showarrow\":false,\"text\":\"India\",\"x\":0.292,\"xanchor\":\"center\",\"xref\":\"paper\",\"y\":1.0,\"yanchor\":\"bottom\",\"yref\":\"paper\"},{\"font\":{\"size\":16},\"showarrow\":false,\"text\":\"United Kingdom\",\"x\":0.5,\"xanchor\":\"center\",\"xref\":\"paper\",\"y\":1.0,\"yanchor\":\"bottom\",\"yref\":\"paper\"},{\"font\":{\"size\":16},\"showarrow\":false,\"text\":\"Japan\",\"x\":0.708,\"xanchor\":\"center\",\"xref\":\"paper\",\"y\":1.0,\"yanchor\":\"bottom\",\"yref\":\"paper\"},{\"font\":{\"size\":16},\"showarrow\":false,\"text\":\"South Korea\",\"x\":0.9159999999999999,\"xanchor\":\"center\",\"xref\":\"paper\",\"y\":1.0,\"yanchor\":\"bottom\",\"yref\":\"paper\"},{\"font\":{\"size\":16},\"showarrow\":false,\"text\":\"Canada\",\"x\":0.08399999999999999,\"xanchor\":\"center\",\"xref\":\"paper\",\"y\":0.375,\"yanchor\":\"bottom\",\"yref\":\"paper\"},{\"font\":{\"size\":16},\"showarrow\":false,\"text\":\"Spain\",\"x\":0.292,\"xanchor\":\"center\",\"xref\":\"paper\",\"y\":0.375,\"yanchor\":\"bottom\",\"yref\":\"paper\"},{\"font\":{\"size\":16},\"showarrow\":false,\"text\":\"France\",\"x\":0.5,\"xanchor\":\"center\",\"xref\":\"paper\",\"y\":0.375,\"yanchor\":\"bottom\",\"yref\":\"paper\"},{\"font\":{\"size\":16},\"showarrow\":false,\"text\":\"Egypt\",\"x\":0.708,\"xanchor\":\"center\",\"xref\":\"paper\",\"y\":0.375,\"yanchor\":\"bottom\",\"yref\":\"paper\"},{\"font\":{\"size\":16},\"showarrow\":false,\"text\":\"Turkey\",\"x\":0.9159999999999999,\"xanchor\":\"center\",\"xref\":\"paper\",\"y\":0.375,\"yanchor\":\"bottom\",\"yref\":\"paper\"}],\"height\":650,\"legend\":{\"orientation\":\"h\",\"x\":0.099},\"paper_bgcolor\":\"white\",\"template\":{\"data\":{\"barpolar\":[{\"marker\":{\"line\":{\"color\":\"#E5ECF6\",\"width\":0.5},\"pattern\":{\"fillmode\":\"overlay\",\"size\":10,\"solidity\":0.2}},\"type\":\"barpolar\"}],\"bar\":[{\"error_x\":{\"color\":\"#2a3f5f\"},\"error_y\":{\"color\":\"#2a3f5f\"},\"marker\":{\"line\":{\"color\":\"#E5ECF6\",\"width\":0.5},\"pattern\":{\"fillmode\":\"overlay\",\"size\":10,\"solidity\":0.2}},\"type\":\"bar\"}],\"carpet\":[{\"aaxis\":{\"endlinecolor\":\"#2a3f5f\",\"gridcolor\":\"white\",\"linecolor\":\"white\",\"minorgridcolor\":\"white\",\"startlinecolor\":\"#2a3f5f\"},\"baxis\":{\"endlinecolor\":\"#2a3f5f\",\"gridcolor\":\"white\",\"linecolor\":\"white\",\"minorgridcolor\":\"white\",\"startlinecolor\":\"#2a3f5f\"},\"type\":\"carpet\"}],\"choropleth\":[{\"colorbar\":{\"outlinewidth\":0,\"ticks\":\"\"},\"type\":\"choropleth\"}],\"contourcarpet\":[{\"colorbar\":{\"outlinewidth\":0,\"ticks\":\"\"},\"type\":\"contourcarpet\"}],\"contour\":[{\"colorbar\":{\"outlinewidth\":0,\"ticks\":\"\"},\"colorscale\":[[0.0,\"#0d0887\"],[0.1111111111111111,\"#46039f\"],[0.2222222222222222,\"#7201a8\"],[0.3333333333333333,\"#9c179e\"],[0.4444444444444444,\"#bd3786\"],[0.5555555555555556,\"#d8576b\"],[0.6666666666666666,\"#ed7953\"],[0.7777777777777778,\"#fb9f3a\"],[0.8888888888888888,\"#fdca26\"],[1.0,\"#f0f921\"]],\"type\":\"contour\"}],\"heatmapgl\":[{\"colorbar\":{\"outlinewidth\":0,\"ticks\":\"\"},\"colorscale\":[[0.0,\"#0d0887\"],[0.1111111111111111,\"#46039f\"],[0.2222222222222222,\"#7201a8\"],[0.3333333333333333,\"#9c179e\"],[0.4444444444444444,\"#bd3786\"],[0.5555555555555556,\"#d8576b\"],[0.6666666666666666,\"#ed7953\"],[0.7777777777777778,\"#fb9f3a\"],[0.8888888888888888,\"#fdca26\"],[1.0,\"#f0f921\"]],\"type\":\"heatmapgl\"}],\"heatmap\":[{\"colorbar\":{\"outlinewidth\":0,\"ticks\":\"\"},\"colorscale\":[[0.0,\"#0d0887\"],[0.1111111111111111,\"#46039f\"],[0.2222222222222222,\"#7201a8\"],[0.3333333333333333,\"#9c179e\"],[0.4444444444444444,\"#bd3786\"],[0.5555555555555556,\"#d8576b\"],[0.6666666666666666,\"#ed7953\"],[0.7777777777777778,\"#fb9f3a\"],[0.8888888888888888,\"#fdca26\"],[1.0,\"#f0f921\"]],\"type\":\"heatmap\"}],\"histogram2dcontour\":[{\"colorbar\":{\"outlinewidth\":0,\"ticks\":\"\"},\"colorscale\":[[0.0,\"#0d0887\"],[0.1111111111111111,\"#46039f\"],[0.2222222222222222,\"#7201a8\"],[0.3333333333333333,\"#9c179e\"],[0.4444444444444444,\"#bd3786\"],[0.5555555555555556,\"#d8576b\"],[0.6666666666666666,\"#ed7953\"],[0.7777777777777778,\"#fb9f3a\"],[0.8888888888888888,\"#fdca26\"],[1.0,\"#f0f921\"]],\"type\":\"histogram2dcontour\"}],\"histogram2d\":[{\"colorbar\":{\"outlinewidth\":0,\"ticks\":\"\"},\"colorscale\":[[0.0,\"#0d0887\"],[0.1111111111111111,\"#46039f\"],[0.2222222222222222,\"#7201a8\"],[0.3333333333333333,\"#9c179e\"],[0.4444444444444444,\"#bd3786\"],[0.5555555555555556,\"#d8576b\"],[0.6666666666666666,\"#ed7953\"],[0.7777777777777778,\"#fb9f3a\"],[0.8888888888888888,\"#fdca26\"],[1.0,\"#f0f921\"]],\"type\":\"histogram2d\"}],\"histogram\":[{\"marker\":{\"pattern\":{\"fillmode\":\"overlay\",\"size\":10,\"solidity\":0.2}},\"type\":\"histogram\"}],\"mesh3d\":[{\"colorbar\":{\"outlinewidth\":0,\"ticks\":\"\"},\"type\":\"mesh3d\"}],\"parcoords\":[{\"line\":{\"colorbar\":{\"outlinewidth\":0,\"ticks\":\"\"}},\"type\":\"parcoords\"}],\"pie\":[{\"automargin\":true,\"type\":\"pie\"}],\"scatter3d\":[{\"line\":{\"colorbar\":{\"outlinewidth\":0,\"ticks\":\"\"}},\"marker\":{\"colorbar\":{\"outlinewidth\":0,\"ticks\":\"\"}},\"type\":\"scatter3d\"}],\"scattercarpet\":[{\"marker\":{\"colorbar\":{\"outlinewidth\":0,\"ticks\":\"\"}},\"type\":\"scattercarpet\"}],\"scattergeo\":[{\"marker\":{\"colorbar\":{\"outlinewidth\":0,\"ticks\":\"\"}},\"type\":\"scattergeo\"}],\"scattergl\":[{\"marker\":{\"colorbar\":{\"outlinewidth\":0,\"ticks\":\"\"}},\"type\":\"scattergl\"}],\"scattermapbox\":[{\"marker\":{\"colorbar\":{\"outlinewidth\":0,\"ticks\":\"\"}},\"type\":\"scattermapbox\"}],\"scatterpolargl\":[{\"marker\":{\"colorbar\":{\"outlinewidth\":0,\"ticks\":\"\"}},\"type\":\"scatterpolargl\"}],\"scatterpolar\":[{\"marker\":{\"colorbar\":{\"outlinewidth\":0,\"ticks\":\"\"}},\"type\":\"scatterpolar\"}],\"scatter\":[{\"marker\":{\"colorbar\":{\"outlinewidth\":0,\"ticks\":\"\"}},\"type\":\"scatter\"}],\"scatterternary\":[{\"marker\":{\"colorbar\":{\"outlinewidth\":0,\"ticks\":\"\"}},\"type\":\"scatterternary\"}],\"surface\":[{\"colorbar\":{\"outlinewidth\":0,\"ticks\":\"\"},\"colorscale\":[[0.0,\"#0d0887\"],[0.1111111111111111,\"#46039f\"],[0.2222222222222222,\"#7201a8\"],[0.3333333333333333,\"#9c179e\"],[0.4444444444444444,\"#bd3786\"],[0.5555555555555556,\"#d8576b\"],[0.6666666666666666,\"#ed7953\"],[0.7777777777777778,\"#fb9f3a\"],[0.8888888888888888,\"#fdca26\"],[1.0,\"#f0f921\"]],\"type\":\"surface\"}],\"table\":[{\"cells\":{\"fill\":{\"color\":\"#EBF0F8\"},\"line\":{\"color\":\"white\"}},\"header\":{\"fill\":{\"color\":\"#C8D4E3\"},\"line\":{\"color\":\"white\"}},\"type\":\"table\"}]},\"layout\":{\"annotationdefaults\":{\"arrowcolor\":\"#2a3f5f\",\"arrowhead\":0,\"arrowwidth\":1},\"autotypenumbers\":\"strict\",\"coloraxis\":{\"colorbar\":{\"outlinewidth\":0,\"ticks\":\"\"}},\"colorscale\":{\"diverging\":[[0,\"#8e0152\"],[0.1,\"#c51b7d\"],[0.2,\"#de77ae\"],[0.3,\"#f1b6da\"],[0.4,\"#fde0ef\"],[0.5,\"#f7f7f7\"],[0.6,\"#e6f5d0\"],[0.7,\"#b8e186\"],[0.8,\"#7fbc41\"],[0.9,\"#4d9221\"],[1,\"#276419\"]],\"sequential\":[[0.0,\"#0d0887\"],[0.1111111111111111,\"#46039f\"],[0.2222222222222222,\"#7201a8\"],[0.3333333333333333,\"#9c179e\"],[0.4444444444444444,\"#bd3786\"],[0.5555555555555556,\"#d8576b\"],[0.6666666666666666,\"#ed7953\"],[0.7777777777777778,\"#fb9f3a\"],[0.8888888888888888,\"#fdca26\"],[1.0,\"#f0f921\"]],\"sequentialminus\":[[0.0,\"#0d0887\"],[0.1111111111111111,\"#46039f\"],[0.2222222222222222,\"#7201a8\"],[0.3333333333333333,\"#9c179e\"],[0.4444444444444444,\"#bd3786\"],[0.5555555555555556,\"#d8576b\"],[0.6666666666666666,\"#ed7953\"],[0.7777777777777778,\"#fb9f3a\"],[0.8888888888888888,\"#fdca26\"],[1.0,\"#f0f921\"]]},\"colorway\":[\"#636efa\",\"#EF553B\",\"#00cc96\",\"#ab63fa\",\"#FFA15A\",\"#19d3f3\",\"#FF6692\",\"#B6E880\",\"#FF97FF\",\"#FECB52\"],\"font\":{\"color\":\"#2a3f5f\"},\"geo\":{\"bgcolor\":\"white\",\"lakecolor\":\"white\",\"landcolor\":\"#E5ECF6\",\"showlakes\":true,\"showland\":true,\"subunitcolor\":\"white\"},\"hoverlabel\":{\"align\":\"left\"},\"hovermode\":\"closest\",\"mapbox\":{\"style\":\"light\"},\"paper_bgcolor\":\"white\",\"plot_bgcolor\":\"#E5ECF6\",\"polar\":{\"angularaxis\":{\"gridcolor\":\"white\",\"linecolor\":\"white\",\"ticks\":\"\"},\"bgcolor\":\"#E5ECF6\",\"radialaxis\":{\"gridcolor\":\"white\",\"linecolor\":\"white\",\"ticks\":\"\"}},\"scene\":{\"xaxis\":{\"backgroundcolor\":\"#E5ECF6\",\"gridcolor\":\"white\",\"gridwidth\":2,\"linecolor\":\"white\",\"showbackground\":true,\"ticks\":\"\",\"zerolinecolor\":\"white\"},\"yaxis\":{\"backgroundcolor\":\"#E5ECF6\",\"gridcolor\":\"white\",\"gridwidth\":2,\"linecolor\":\"white\",\"showbackground\":true,\"ticks\":\"\",\"zerolinecolor\":\"white\"},\"zaxis\":{\"backgroundcolor\":\"#E5ECF6\",\"gridcolor\":\"white\",\"gridwidth\":2,\"linecolor\":\"white\",\"showbackground\":true,\"ticks\":\"\",\"zerolinecolor\":\"white\"}},\"shapedefaults\":{\"line\":{\"color\":\"#2a3f5f\"}},\"ternary\":{\"aaxis\":{\"gridcolor\":\"white\",\"linecolor\":\"white\",\"ticks\":\"\"},\"baxis\":{\"gridcolor\":\"white\",\"linecolor\":\"white\",\"ticks\":\"\"},\"bgcolor\":\"#E5ECF6\",\"caxis\":{\"gridcolor\":\"white\",\"linecolor\":\"white\",\"ticks\":\"\"}},\"title\":{\"x\":0.05},\"xaxis\":{\"automargin\":true,\"gridcolor\":\"white\",\"linecolor\":\"white\",\"ticks\":\"\",\"title\":{\"standoff\":15},\"zerolinecolor\":\"white\",\"zerolinewidth\":2},\"yaxis\":{\"automargin\":true,\"gridcolor\":\"white\",\"linecolor\":\"white\",\"ticks\":\"\",\"title\":{\"standoff\":15},\"zerolinecolor\":\"white\",\"zerolinewidth\":2}}},\"title\":{\"font\":{\"size\":25},\"text\":\"Top ten countries and the content they provide.\",\"x\":0.5,\"xanchor\":\"center\",\"y\":0.97,\"yanchor\":\"top\"},\"width\":1550},                        {\"responsive\": true}                    ).then(function(){\n",
              "                            \n",
              "var gd = document.getElementById('c60569a8-29b0-4edd-b8f9-1a2467009de7');\n",
              "var x = new MutationObserver(function (mutations, observer) {{\n",
              "        var display = window.getComputedStyle(gd).display;\n",
              "        if (!display || display === 'none') {{\n",
              "            console.log([gd, 'removed!']);\n",
              "            Plotly.purge(gd);\n",
              "            observer.disconnect();\n",
              "        }}\n",
              "}});\n",
              "\n",
              "// Listen for the removal of the full notebook cells\n",
              "var notebookContainer = gd.closest('#notebook-container');\n",
              "if (notebookContainer) {{\n",
              "    x.observe(notebookContainer, {childList: true});\n",
              "}}\n",
              "\n",
              "// Listen for the clearing of the current output cell\n",
              "var outputEl = gd.closest('.output');\n",
              "if (outputEl) {{\n",
              "    x.observe(outputEl, {childList: true});\n",
              "}}\n",
              "\n",
              "                        })                };                            </script>        </div>\n",
              "</body>\n",
              "</html>"
            ]
          },
          "metadata": {}
        }
      ],
      "source": [
        "# Plot the above data.\n",
        "df1 = country_genre_count_df\n",
        "\n",
        "# Define colours to be used.\n",
        "colors = ['aliceblue', 'brown', 'crimson', 'cyan', 'darkblue', 'darkmagenta', 'darkolivegreen', 'darkorange', 'darkturquoise', 'darkviolet', 'deeppink', 'forestgreen',\n",
        "          'fuchsia', 'gainsboro', 'goldenrod', 'gray','maroon', 'mediumaquamarine', 'mediumvioletred', 'midnightblue', 'orchid', 'palegoldenrod', 'palegreen', 'paleturquoise',\n",
        "          'plum', 'powderblue', 'purple', 'red', 'rosybrown', 'royalblue', 'saddlebrown', 'salmon', 'sandybrown','seagreen', 'seashell', 'sienna', 'silver', 'slategray', 'snow',\n",
        "          'springgreen', 'tomato','yellow', 'yellowgreen']\n",
        "\n",
        "# Create subplots, using 'domain' type for pie charts\n",
        "specs = [[{'type':'domain'}, {'type':'domain'}, {'type':'domain'}, {'type':'domain'}, {'type':'domain'}], \n",
        "         [{'type':'domain'}, {'type':'domain'}, {'type':'domain'}, {'type':'domain'}, {'type':'domain'}]]                                                                                              \n",
        "fig = make_subplots(rows=2, cols=5, specs=specs, subplot_titles=['United States', 'India', 'United Kingdom', 'Japan', 'South Korea', 'Canada', 'Spain', 'France', 'Egypt', 'Turkey'])\n",
        "\n",
        "# Define traces.\n",
        "fig.add_trace(go.Pie(labels=df1['Genre'], values=df1['United States'], name='United States'),1,1)\n",
        "fig.add_trace(go.Pie(labels=df1['Genre'], values=df1['India'],  name='India'),1,2)\n",
        "fig.add_trace(go.Pie(labels=df1['Genre'], values=df1['United Kingdom'],  name='United Kingdom'),1,3)\n",
        "fig.add_trace(go.Pie(labels=df1['Genre'], values=df1['Japan'],  name='Japan'),1,4)\n",
        "fig.add_trace(go.Pie(labels=df1['Genre'], values=df1['South Korea'],  name='South Korea'),1,5)\n",
        "fig.add_trace(go.Pie(labels=df1['Genre'], values=df1['Canada'],  name='Canada'),2,1)\n",
        "fig.add_trace(go.Pie(labels=df1['Genre'], values=df1['Spain'],  name='Spain'),2,2)\n",
        "fig.add_trace(go.Pie(labels=df1['Genre'], values=df1['France'],  name='France'),2,3)\n",
        "fig.add_trace(go.Pie(labels=df1['Genre'], values=df1['Egypt'],  name='Egypt'),2,4)\n",
        "fig.add_trace(go.Pie(labels=df1['Genre'], values=df1['Turkey'],  name='Turkey'),2,5)\n",
        "\n",
        "# Tune layout and hover info\n",
        "fig.update_traces(hoverinfo='label+percent+name', textinfo='none',marker=dict(colors=colors))\n",
        "fig.update_layout(title={'text': 'Top ten countries and the content they provide.',\n",
        "                          'y':0.97,\n",
        "                          'x':0.5,\n",
        "                          'font_size':25,\n",
        "                          'xanchor': 'center',\n",
        "                          'yanchor': 'top'},height=650, width=1550,paper_bgcolor='white',\n",
        "                  legend=dict(x=0.099,orientation=\"h\")\n",
        "                          )\n",
        "fig = go.Figure(fig)\n",
        "# fig.show()\n",
        "fig.show()"
      ]
    },
    {
      "cell_type": "markdown",
      "metadata": {
        "id": "JHgrmDY2O3lj"
      },
      "source": [
        "*   *Drama, International Movies*, and *Comedies* seem popular choices in most countries.\n",
        "*   *British* and *International Tv Shows* dominate in the United Kingdom.*\n",
        "*    *Regional specialties such as *Anime* in Japan, *Spanish TV Shows* in Spain and *Korean Tv Shows* in South Korea are more prominent in these countries.\n",
        "*   It is also observed that in the countries where the regional language is not English, *International Tv Shows/Movies* are more in demand."
      ]
    },
    {
      "cell_type": "markdown",
      "metadata": {
        "id": "9l7yrEXOumNf"
      },
      "source": [
        "### **Ratings of content**"
      ]
    },
    {
      "cell_type": "markdown",
      "metadata": {
        "id": "3Ur9IzJn9WZu"
      },
      "source": [
        "Netflix Rating of Movies/TV Shows based on content:-\n",
        "TV-MA :for Mature Audiences\n",
        "\n",
        "*  R : Restricted\n",
        "\n",
        "*  PG-13 : Parents strongly cautioned. May be Inappropriate for ages 12 and under\n",
        "\n",
        "*  TV-14 : Parents strongly cautioned. May not be suitable for ages 14 and under\n",
        "\n",
        "*  TV-PG : Parental Guidance suggested\n",
        "\n",
        "*  NR : Not Rated\n",
        "\n",
        "*  TV-G : Suitable for General Audiences\n",
        "\n",
        "*  TV-Y : Designed to be appropriate for all children\n",
        "\n",
        "*  PG : Parental Guidance suggested\n",
        "\n",
        "*  G : Suitable for General Audiences\n",
        "\n",
        "*  NC-17 : the content isn't suitable for children under 17 and younger\n",
        "\n",
        "*  TV-Y7-FV : Suitable for ages 7 and up"
      ]
    },
    {
      "cell_type": "code",
      "execution_count": 35,
      "metadata": {
        "id": "LbRHOXZnt41l",
        "colab": {
          "base_uri": "https://localhost:8080/",
          "height": 516
        },
        "outputId": "201ec752-63c4-46c9-fbf3-d72a6c1f62c3"
      },
      "outputs": [
        {
          "output_type": "display_data",
          "data": {
            "text/plain": [
              "<Figure size 720x576 with 1 Axes>"
            ],
            "image/png": "[encoded data removed]"
          },
          "metadata": {}
        }
      ],
      "source": [
        "# Rating\n",
        "a = df.loc[:,['show_id','title','rating']].copy()\n",
        "rating_list = (a['rating'].to_list())\n",
        "\n",
        "newlist = []\n",
        "for rating in rating_list:\n",
        "  newlist.append(rating)\n",
        "\n",
        "rating_list = pd.DataFrame({'rating' : newlist, 'show_id':np.arange(0,len(newlist),1)})\n",
        "a = rating_list.groupby('rating').agg({'show_id':'count'}).sort_values('show_id', ascending= False).head(10).reset_index()\n",
        "plt.figure(figsize=(10,8))\n",
        "a = sns.pointplot(x = 'rating', y = 'show_id',data = a )\n",
        "a = plt.title('Rating of Contents',fontsize = 14, fontweight='bold')\n",
        "a = plt.xlabel('Rating',fontsize = 12)\n",
        "a = plt.ylabel('Number of Videos',fontsize = 12)\n",
        "top10countries = rating_list.groupby('rating').agg({'show_id':'count'}).sort_values('show_id', ascending= False).head(10).reset_index()['rating'].unique()"
      ]
    },
    {
      "cell_type": "markdown",
      "metadata": {
        "id": "YvWqLPvX1YRX"
      },
      "source": [
        "Most content on Netflix is rated for Mature Audiences(MA) and over 14 years old"
      ]
    },
    {
      "cell_type": "markdown",
      "metadata": {
        "id": "AA-gja22TLaK"
      },
      "source": [
        "### **Duration of Movies/TV Shows**"
      ]
    },
    {
      "cell_type": "code",
      "execution_count": 36,
      "metadata": {
        "id": "lGzkEGNExqRU",
        "colab": {
          "base_uri": "https://localhost:8080/",
          "height": 757
        },
        "outputId": "264cc127-aed8-4c3d-a5b2-25d79aa33905"
      },
      "outputs": [
        {
          "output_type": "display_data",
          "data": {
            "text/plain": [
              "<Figure size 576x576 with 0 Axes>"
            ]
          },
          "metadata": {}
        },
        {
          "output_type": "display_data",
          "data": {
            "text/plain": [
              "<Figure size 1440x720 with 1 Axes>"
            ],
            "image/png": "[encoded data removed]"
          },
          "metadata": {}
        }
      ],
      "source": [
        "a=df[df['type']=='Movie'].loc[:,['show_id','title','duration']].copy()\n",
        "duration = (a['duration'].to_list())\n",
        "\n",
        "duration_list = []\n",
        "for duration in duration:\n",
        "  duration_list.append(int(duration.split(' ')[0]))\n",
        "duration_list = pd.DataFrame({'Duration' : duration_list, 'show_id':np.arange(0,len(duration_list),1)})\n",
        "plt.figure(figsize=(8,8))\n",
        "a = sns.displot(x= 'Duration',  data = duration_list, kind = 'hist', height=10, aspect=2, bins = 50,kde=True)\n",
        "a = plt.title('Distribution of Movie Duration')\n",
        "a = plt.xlabel('Minutes')\n",
        "a = plt.xticks(ticks = np.arange(0,duration_list.Duration.max()+1,10))"
      ]
    },
    {
      "cell_type": "markdown",
      "metadata": {
        "id": "mAJtR3O6UfNS"
      },
      "source": [
        "Most movies on Netflix have a duration range from 80 to 120 minutes"
      ]
    },
    {
      "cell_type": "code",
      "execution_count": 37,
      "metadata": {
        "id": "xnsYtH-pTXRI",
        "colab": {
          "base_uri": "https://localhost:8080/",
          "height": 413
        },
        "outputId": "715322a3-f2df-400d-e7a6-797f38a9463b"
      },
      "outputs": [
        {
          "output_type": "execute_result",
          "data": {
            "text/plain": [
              "<matplotlib.axes._subplots.AxesSubplot at 0x7f5036eb84c0>"
            ]
          },
          "metadata": {},
          "execution_count": 37
        },
        {
          "output_type": "display_data",
          "data": {
            "text/plain": [
              "<Figure size 2160x432 with 1 Axes>"
            ],
            "image/png": "[encoded data removed]"
          },
          "metadata": {}
        }
      ],
      "source": [
        "#Checking the distribution of TV SHOWS\n",
        "plt.figure(figsize=(30,6))\n",
        "plt.title(\"Distribution of TV Shows duration\",fontweight='bold')\n",
        "sns.countplot(x=tv_shows['duration'],data=tv_shows,order = tv_shows['duration'].value_counts().index)"
      ]
    },
    {
      "cell_type": "markdown",
      "metadata": {
        "id": "uIIlwQEzUqII"
      },
      "source": [
        "More number of TV shows are having single season"
      ]
    },
    {
      "cell_type": "markdown",
      "metadata": {
        "id": "t9tyGaJaU-Vo"
      },
      "source": [
        "**Longest TV Shows**"
      ]
    },
    {
      "cell_type": "code",
      "execution_count": 38,
      "metadata": {
        "id": "2x1Tqk-8Ukjv",
        "colab": {
          "base_uri": "https://localhost:8080/",
          "height": 457
        },
        "outputId": "ed5ef49d-3634-4691-83dc-ea1b0170d71c"
      },
      "outputs": [
        {
          "output_type": "execute_result",
          "data": {
            "text/plain": [
              "                                   title  duration\n",
              "2538                      Grey's Anatomy        16\n",
              "4438                                NCIS        15\n",
              "5912                        Supernatural        15\n",
              "1471              COMEDIANS of the world        13\n",
              "1537                      Criminal Minds        12\n",
              "7169                   Trailer Park Boys        12\n",
              "1300                              Cheers        11\n",
              "2678                           Heartland        11\n",
              "1577                          Dad's Army        10\n",
              "1597    Danger Mouse: Classic Collection        10\n",
              "3592  LEGO Ninjago: Masters of Spinjitzu        10\n",
              "5538                    Shameless (U.S.)        10\n",
              "5795                       Stargate SG-1        10"
            ],
            "text/html": [
              "\n",
              "  <div id=\"df-1c822395-a567-49a1-8822-6e4e5fe4a455\">\n",
              "    <div class=\"colab-df-container\">\n",
              "      <div>\n",
              "<style scoped>\n",
              "    .dataframe tbody tr th:only-of-type {\n",
              "        vertical-align: middle;\n",
              "    }\n",
              "\n",
              "    .dataframe tbody tr th {\n",
              "        vertical-align: top;\n",
              "    }\n",
              "\n",
              "    .dataframe thead th {\n",
              "        text-align: right;\n",
              "    }\n",
              "</style>\n",
              "<table border=\"1\" class=\"dataframe\">\n",
              "  <thead>\n",
              "    <tr style=\"text-align: right;\">\n",
              "      <th></th>\n",
              "      <th>title</th>\n",
              "      <th>duration</th>\n",
              "    </tr>\n",
              "  </thead>\n",
              "  <tbody>\n",
              "    <tr>\n",
              "      <th>2538</th>\n",
              "      <td>Grey's Anatomy</td>\n",
              "      <td>16</td>\n",
              "    </tr>\n",
              "    <tr>\n",
              "      <th>4438</th>\n",
              "      <td>NCIS</td>\n",
              "      <td>15</td>\n",
              "    </tr>\n",
              "    <tr>\n",
              "      <th>5912</th>\n",
              "      <td>Supernatural</td>\n",
              "      <td>15</td>\n",
              "    </tr>\n",
              "    <tr>\n",
              "      <th>1471</th>\n",
              "      <td>COMEDIANS of the world</td>\n",
              "      <td>13</td>\n",
              "    </tr>\n",
              "    <tr>\n",
              "      <th>1537</th>\n",
              "      <td>Criminal Minds</td>\n",
              "      <td>12</td>\n",
              "    </tr>\n",
              "    <tr>\n",
              "      <th>7169</th>\n",
              "      <td>Trailer Park Boys</td>\n",
              "      <td>12</td>\n",
              "    </tr>\n",
              "    <tr>\n",
              "      <th>1300</th>\n",
              "      <td>Cheers</td>\n",
              "      <td>11</td>\n",
              "    </tr>\n",
              "    <tr>\n",
              "      <th>2678</th>\n",
              "      <td>Heartland</td>\n",
              "      <td>11</td>\n",
              "    </tr>\n",
              "    <tr>\n",
              "      <th>1577</th>\n",
              "      <td>Dad's Army</td>\n",
              "      <td>10</td>\n",
              "    </tr>\n",
              "    <tr>\n",
              "      <th>1597</th>\n",
              "      <td>Danger Mouse: Classic Collection</td>\n",
              "      <td>10</td>\n",
              "    </tr>\n",
              "    <tr>\n",
              "      <th>3592</th>\n",
              "      <td>LEGO Ninjago: Masters of Spinjitzu</td>\n",
              "      <td>10</td>\n",
              "    </tr>\n",
              "    <tr>\n",
              "      <th>5538</th>\n",
              "      <td>Shameless (U.S.)</td>\n",
              "      <td>10</td>\n",
              "    </tr>\n",
              "    <tr>\n",
              "      <th>5795</th>\n",
              "      <td>Stargate SG-1</td>\n",
              "      <td>10</td>\n",
              "    </tr>\n",
              "  </tbody>\n",
              "</table>\n",
              "</div>\n",
              "      <button class=\"colab-df-convert\" onclick=\"convertToInteractive('df-1c822395-a567-49a1-8822-6e4e5fe4a455')\"\n",
              "              title=\"Convert this dataframe to an interactive table.\"\n",
              "              style=\"display:none;\">\n",
              "        \n",
              "  <svg xmlns=\"http://www.w3.org/2000/svg\" height=\"24px\"viewBox=\"0 0 24 24\"\n",
              "       width=\"24px\">\n",
              "    <path d=\"M0 0h24v24H0V0z\" fill=\"none\"/>\n",
              "    <path d=\"M18.56 5.44l.94 2.06.94-2.06 2.06-.94-2.06-.94-.94-2.06-.94 2.06-2.06.94zm-11 1L8.5 8.5l.94-2.06 2.06-.94-2.06-.94L8.5 2.5l-.94 2.06-2.06.94zm10 10l.94 2.06.94-2.06 2.06-.94-2.06-.94-.94-2.06-.94 2.06-2.06.94z\"/><path d=\"M17.41 7.96l-1.37-1.37c-.4-.4-.92-.59-1.43-.59-.52 0-1.04.2-1.43.59L10.3 9.45l-7.72 7.72c-.78.78-.78 2.05 0 2.83L4 21.41c.39.39.9.59 1.41.59.51 0 1.02-.2 1.41-.59l7.78-7.78 2.81-2.81c.8-.78.8-2.07 0-2.86zM5.41 20L4 18.59l7.72-7.72 1.47 1.35L5.41 20z\"/>\n",
              "  </svg>\n",
              "      </button>\n",
              "      \n",
              "  <style>\n",
              "    .colab-df-container {\n",
              "      display:flex;\n",
              "      flex-wrap:wrap;\n",
              "      gap: 12px;\n",
              "    }\n",
              "\n",
              "    .colab-df-convert {\n",
              "      background-color: #E8F0FE;\n",
              "      border: none;\n",
              "      border-radius: 50%;\n",
              "      cursor: pointer;\n",
              "      display: none;\n",
              "      fill: #1967D2;\n",
              "      height: 32px;\n",
              "      padding: 0 0 0 0;\n",
              "      width: 32px;\n",
              "    }\n",
              "\n",
              "    .colab-df-convert:hover {\n",
              "      background-color: #E2EBFA;\n",
              "      box-shadow: 0px 1px 2px rgba(60, 64, 67, 0.3), 0px 1px 3px 1px rgba(60, 64, 67, 0.15);\n",
              "      fill: #174EA6;\n",
              "    }\n",
              "\n",
              "    [theme=dark] .colab-df-convert {\n",
              "      background-color: #3B4455;\n",
              "      fill: #D2E3FC;\n",
              "    }\n",
              "\n",
              "    [theme=dark] .colab-df-convert:hover {\n",
              "      background-color: #434B5C;\n",
              "      box-shadow: 0px 1px 3px 1px rgba(0, 0, 0, 0.15);\n",
              "      filter: drop-shadow(0px 1px 2px rgba(0, 0, 0, 0.3));\n",
              "      fill: #FFFFFF;\n",
              "    }\n",
              "  </style>\n",
              "\n",
              "      <script>\n",
              "        const buttonEl =\n",
              "          document.querySelector('#df-1c822395-a567-49a1-8822-6e4e5fe4a455 button.colab-df-convert');\n",
              "        buttonEl.style.display =\n",
              "          google.colab.kernel.accessAllowed ? 'block' : 'none';\n",
              "\n",
              "        async function convertToInteractive(key) {\n",
              "          const element = document.querySelector('#df-1c822395-a567-49a1-8822-6e4e5fe4a455');\n",
              "          const dataTable =\n",
              "            await google.colab.kernel.invokeFunction('convertToInteractive',\n",
              "                                                     [key], {});\n",
              "          if (!dataTable) return;\n",
              "\n",
              "          const docLinkHtml = 'Like what you see? Visit the ' +\n",
              "            '<a target=\"_blank\" href=https://colab.research.google.com/notebooks/data_table.ipynb>data table notebook</a>'\n",
              "            + ' to learn more about interactive tables.';\n",
              "          element.innerHTML = '';\n",
              "          dataTable['output_type'] = 'display_data';\n",
              "          await google.colab.output.renderOutput(dataTable, element);\n",
              "          const docLink = document.createElement('div');\n",
              "          docLink.innerHTML = docLinkHtml;\n",
              "          element.appendChild(docLink);\n",
              "        }\n",
              "      </script>\n",
              "    </div>\n",
              "  </div>\n",
              "  "
            ]
          },
          "metadata": {},
          "execution_count": 38
        }
      ],
      "source": [
        "#Finding Longest TV Shows\n",
        "tv_shows['duration']=tv_shows['duration'].str.replace('Season','')\n",
        "tv_shows['duration']=tv_shows['duration'].str.replace('s','')\n",
        "tv_shows['duration']=tv_shows['duration'].astype(str).astype(int)\n",
        "long_shows = tv_shows[tv_shows['duration']>9]\n",
        "long_shows_df = long_shows[['title','duration']]\n",
        "long_shows_df.sort_values(by=['duration'],ascending=False)"
      ]
    },
    {
      "cell_type": "markdown",
      "metadata": {
        "id": "OrCEL2IZj0aQ"
      },
      "source": [
        "Grey's Anatomy is the longest TV Show with 16 Seasons"
      ]
    },
    {
      "cell_type": "markdown",
      "metadata": {
        "id": "xg3rUR9ur3oU"
      },
      "source": [
        "## **Feature Engineering**"
      ]
    },
    {
      "cell_type": "markdown",
      "metadata": {
        "id": "O1NqNTPuLqxn"
      },
      "source": [
        "we will add all text based and categorical columns to cluster similar content based on text based features."
      ]
    },
    {
      "cell_type": "code",
      "execution_count": 39,
      "metadata": {
        "id": "JTSLiln_at9J"
      },
      "outputs": [],
      "source": [
        "# We will add all categorical and text based columns\n",
        "df_1 = df.copy()\n",
        "df_1['text_info'] = df_1['description'] + ' '+ df_1['listed_in'] + ' ' + df_1['rating']"
      ]
    },
    {
      "cell_type": "code",
      "execution_count": 40,
      "metadata": {
        "id": "k9p8FEXOMFwj",
        "colab": {
          "base_uri": "https://localhost:8080/",
          "height": 35
        },
        "outputId": "60d90b84-c80d-4aa2-f361-2365897aed7d"
      },
      "outputs": [
        {
          "output_type": "execute_result",
          "data": {
            "text/plain": [
              "'In a future where the elite inhabit an island paradise far from the crowded slums, you get one chance to join the 3% saved from squalor. International TV Shows, TV Dramas, TV Sci-Fi & Fantasy TV-MA'"
            ],
            "application/vnd.google.colaboratory.intrinsic+json": {
              "type": "string"
            }
          },
          "metadata": {},
          "execution_count": 40
        }
      ],
      "source": [
        "# Checking \n",
        "df_1['text_info'][0]"
      ]
    },
    {
      "cell_type": "markdown",
      "metadata": {
        "id": "QMcE0ZgzO89N"
      },
      "source": [
        "#### **Text Cleaning**"
      ]
    },
    {
      "cell_type": "code",
      "execution_count": 41,
      "metadata": {
        "id": "JbRACT3hPEhU"
      },
      "outputs": [],
      "source": [
        "# Removing everything except the alphabets\n",
        "def clean_text(x):\n",
        "    return re.sub(r\"[^a-zA-Z ]\",\"\",str(x))"
      ]
    },
    {
      "cell_type": "code",
      "execution_count": 42,
      "metadata": {
        "id": "KpFA91H4PdOE"
      },
      "outputs": [],
      "source": [
        "# Applying above function on our combined column\n",
        "df_1['text_info'] = df_1['text_info'].apply(clean_text)"
      ]
    },
    {
      "cell_type": "code",
      "execution_count": 43,
      "metadata": {
        "id": "DyFv6lUAPhL9"
      },
      "outputs": [],
      "source": [
        "# we will convert all words in lowercase\n",
        "df_1['text_info'] = df_1['text_info'].str.lower()"
      ]
    },
    {
      "cell_type": "code",
      "execution_count": 44,
      "metadata": {
        "id": "f8urD6PtPkll",
        "colab": {
          "base_uri": "https://localhost:8080/",
          "height": 35
        },
        "outputId": "ecaf6386-b601-4ad2-d7b0-167386c6c405"
      },
      "outputs": [
        {
          "output_type": "execute_result",
          "data": {
            "text/plain": [
              "'in a future where the elite inhabit an island paradise far from the crowded slums you get one chance to join the  saved from squalor international tv shows tv dramas tv scifi  fantasy tvma'"
            ],
            "application/vnd.google.colaboratory.intrinsic+json": {
              "type": "string"
            }
          },
          "metadata": {},
          "execution_count": 44
        }
      ],
      "source": [
        "# Checking \n",
        "df_1['text_info'][0]"
      ]
    },
    {
      "cell_type": "markdown",
      "metadata": {
        "id": "FSjZXOhaNgoW"
      },
      "source": [
        "#### **WORD TOKENIZATION**"
      ]
    },
    {
      "cell_type": "code",
      "execution_count": 45,
      "metadata": {
        "id": "TcsroaQBVW1a"
      },
      "outputs": [],
      "source": [
        "# Applying Tokenization\n",
        "def tokenizer(txt):  \n",
        "  tokens = word_tokenize(txt) \n",
        "  return tokens\n",
        "df_1['Processed Text'] = df_1['text_info'].apply(tokenizer)"
      ]
    },
    {
      "cell_type": "code",
      "execution_count": 46,
      "metadata": {
        "id": "A2h0T6-BX2AI",
        "colab": {
          "base_uri": "https://localhost:8080/"
        },
        "outputId": "b3fa4b77-778e-47d8-9fa3-3cd478fbd236"
      },
      "outputs": [
        {
          "output_type": "stream",
          "name": "stdout",
          "text": [
            "['in', 'a', 'future', 'where', 'the', 'elite', 'inhabit', 'an', 'island', 'paradise', 'far', 'from', 'the', 'crowded', 'slums', 'you', 'get', 'one', 'chance', 'to', 'join', 'the', 'saved', 'from', 'squalor', 'international', 'tv', 'shows', 'tv', 'dramas', 'tv', 'scifi', 'fantasy', 'tvma']\n"
          ]
        }
      ],
      "source": [
        "print(df_1['Processed Text'][0])"
      ]
    },
    {
      "cell_type": "markdown",
      "metadata": {
        "id": "XCIYqUW4WUy5"
      },
      "source": [
        "#### **PUNCTUATION REMOVAL**"
      ]
    },
    {
      "cell_type": "code",
      "execution_count": 47,
      "metadata": {
        "id": "YZLHRwg0WT7K"
      },
      "outputs": [],
      "source": [
        "# Applying function to remove Punctuation\n",
        "regular_punct = list(string.punctuation)\n",
        "def remove_punctuation(text,punct_list):\n",
        "  tokens = text\n",
        "  new_tok = []\n",
        "  for i in tokens:\n",
        "    word = i\n",
        "    for punctuation in list(string.punctuation):\n",
        "      word = word.replace(punctuation, ' ')\n",
        "    if word.replace(' ','').isalnum():\n",
        "      new_tok.append(word)\n",
        "\n",
        "  return ' '.join(new_tok).split(' ')\n",
        "\n",
        "df_1['Processed Text'] = df_1['Processed Text'].apply(lambda x : remove_punctuation(x, regular_punct))"
      ]
    },
    {
      "cell_type": "markdown",
      "metadata": {
        "id": "0X-KxyP_XSdw"
      },
      "source": [
        "#### **STOP WORD REMOVAL**"
      ]
    },
    {
      "cell_type": "code",
      "execution_count": 48,
      "metadata": {
        "id": "tbMvERRLX93Q",
        "colab": {
          "base_uri": "https://localhost:8080/"
        },
        "outputId": "aabd8d78-5cab-4d38-bc87-a320e3c963f4"
      },
      "outputs": [
        {
          "output_type": "stream",
          "name": "stdout",
          "text": [
            "i,  me,  my,  myself,  we,  our,  ours,  ourselves,  you,  you're,  you've,  you'll,  you'd,  your,  yours,  yourself,  yourselves,  he,  him,  his,  himself,  she,  she's,  her,  hers,  herself,  it,  it's,  its,  itself,  they,  them,  their,  theirs,  themselves,  what,  which,  who,  whom,  this,  that,  that'll,  these,  those,  am,  is,  are,  was,  were,  be,  been,  being,  have,  has,  had,  having,  do,  does,  did,  doing,  a,  an,  the,  and,  but,  if,  or,  because,  as,  until,  while,  of,  at,  by,  for,  with,  about,  against,  between,  into,  through,  during,  before,  after,  above,  below,  to,  from,  up,  down,  in,  out,  on,  off,  over,  under,  again,  further,  then,  once,  here,  there,  when,  where,  why,  how,  all,  any,  both,  each,  few,  more,  most,  other,  some,  such,  no,  nor,  not,  only,  own,  same,  so,  than,  too,  very,  s,  t,  can,  will,  just,  don,  don't,  should,  should've,  now,  d,  ll,  m,  o,  re,  ve,  y,  ain,  aren,  aren't,  couldn,  couldn't,  didn,  didn't,  doesn,  doesn't,  hadn,  hadn't,  hasn,  hasn't,  haven,  haven't,  isn,  isn't,  ma,  mightn,  mightn't,  mustn,  mustn't,  needn,  needn't,  shan,  shan't,  shouldn,  shouldn't,  wasn,  wasn't,  weren,  weren't,  won,  won't,  wouldn,  wouldn't,  "
          ]
        }
      ],
      "source": [
        "# extracting the stopwords from nltk library\n",
        "sw = nltk.corpus.stopwords.words('english')\n",
        "# displaying the stopwords\n",
        "for i in sw:\n",
        "  print(i , end=',  ')"
      ]
    },
    {
      "cell_type": "code",
      "execution_count": 49,
      "metadata": {
        "id": "7Xz6Fq8rW-Iv"
      },
      "outputs": [],
      "source": [
        "# Applying function to remove Stop words\n",
        "stop_words = set(stopwords.words('english')) \n",
        "\n",
        "def remove_stop(tokens, stopwords):\n",
        "  return [t.lower() for t in tokens if t.lower() not in stopwords]\n",
        "\n",
        "df_1['Processed Text'] = df_1['Processed Text'].apply(lambda x : remove_stop(x, stop_words))"
      ]
    },
    {
      "cell_type": "code",
      "execution_count": 50,
      "metadata": {
        "id": "nABEWhm5XmP-",
        "colab": {
          "base_uri": "https://localhost:8080/"
        },
        "outputId": "da4a527a-8ec3-4e53-d510-cd47ce7c427c"
      },
      "outputs": [
        {
          "output_type": "stream",
          "name": "stdout",
          "text": [
            "['future', 'elite', 'inhabit', 'island', 'paradise', 'far', 'crowded', 'slums', 'get', 'one', 'chance', 'join', 'saved', 'squalor', 'international', 'tv', 'shows', 'tv', 'dramas', 'tv', 'scifi', 'fantasy', 'tvma']\n"
          ]
        }
      ],
      "source": [
        "print(df_1['Processed Text'][0])"
      ]
    },
    {
      "cell_type": "markdown",
      "metadata": {
        "id": "g944VVg5ZOQH"
      },
      "source": [
        "#### **LEMMATIZATION**"
      ]
    },
    {
      "cell_type": "markdown",
      "metadata": {
        "id": "qRTNbCS3IYwn"
      },
      "source": [
        "Lemmatization is a text normalization technique used in Natural Language Processing (NLP), that switches any kind of a word to its base root mode. \n",
        "\n",
        "Lemmatization is responsible for grouping different inflected forms of words into the root form, having the same meaning."
      ]
    },
    {
      "cell_type": "code",
      "execution_count": 51,
      "metadata": {
        "id": "-Iq_vxgrXpCO"
      },
      "outputs": [],
      "source": [
        "# Applying Lemmatization\n",
        "def clean_text(text):\n",
        "    le=WordNetLemmatizer()\n",
        "    word_tokens=word_tokenize(text)\n",
        "    tokens=[le.lemmatize(w) for w in word_tokens if w not in stopwords and len(w)>3]\n",
        "    cleaned_text=\" \".join(tokens)\n",
        "    return cleaned_text"
      ]
    },
    {
      "cell_type": "code",
      "execution_count": 52,
      "metadata": {
        "id": "YnkAiVyNaArV"
      },
      "outputs": [],
      "source": [
        "le = WordNetLemmatizer()\n",
        "\n",
        "def stem_text(text):  \n",
        "  lemmatize = []\n",
        "  for word in text:\n",
        "    lemmatize.append(word)\n",
        "  return lemmatize\n",
        "\n",
        "df_1['Processed Text'] = df_1['Processed Text'].apply(lambda x : stem_text(x))"
      ]
    },
    {
      "cell_type": "code",
      "execution_count": 53,
      "metadata": {
        "id": "VevRv8g51LEC"
      },
      "outputs": [],
      "source": [
        "#join words fun\n",
        "def join_words(x):\n",
        "  return \" \".join(set(x))"
      ]
    },
    {
      "cell_type": "code",
      "execution_count": 54,
      "metadata": {
        "id": "ALigKWXG1zIh"
      },
      "outputs": [],
      "source": [
        "#final column\n",
        "df_1['Processed Text'] = df_1['Processed Text'].apply(join_words)"
      ]
    },
    {
      "cell_type": "code",
      "execution_count": 55,
      "metadata": {
        "id": "5Unj85gT18mO",
        "colab": {
          "base_uri": "https://localhost:8080/"
        },
        "outputId": "619b2bd1-7dcf-4fae-fa2c-28e19265ab98"
      },
      "outputs": [
        {
          "output_type": "execute_result",
          "data": {
            "text/plain": [
              "0       inhabit crowded elite slums saved scifi future...\n",
              "1       alive city mexico tvma hits international trap...\n",
              "2       army dead training international thats island ...\n",
              "3       adventure hide exterminate brave group scifi a...\n",
              "4       students become cardcounting las blackjack pg ...\n",
              "                              ...                        \n",
              "7782    little means tvma international civil sweden d...\n",
              "7783    international tycoons poor facing truth dramas...\n",
              "7784    c citys documentary hits african nasty interna...\n",
              "7785    dessert willy next tense international skilled...\n",
              "7786    band behind bluesrock delves sound enigmatic i...\n",
              "Name: Processed Text, Length: 7770, dtype: object"
            ]
          },
          "metadata": {},
          "execution_count": 55
        }
      ],
      "source": [
        "df_1['Processed Text']"
      ]
    },
    {
      "cell_type": "code",
      "execution_count": 56,
      "metadata": {
        "id": "Xzzd4MYHGqqo",
        "colab": {
          "base_uri": "https://localhost:8080/"
        },
        "outputId": "af64f12b-a367-4d11-9f32-44ab7784b3b7"
      },
      "outputs": [
        {
          "output_type": "stream",
          "name": "stdout",
          "text": [
            "inhabit crowded elite slums saved scifi future chance international island tvma dramas paradise tv fantasy shows join squalor far one get\n"
          ]
        }
      ],
      "source": [
        "print(df_1['Processed Text'][0])"
      ]
    },
    {
      "cell_type": "markdown",
      "metadata": {
        "id": "gWeDhfOp2UaU"
      },
      "source": [
        "#### **TF-IDF-Term Frequency-Inverse Document Frequency**"
      ]
    },
    {
      "cell_type": "markdown",
      "metadata": {
        "id": "v7R-ZlcB2YPE"
      },
      "source": [
        "Term frequency-inverse document frequency is a text vectorizer that transforms the text into a usable vector.\n",
        "\n",
        "**TF** - The term frequency is the number of occurrences of a specific term in a document. Term frequency indicates how important a specific term in a document. Term frequency represents every text from the data as a matrix whose rows are the number of documents and columns are the number of distinct terms throughout all documents.\n",
        "\n",
        "**IDF** - Document frequency is the number of documents containing a specific term. Document frequency indicates how common the term is.Inverse document frequency (IDF) is the weight of a term, it aims to reduce the weight of a term if the term’s occurrences are scattered throughout all the documents."
      ]
    },
    {
      "cell_type": "code",
      "execution_count": 57,
      "metadata": {
        "id": "UZQA4RAb14OJ"
      },
      "outputs": [],
      "source": [
        "# defining a variable to our dependent variable\n",
        "words = df_1['Processed Text']"
      ]
    },
    {
      "cell_type": "code",
      "execution_count": 58,
      "metadata": {
        "id": "PhytYnfT3MCx"
      },
      "outputs": [],
      "source": [
        "# using tfidf Vectorizer method\n",
        "t_vectorizer = TfidfVectorizer(max_df = 0.9,min_df = 1, max_features=15000)\n",
        "X= t_vectorizer.fit_transform(words)"
      ]
    },
    {
      "cell_type": "code",
      "execution_count": 59,
      "metadata": {
        "id": "_c-3NZLn4aGw",
        "colab": {
          "base_uri": "https://localhost:8080/"
        },
        "outputId": "d1a68df1-fdbe-4118-94d5-de56c534ee34"
      },
      "outputs": [
        {
          "output_type": "execute_result",
          "data": {
            "text/plain": [
              "(7770, 15000)"
            ]
          },
          "metadata": {},
          "execution_count": 59
        }
      ],
      "source": [
        "X.shape"
      ]
    },
    {
      "cell_type": "markdown",
      "metadata": {
        "id": "tOHWXJbvFuNh"
      },
      "source": [
        "#### **PCA- Principal Component Analysis**"
      ]
    },
    {
      "cell_type": "markdown",
      "metadata": {
        "id": "cZMi_28WIKh_"
      },
      "source": [
        "Principal Component Analysis is an unsupervised learning algorithm that is used for the dimensionality reduction in machine learning. It is a statistical process that converts the observations of correlated features into a set of linearly uncorrelated features with the help of orthogonal transformation.\n",
        "\n",
        "It is a technique to draw strong patterns from the given dataset by reducing the variances.\n",
        "\n",
        "PCA generally tries to find the lower-dimensional surface to project the high-dimensional data."
      ]
    },
    {
      "cell_type": "code",
      "execution_count": 60,
      "metadata": {
        "id": "cMc-g7lZ3ZDI",
        "colab": {
          "base_uri": "https://localhost:8080/"
        },
        "outputId": "2547f089-00b7-435e-cc20-e77195d29fb5"
      },
      "outputs": [
        {
          "output_type": "execute_result",
          "data": {
            "text/plain": [
              "PCA()"
            ]
          },
          "metadata": {},
          "execution_count": 60
        }
      ],
      "source": [
        "pca = PCA()\n",
        "pca.fit(X.toarray())"
      ]
    },
    {
      "cell_type": "code",
      "execution_count": 61,
      "metadata": {
        "id": "CxaAAR_b3qSF",
        "colab": {
          "base_uri": "https://localhost:8080/",
          "height": 544
        },
        "outputId": "0c1819e9-9f00-4470-e4b8-938fe2da021f"
      },
      "outputs": [
        {
          "output_type": "display_data",
          "data": {
            "text/plain": [
              "<Figure size 1680x600 with 1 Axes>"
            ],
            "image/png": "[encoded data removed]"
          },
          "metadata": {}
        }
      ],
      "source": [
        "# Lets plot explained var v/s comp to check how many components to be considered.\n",
        "plt.figure(figsize=(14,5), dpi=120)\n",
        "plt.plot(np.cumsum(pca.explained_variance_ratio_))\n",
        "plt.xlabel('number of components')\n",
        "plt.ylabel('cumulative explained variance')\n",
        "plt.show()"
      ]
    },
    {
      "cell_type": "markdown",
      "metadata": {
        "id": "E1avOpMQ8bxR"
      },
      "source": [
        "We can see from the above plot almost 95% of the variance can be explained by 5000 components.\n",
        "\n",
        "Since choosing 5000 could be tricky we will set the value to be 95% in sklearn."
      ]
    },
    {
      "cell_type": "code",
      "execution_count": null,
      "metadata": {
        "id": "VCz_SNxE8QFt"
      },
      "outputs": [],
      "source": [
        "pca_tuned = PCA(n_components=0.95)\n",
        "pca_tuned.fit(X.toarray())\n",
        "X_transformed = pca_tuned.transform(X.toarray())\n",
        "X_transformed.shape"
      ]
    },
    {
      "cell_type": "code",
      "execution_count": null,
      "metadata": {
        "id": "KSaghv-I8nE2"
      },
      "outputs": [],
      "source": [
        "X_transformed"
      ]
    },
    {
      "cell_type": "markdown",
      "metadata": {
        "id": "UVhqeXbRP8u8"
      },
      "source": [
        "# **Clustering Algorithms**"
      ]
    },
    {
      "cell_type": "markdown",
      "metadata": {
        "id": "vj9og5g5QJLk"
      },
      "source": [
        "## **K-Means Clustering**"
      ]
    },
    {
      "cell_type": "code",
      "source": [
        "silhouette_score_ = [ ]\n",
        "sum_of_sq_dist = {}\n",
        "range_n_clusters = [i for i in range(2,14)]\n",
        "for n_clusters in range_n_clusters:\n",
        "    clusterer = KMeans(n_clusters=n_clusters, n_init=10,random_state=10)\n",
        "    preds = clusterer.fit_predict(X_transformed)\n",
        "    centers = clusterer.cluster_centers_\n",
        "    sum_of_sq_dist[n_clusters] = clusterer.inertia_\n",
        "\n",
        "    score = silhouette_score(X_transformed, preds)\n",
        "    silhouette_score_.append([int(n_clusters) , round(score , 3)])"
      ],
      "metadata": {
        "id": "VHJs9lL1Mc57"
      },
      "execution_count": null,
      "outputs": []
    },
    {
      "cell_type": "markdown",
      "source": [
        "#### **Elbow method to find optimum k value**"
      ],
      "metadata": {
        "id": "xyijpnQVuOjb"
      }
    },
    {
      "cell_type": "code",
      "source": [
        "#Plot the graph for the sum of square distance values and Number of Clusters\n",
        "plt.figure(figsize=(25,8))\n",
        "sns.pointplot(x = list(sum_of_sq_dist.keys()), y = list(sum_of_sq_dist.values()))\n",
        "plt.xlabel('Number of Clusters(k)')\n",
        "plt.ylabel('Sum of Square Distances')\n",
        "plt.title('Elbow Method For Optimal k')\n",
        "plt.show()"
      ],
      "metadata": {
        "id": "Xin9fVn6NnWr"
      },
      "execution_count": null,
      "outputs": []
    },
    {
      "cell_type": "code",
      "source": [
        "Kmeans = pd.DataFrame(silhouette_score_ , columns = [\"No of Clusters\" , \"Silhouette Score\"])"
      ],
      "metadata": {
        "id": "7gHvzJPdNhAE"
      },
      "execution_count": null,
      "outputs": []
    },
    {
      "cell_type": "code",
      "source": [
        "plt.figure(figsize=(25,10))\n",
        "_ = sns.lineplot(x = Kmeans['No of Clusters'], y = Kmeans['Silhouette Score'])\n",
        "_ = plt.xticks(ticks = np.arange(2,14,1))"
      ],
      "metadata": {
        "id": "ypCM5s4dNiyT"
      },
      "execution_count": null,
      "outputs": []
    },
    {
      "cell_type": "code",
      "source": [
        "Kmeans.sort_values(['Silhouette Score','No of Clusters'],ascending=False)"
      ],
      "metadata": {
        "id": "Xw1EEZBiNlQ7"
      },
      "execution_count": null,
      "outputs": []
    },
    {
      "cell_type": "markdown",
      "source": [
        "Both 2 and 4 clusters are having the highest silhoutte score hence both can be used for clustering biut we take bigger no. of clusters for having distinct feature variablity."
      ],
      "metadata": {
        "id": "3hWTH-PMaMRG"
      }
    },
    {
      "cell_type": "markdown",
      "source": [
        "#### **Validation of K value with Silhouette score**"
      ],
      "metadata": {
        "id": "fTG939qZuY87"
      }
    },
    {
      "cell_type": "code",
      "source": [
        "range_n_clusters = [i for i in range(2,14)]\n",
        "silhouette_score_ = []\n",
        "for n_clusters in range_n_clusters:\n",
        "    # Create a subplot with 1 row and 2 columns\n",
        "    fig, (ax1, ax2) = plt.subplots(1, 2)\n",
        "    fig.set_size_inches(18, 7)\n",
        "\n",
        "    # The 1st subplot is the silhouette plot\n",
        "    # The silhouette coefficient can range from -1, 1 but in this example all\n",
        "    # lie within [-0.1, 1]\n",
        "    ax1.set_xlim([-0.1, 1])\n",
        "    # The (n_clusters+1)*10 is for inserting blank space between silhouette\n",
        "    # plots of individual clusters, to demarcate them clearly.\n",
        "    ax1.set_ylim([0, len(X_transformed) + (n_clusters + 1) * 10])\n",
        "\n",
        "    # Initialize the clusterer with n_clusters value and a random generator\n",
        "    # seed of 10 for reproducibility.\n",
        "    clusterer = KMeans(n_clusters=n_clusters, random_state=10)\n",
        "    cluster_labels = clusterer.fit_predict(X_transformed)\n",
        "\n",
        "    # The silhouette_score gives the average value for all the samples.\n",
        "    # This gives a perspective into the density and separation of the formed\n",
        "    # clusters\n",
        "    silhouette_avg = silhouette_score(X_transformed, cluster_labels)\n",
        "    print(\"For n_clusters =\", n_clusters,\n",
        "          \"The average silhouette_score is :\", silhouette_avg)\n",
        "\n",
        "    # Compute the silhouette scores for each sample\n",
        "    sample_silhouette_values = silhouette_samples(X_transformed, cluster_labels)\n",
        "\n",
        "    y_lower = 10\n",
        "    for i in range(n_clusters):\n",
        "        # Aggregate the silhouette scores for samples belonging to\n",
        "        # cluster i, and sort them\n",
        "        ith_cluster_silhouette_values = \\\n",
        "            sample_silhouette_values[cluster_labels == i]\n",
        "\n",
        "        ith_cluster_silhouette_values.sort()\n",
        "\n",
        "        size_cluster_i = ith_cluster_silhouette_values.shape[0]\n",
        "        y_upper = y_lower + size_cluster_i\n",
        "\n",
        "        color = cm.nipy_spectral(float(i) / n_clusters)\n",
        "        ax1.fill_betweenx(np.arange(y_lower, y_upper),\n",
        "                          0, ith_cluster_silhouette_values,\n",
        "                          facecolor=color, edgecolor=color, alpha=0.7)\n",
        "\n",
        "        # Label the silhouette plots with their cluster numbers at the middle\n",
        "        ax1.text(-0.05, y_lower + 0.5 * size_cluster_i, str(i))\n",
        "\n",
        "        # Compute the new y_lower for next plot\n",
        "        y_lower = y_upper + 10  # 10 for the 0 samples\n",
        "\n",
        "    ax1.set_title(\"The silhouette plot for the various clusters.\")\n",
        "    ax1.set_xlabel(\"The silhouette coefficient values\")\n",
        "    ax1.set_ylabel(\"Cluster label\")\n",
        "\n",
        "    # The vertical line for average silhouette score of all the values\n",
        "    ax1.axvline(x=silhouette_avg, color=\"red\", linestyle=\"--\")\n",
        "\n",
        "    ax1.set_yticks([])  # Clear the yaxis labels / ticks\n",
        "    ax1.set_xticks([-0.1, 0, 0.2, 0.4, 0.6, 0.8, 1])\n",
        "\n",
        "    # 2nd Plot showing the actual clusters formed\n",
        "    colors = cm.nipy_spectral(cluster_labels.astype(float) /n_clusters)\n",
        "    ax2.scatter(X_transformed[:, 0], X_transformed[:, 1], marker='.', s=30, lw=0, alpha=0.7,\n",
        "                c=colors, edgecolor='k')\n",
        "\n",
        "    # Labeling the clusters\n",
        "    centers = clusterer.cluster_centers_\n",
        "    # Draw white circles at cluster centers\n",
        "    ax2.scatter(centers[:, 0], centers[:, 1], marker='o',\n",
        "                c=\"white\", alpha=1, s=200, edgecolor='k')\n",
        "\n",
        "    for i, c in enumerate(centers):\n",
        "        ax2.scatter(c[0], c[1], marker='$%d$' % i, alpha=1,\n",
        "                    s=50, edgecolor='k')\n",
        "\n",
        "    ax2.set_title(\"The visualization of the clustered data.\")\n",
        "    ax2.set_xlabel(\"Feature space for the 1st feature\")\n",
        "    ax2.set_ylabel(\"Feature space for the 2nd feature\")\n",
        "    plt.suptitle((\"Silhouette analysis for KMeans clustering on sample data \"\n",
        "                  \"with n_clusters = %d\" % n_clusters),\n",
        "                 fontsize=14, fontweight='bold')\n",
        "\n",
        "plt.show()"
      ],
      "metadata": {
        "id": "UjRYm4JNWNkf"
      },
      "execution_count": null,
      "outputs": []
    },
    {
      "cell_type": "markdown",
      "source": [
        "#### **Perform Clustering considering k=9**"
      ],
      "metadata": {
        "id": "MZqGqaYpuA-b"
      }
    },
    {
      "cell_type": "code",
      "source": [
        "kmeans = KMeans(n_clusters= 11, n_init=10,random_state=0)\n",
        "preds = kmeans.fit_predict(X_transformed)"
      ],
      "metadata": {
        "id": "J2B-A82kNprL"
      },
      "execution_count": null,
      "outputs": []
    },
    {
      "cell_type": "code",
      "source": [
        "len(kmeans.labels_)\n",
        "df['label'] = kmeans.labels_\n",
        "df.head()"
      ],
      "metadata": {
        "id": "0D6cRIeIbyqO"
      },
      "execution_count": null,
      "outputs": []
    },
    {
      "cell_type": "markdown",
      "source": [
        "#### **VISUALIZATION for K = 9 clusters**"
      ],
      "metadata": {
        "id": "5-x4pdhiulaD"
      }
    },
    {
      "cell_type": "code",
      "source": [
        "plt.figure(figsize=(10,6), dpi=120)\n",
        "\n",
        "kmeans= KMeans(n_clusters=11, init= 'k-means++', random_state=0)\n",
        "kmeans.fit(X_transformed)\n",
        "\n",
        "#predict the labels of clusters.\n",
        "label = kmeans.fit_predict(X_transformed)\n",
        "#Getting unique labels\n",
        "unique_labels = np.unique(label)\n",
        " \n",
        "#plotting the results:\n",
        "for i in unique_labels:\n",
        "    plt.scatter(X_transformed[label == i , 0] , X_transformed[label == i , 1] , label = i)\n",
        "plt.legend()\n",
        "plt.show()"
      ],
      "metadata": {
        "id": "GKmYVTuet8T7"
      },
      "execution_count": null,
      "outputs": []
    },
    {
      "cell_type": "code",
      "source": [
        "sns.set(rc={'figure.figsize':(12,8)})\n",
        "sns.set_palette(\"Set1\")\n",
        "ax = sns.countplot(x='label', data = df)\n",
        "ax.set_title('Content Clustering',fontsize = 16, fontweight='bold')\n",
        "plt.show()"
      ],
      "metadata": {
        "id": "bZAI3D4GfQYL"
      },
      "execution_count": null,
      "outputs": []
    },
    {
      "cell_type": "code",
      "source": [
        "#word cloud for user rating review\n",
        "def func_select_Category(category_name,column_of_choice):\n",
        "  df_word_cloud = df[['label',column_of_choice]].dropna()\n",
        "  df_word_cloud = df_word_cloud[df_word_cloud['label']==category_name]\n",
        "  text = \" \".join(word for word in df_word_cloud[column_of_choice])\n",
        "  # Create stopword list:\n",
        "  stopwords = set(STOPWORDS)\n",
        "  # Generate a word cloud image\n",
        "  wordcloud = WordCloud(stopwords=stopwords, background_color=\"white\").generate(text)\n",
        "  # Plot the wordclouds\n",
        "  plt.imshow(wordcloud, interpolation='bilinear')\n",
        "  plt.title(f'Cluster: {i}')\n",
        "  plt.axis(\"off\")\n",
        "  plt.show()"
      ],
      "metadata": {
        "id": "Sw0el5j9PWU5"
      },
      "execution_count": null,
      "outputs": []
    },
    {
      "cell_type": "code",
      "source": [
        "for i in range(11):\n",
        "  func_select_Category(i,'listed_in')"
      ],
      "metadata": {
        "id": "cp0wTClQQLxS"
      },
      "execution_count": null,
      "outputs": []
    },
    {
      "cell_type": "markdown",
      "source": [
        "## **Hierarchial Clustering**"
      ],
      "metadata": {
        "id": "BW9rEG1DSr9F"
      }
    },
    {
      "cell_type": "code",
      "source": [
        "hier_ward_euc = sch.linkage(X_transformed, method = 'ward', metric = 'euclidean')"
      ],
      "metadata": {
        "id": "3PbqFQzyRH6a"
      },
      "execution_count": null,
      "outputs": []
    },
    {
      "cell_type": "markdown",
      "source": [
        "### **Dendrogram**"
      ],
      "metadata": {
        "id": "pz2PQX0nTgHF"
      }
    },
    {
      "cell_type": "code",
      "source": [
        "plt.figure(figsize=(30,15))\n",
        "dendrogram = sch.dendrogram(hier_ward_euc)\n",
        "plt.title('Dendrogram')\n",
        "plt.xlabel('Content')\n",
        "plt.ylabel('Euclidean Distances')\n",
        "plt.show() # find largest vertical distance we can make without crossing any other horizontal line"
      ],
      "metadata": {
        "id": "m-Fntfy1TViL"
      },
      "execution_count": null,
      "outputs": []
    },
    {
      "cell_type": "code",
      "source": [
        "clusters = []\n",
        "scores = []\n",
        "distances = []\n",
        "for i in np.arange(2,14,1):\n",
        "  hc = AgglomerativeClustering(n_clusters = i, distance_threshold = None, affinity = 'euclidean', linkage = 'ward')\n",
        "  y_hc = hc.fit_predict(X_transformed)\n",
        "  clusters.append(hc.labels_.max()+1)\n",
        "  if (hc.labels_.max()+1 >=2) :\n",
        "    scores.append(silhouette_score(X_transformed, y_hc))\n",
        "  else:\n",
        "    scores.append(1)\n",
        "  distances.append(i)\n",
        "\n",
        "hierarchical = pd.DataFrame({'Clusters': clusters, \n",
        "                             'Silhouette Scores': scores,\n",
        "                             'Distance': distances})"
      ],
      "metadata": {
        "id": "F1x3ThjeTlU6"
      },
      "execution_count": null,
      "outputs": []
    },
    {
      "cell_type": "code",
      "source": [
        "hierarchical"
      ],
      "metadata": {
        "id": "XGzpHovvVOgo"
      },
      "execution_count": null,
      "outputs": []
    },
    {
      "cell_type": "code",
      "source": [
        "plt.figure(figsize =(15,8))\n",
        "sns.lineplot(x = 'Distance', y = 'Silhouette Scores' , data = hierarchical)\n",
        "a = plt.title('Hierarchical Clustering: Distance vs Silhouette Scores')\n",
        "_ = plt.xticks(np.arange(2,14,1),rotation=90)"
      ],
      "metadata": {
        "id": "sbv9v2P7T75c"
      },
      "execution_count": null,
      "outputs": []
    },
    {
      "cell_type": "code",
      "source": [
        "hierarchical.sort_values('Silhouette Scores', ascending = False)"
      ],
      "metadata": {
        "id": "QJvAHaNXUtp7"
      },
      "execution_count": null,
      "outputs": []
    },
    {
      "cell_type": "code",
      "source": [],
      "metadata": {
        "id": "atUCWLapU6DE"
      },
      "execution_count": null,
      "outputs": []
    }
  ],
  "metadata": {
    "colab": {
      "provenance": [],
      "include_colab_link": true
    },
    "kernelspec": {
      "display_name": "Python 3",
      "name": "python3"
    },
    "language_info": {
      "name": "python"
    }
  },
  "nbformat": 4,
  "nbformat_minor": 0
}